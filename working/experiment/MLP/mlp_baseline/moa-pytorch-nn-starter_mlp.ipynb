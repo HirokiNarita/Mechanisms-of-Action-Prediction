{
 "cells": [
  {
   "cell_type": "markdown",
   "metadata": {
    "papermill": {
     "duration": 0.009121,
     "end_time": "2020-09-08T13:58:46.154904",
     "exception": false,
     "start_time": "2020-09-08T13:58:46.145783",
     "status": "completed"
    },
    "tags": []
   },
   "source": [
    "# About this notebook\n",
    "\n",
    "- PyTorch NN starter code\n",
    "- MultilabelStratifiedKFold 5 folds \n",
    "\n",
    "If this notebook is helpful, feel free to upvote :)"
   ]
  },
  {
   "cell_type": "markdown",
   "metadata": {
    "papermill": {
     "duration": 0.008966,
     "end_time": "2020-09-08T13:58:46.171673",
     "exception": false,
     "start_time": "2020-09-08T13:58:46.162707",
     "status": "completed"
    },
    "tags": []
   },
   "source": [
    "# Library"
   ]
  },
  {
   "cell_type": "code",
   "execution_count": 1,
   "metadata": {
    "execution": {
     "iopub.execute_input": "2020-09-08T13:58:46.193221Z",
     "iopub.status.busy": "2020-09-08T13:58:46.192262Z",
     "iopub.status.idle": "2020-09-08T13:58:47.177283Z",
     "shell.execute_reply": "2020-09-08T13:58:47.176008Z"
    },
    "papermill": {
     "duration": 0.998011,
     "end_time": "2020-09-08T13:58:47.177459",
     "exception": false,
     "start_time": "2020-09-08T13:58:46.179448",
     "status": "completed"
    },
    "tags": []
   },
   "outputs": [],
   "source": [
    "#import sys\n",
    "#sys.path.append('../input/iterative-stratification/iterative-stratification-master')\n",
    "from iterstrat.ml_stratifiers import MultilabelStratifiedKFold"
   ]
  },
  {
   "cell_type": "code",
   "execution_count": 2,
   "metadata": {
    "_cell_guid": "b1076dfc-b9ad-4769-8c92-a6c4dae69d19",
    "_uuid": "8f2839f25d086af736a60e9eeb907d3b93b6e0e5",
    "execution": {
     "iopub.execute_input": "2020-09-08T13:58:47.202786Z",
     "iopub.status.busy": "2020-09-08T13:58:47.201985Z",
     "iopub.status.idle": "2020-09-08T13:58:49.136558Z",
     "shell.execute_reply": "2020-09-08T13:58:49.135637Z"
    },
    "papermill": {
     "duration": 1.950692,
     "end_time": "2020-09-08T13:58:49.136686",
     "exception": false,
     "start_time": "2020-09-08T13:58:47.185994",
     "status": "completed"
    },
    "tags": []
   },
   "outputs": [],
   "source": [
    "import os\n",
    "import gc\n",
    "import random\n",
    "import math\n",
    "import time\n",
    "from collections import defaultdict\n",
    "\n",
    "import numpy as np\n",
    "import pandas as pd\n",
    "\n",
    "from sklearn.model_selection import StratifiedKFold, GroupKFold, KFold\n",
    "from sklearn.metrics import log_loss\n",
    "\n",
    "import category_encoders as ce\n",
    "\n",
    "import torch\n",
    "import torch.nn as nn\n",
    "from torch.utils.data import DataLoader, Dataset\n",
    "import torch.optim as optim\n",
    "import torch.nn.functional as F\n",
    "\n",
    "import warnings\n",
    "warnings.filterwarnings(\"ignore\")\n",
    "\n",
    "device = torch.device('cuda' if torch.cuda.is_available() else 'cpu')\n",
    "\n",
    "import common as com\n",
    "from MLP_Dataset import TrainDataset, TestDataset\n",
    "from MLP_Model import FCBlock, TabularNN\n",
    "from trainer import train_fn, validate_fn, inference_fn, AverageMeter\n",
    "from config import CFG"
   ]
  },
  {
   "cell_type": "markdown",
   "metadata": {
    "papermill": {
     "duration": 0.007314,
     "end_time": "2020-09-08T13:58:49.151697",
     "exception": false,
     "start_time": "2020-09-08T13:58:49.144383",
     "status": "completed"
    },
    "tags": []
   },
   "source": [
    "# Utils"
   ]
  },
  {
   "cell_type": "code",
   "execution_count": 3,
   "metadata": {},
   "outputs": [],
   "source": [
    "out_base_path = \"./result\"\n",
    "model_path = out_base_path + '/model'\n",
    "os.makedirs(out_base_path, exist_ok=True)\n",
    "os.makedirs(model_path, exist_ok=True)"
   ]
  },
  {
   "cell_type": "code",
   "execution_count": 4,
   "metadata": {
    "execution": {
     "iopub.execute_input": "2020-09-08T13:58:49.177284Z",
     "iopub.status.busy": "2020-09-08T13:58:49.176543Z",
     "iopub.status.idle": "2020-09-08T13:58:49.189249Z",
     "shell.execute_reply": "2020-09-08T13:58:49.188704Z"
    },
    "papermill": {
     "duration": 0.030233,
     "end_time": "2020-09-08T13:58:49.189342",
     "exception": false,
     "start_time": "2020-09-08T13:58:49.159109",
     "status": "completed"
    },
    "tags": []
   },
   "outputs": [],
   "source": [
    "logger = com.get_logger(out_base_path+'/mlp_baseline')\n",
    "com.seed_everything(seed=42)"
   ]
  },
  {
   "cell_type": "markdown",
   "metadata": {
    "papermill": {
     "duration": 0.007091,
     "end_time": "2020-09-08T13:58:49.204038",
     "exception": false,
     "start_time": "2020-09-08T13:58:49.196947",
     "status": "completed"
    },
    "tags": []
   },
   "source": [
    "# Data Loading"
   ]
  },
  {
   "cell_type": "code",
   "execution_count": 5,
   "metadata": {
    "execution": {
     "iopub.execute_input": "2020-09-08T13:58:49.222867Z",
     "iopub.status.busy": "2020-09-08T13:58:49.222260Z",
     "iopub.status.idle": "2020-09-08T13:58:49.230823Z",
     "shell.execute_reply": "2020-09-08T13:58:49.231354Z"
    },
    "papermill": {
     "duration": 0.020131,
     "end_time": "2020-09-08T13:58:49.231518",
     "exception": false,
     "start_time": "2020-09-08T13:58:49.211387",
     "status": "completed"
    },
    "tags": []
   },
   "outputs": [
    {
     "data": {
      "text/plain": [
       "['sample_submission.csv',\n",
       " 'test_features.csv',\n",
       " 'train_features.csv',\n",
       " 'train_targets_nonscored.csv',\n",
       " 'train_targets_scored.csv']"
      ]
     },
     "execution_count": 5,
     "metadata": {},
     "output_type": "execute_result"
    }
   ],
   "source": [
    "base_dir = '/media/hiroki/working/kaggle/Mechanisms-of-Action-Prediction/datasets'\n",
    "#os.listdir('../input/lish-moa')\n",
    "os.listdir(base_dir)"
   ]
  },
  {
   "cell_type": "code",
   "execution_count": 6,
   "metadata": {
    "_cell_guid": "79c7e3d0-c299-4dcb-8224-4455121ee9b0",
    "_uuid": "d629ff2d2480ee46fbb7e2d37f6b5fab8052498a",
    "execution": {
     "iopub.execute_input": "2020-09-08T13:58:49.254972Z",
     "iopub.status.busy": "2020-09-08T13:58:49.253876Z",
     "iopub.status.idle": "2020-09-08T13:58:55.736099Z",
     "shell.execute_reply": "2020-09-08T13:58:55.734864Z"
    },
    "papermill": {
     "duration": 6.496887,
     "end_time": "2020-09-08T13:58:55.736222",
     "exception": false,
     "start_time": "2020-09-08T13:58:49.239335",
     "status": "completed"
    },
    "tags": []
   },
   "outputs": [],
   "source": [
    "train_features = pd.read_csv(base_dir + '/train_features.csv')\n",
    "train_targets_scored = pd.read_csv(base_dir + '/train_targets_scored.csv')\n",
    "train_targets_nonscored = pd.read_csv(base_dir + '/train_targets_nonscored.csv')\n",
    "test_features = pd.read_csv(base_dir + '/test_features.csv')\n",
    "submission = pd.read_csv(base_dir + '/sample_submission.csv')\n",
    "\n",
    "#train_features = pd.read_csv('../input/lish-moa/train_features.csv')\n",
    "#train_targets_scored = pd.read_csv('../input/lish-moa/train_targets_scored.csv')\n",
    "#train_targets_nonscored = pd.read_csv('../input/lish-moa/train_targets_nonscored.csv')\n",
    "#test_features = pd.read_csv('../input/lish-moa/test_features.csv')\n",
    "#submission = pd.read_csv('../input/lish-moa/sample_submission.csv')"
   ]
  },
  {
   "cell_type": "code",
   "execution_count": 7,
   "metadata": {
    "execution": {
     "iopub.execute_input": "2020-09-08T13:58:55.762981Z",
     "iopub.status.busy": "2020-09-08T13:58:55.761701Z",
     "iopub.status.idle": "2020-09-08T13:58:55.997813Z",
     "shell.execute_reply": "2020-09-08T13:58:55.998342Z"
    },
    "papermill": {
     "duration": 0.253831,
     "end_time": "2020-09-08T13:58:55.998511",
     "exception": false,
     "start_time": "2020-09-08T13:58:55.744680",
     "status": "completed"
    },
    "tags": []
   },
   "outputs": [
    {
     "data": {
      "text/plain": [
       "cp_type\n",
       "ctl_vehicle        0\n",
       "trt_cp         16844\n",
       "dtype: int64"
      ]
     },
     "execution_count": 7,
     "metadata": {},
     "output_type": "execute_result"
    }
   ],
   "source": [
    "# ref: https://www.kaggle.com/c/lish-moa/discussion/180165\n",
    "# check if labels for 'ctl_vehicle' are all 0.\n",
    "train = train_features.merge(train_targets_scored, on='sig_id')\n",
    "target_cols = [c for c in train_targets_scored.columns if c not in ['sig_id']]\n",
    "cols = target_cols + ['cp_type']\n",
    "train[cols].groupby('cp_type').sum().sum(1)"
   ]
  },
  {
   "cell_type": "markdown",
   "metadata": {
    "papermill": {
     "duration": 0.007676,
     "end_time": "2020-09-08T13:58:56.015585",
     "exception": false,
     "start_time": "2020-09-08T13:58:56.007909",
     "status": "completed"
    },
    "tags": []
   },
   "source": [
    "- labels for 'ctl_vehicle' are all 0."
   ]
  },
  {
   "cell_type": "code",
   "execution_count": 8,
   "metadata": {
    "execution": {
     "iopub.execute_input": "2020-09-08T13:58:56.043408Z",
     "iopub.status.busy": "2020-09-08T13:58:56.042271Z",
     "iopub.status.idle": "2020-09-08T13:58:56.208019Z",
     "shell.execute_reply": "2020-09-08T13:58:56.208600Z"
    },
    "papermill": {
     "duration": 0.184939,
     "end_time": "2020-09-08T13:58:56.208766",
     "exception": false,
     "start_time": "2020-09-08T13:58:56.023827",
     "status": "completed"
    },
    "tags": []
   },
   "outputs": [
    {
     "name": "stdout",
     "output_type": "stream",
     "text": [
      "(23814, 876) (3982, 876)\n",
      "(21948, 1082) (3624, 876)\n"
     ]
    }
   ],
   "source": [
    "# constrcut train&test except 'cp_type'=='ctl_vehicle' data\n",
    "print(train_features.shape, test_features.shape)\n",
    "train = train[train['cp_type']!='ctl_vehicle'].reset_index(drop=True)\n",
    "test = test_features[test_features['cp_type']!='ctl_vehicle'].reset_index(drop=True)\n",
    "print(train.shape, test.shape)"
   ]
  },
  {
   "cell_type": "markdown",
   "metadata": {
    "papermill": {
     "duration": 0.00855,
     "end_time": "2020-09-08T13:58:56.226376",
     "exception": false,
     "start_time": "2020-09-08T13:58:56.217826",
     "status": "completed"
    },
    "tags": []
   },
   "source": [
    "# CV split"
   ]
  },
  {
   "cell_type": "code",
   "execution_count": 9,
   "metadata": {
    "execution": {
     "iopub.execute_input": "2020-09-08T13:58:56.251981Z",
     "iopub.status.busy": "2020-09-08T13:58:56.250632Z",
     "iopub.status.idle": "2020-09-08T13:58:58.019641Z",
     "shell.execute_reply": "2020-09-08T13:58:58.020506Z"
    },
    "papermill": {
     "duration": 1.785415,
     "end_time": "2020-09-08T13:58:58.020651",
     "exception": false,
     "start_time": "2020-09-08T13:58:56.235236",
     "status": "completed"
    },
    "tags": []
   },
   "outputs": [
    {
     "name": "stdout",
     "output_type": "stream",
     "text": [
      "(21948, 1083)\n"
     ]
    }
   ],
   "source": [
    "folds = train.copy()\n",
    "Fold = MultilabelStratifiedKFold(n_splits=5, shuffle=True, random_state=42)\n",
    "for n, (train_index, val_index) in enumerate(Fold.split(folds, folds[target_cols])):\n",
    "    folds.loc[val_index, 'fold'] = int(n)\n",
    "folds['fold'] = folds['fold'].astype(int)\n",
    "print(folds.shape)"
   ]
  },
  {
   "cell_type": "markdown",
   "metadata": {
    "papermill": {
     "duration": 0.007618,
     "end_time": "2020-09-08T13:58:58.036180",
     "exception": false,
     "start_time": "2020-09-08T13:58:58.028562",
     "status": "completed"
    },
    "tags": []
   },
   "source": [
    "# Dataset"
   ]
  },
  {
   "cell_type": "code",
   "execution_count": 10,
   "metadata": {
    "execution": {
     "iopub.execute_input": "2020-09-08T13:58:58.091211Z",
     "iopub.status.busy": "2020-09-08T13:58:58.090254Z",
     "iopub.status.idle": "2020-09-08T13:58:58.255818Z",
     "shell.execute_reply": "2020-09-08T13:58:58.255246Z"
    },
    "papermill": {
     "duration": 0.181326,
     "end_time": "2020-09-08T13:58:58.255956",
     "exception": false,
     "start_time": "2020-09-08T13:58:58.074630",
     "status": "completed"
    },
    "tags": []
   },
   "outputs": [],
   "source": [
    "cat_features = ['cp_time', 'cp_dose']\n",
    "num_features = [c for c in train.columns if train.dtypes[c] != 'object']\n",
    "num_features = [c for c in num_features if c not in cat_features]\n",
    "num_features = [c for c in num_features if c not in target_cols]\n",
    "target = train[target_cols].values\n",
    "\n",
    "def cate2num(df):\n",
    "    df['cp_time'] = df['cp_time'].map({24: 0, 48: 1, 72: 2})\n",
    "    df['cp_dose'] = df['cp_dose'].map({'D1': 3, 'D2': 4})\n",
    "    return df\n",
    "\n",
    "train = cate2num(train)\n",
    "test = cate2num(test)"
   ]
  },
  {
   "cell_type": "markdown",
   "metadata": {
    "papermill": {
     "duration": 0.009087,
     "end_time": "2020-09-08T13:58:58.272946",
     "exception": false,
     "start_time": "2020-09-08T13:58:58.263859",
     "status": "completed"
    },
    "tags": []
   },
   "source": [
    "# MODEL"
   ]
  },
  {
   "cell_type": "code",
   "execution_count": 11,
   "metadata": {
    "execution": {
     "iopub.execute_input": "2020-09-08T13:58:58.459240Z",
     "iopub.status.busy": "2020-09-08T13:58:58.458364Z",
     "iopub.status.idle": "2020-09-08T13:58:58.492244Z",
     "shell.execute_reply": "2020-09-08T13:58:58.493256Z"
    },
    "papermill": {
     "duration": 0.055118,
     "end_time": "2020-09-08T13:58:58.493441",
     "exception": false,
     "start_time": "2020-09-08T13:58:58.438323",
     "status": "completed"
    },
    "tags": []
   },
   "outputs": [],
   "source": [
    "def run_single_nn(cfg, train, test, folds, num_features, cat_features, target, target_cols, device, model_path, fold_num=0, seed=42):\n",
    "    \n",
    "    # Set seed\n",
    "    logger.info(f'Set seed {seed}')\n",
    "    com.seed_everything(seed=seed)\n",
    "\n",
    "    # loader\n",
    "    trn_idx = folds[folds['fold'] != fold_num].index\n",
    "    val_idx = folds[folds['fold'] == fold_num].index\n",
    "    train_folds = train.loc[trn_idx].reset_index(drop=True)\n",
    "    valid_folds = train.loc[val_idx].reset_index(drop=True)\n",
    "    train_target = target[trn_idx]\n",
    "    valid_target = target[val_idx]\n",
    "    train_dataset = TrainDataset(train_folds, num_features, cat_features, train_target)\n",
    "    valid_dataset = TrainDataset(valid_folds, num_features, cat_features, valid_target)\n",
    "    train_loader = DataLoader(train_dataset, batch_size=cfg.batch_size, shuffle=True, \n",
    "                              num_workers=4, pin_memory=True, drop_last=True)\n",
    "    valid_loader = DataLoader(valid_dataset, batch_size=cfg.batch_size, shuffle=False, \n",
    "                              num_workers=4, pin_memory=True, drop_last=False)\n",
    "\n",
    "    # model\n",
    "    model = TabularNN(cfg, num_features, target_cols)\n",
    "    model.to(device)\n",
    "    optimizer = optim.Adam(model.parameters(), lr=cfg.lr, weight_decay=cfg.weight_decay)\n",
    "    scheduler = optim.lr_scheduler.OneCycleLR(optimizer=optimizer, pct_start=0.1, div_factor=1e3, \n",
    "                                              max_lr=1e-2, epochs=cfg.epochs, steps_per_epoch=len(train_loader))\n",
    "\n",
    "    # log\n",
    "    log_df = pd.DataFrame(columns=(['EPOCH']+['TRAIN_LOSS']+['VALID_LOSS']) )\n",
    "\n",
    "    # train & validate\n",
    "    best_loss = np.inf\n",
    "    early_stopping_cnt = 0\n",
    "    for epoch in range(cfg.epochs):\n",
    "        train_loss = train_fn(train_loader, model, optimizer, epoch, scheduler, device)\n",
    "        valid_loss, val_preds = validate_fn(valid_loader, model, device)\n",
    "        log_row = {'EPOCH': epoch, \n",
    "                   'TRAIN_LOSS': train_loss,\n",
    "                   'VALID_LOSS': valid_loss,\n",
    "                  }\n",
    "        log_df = log_df.append(pd.DataFrame(log_row, index=[0]), sort=False)\n",
    "        #logger.info(log_df.tail(1))\n",
    "        if valid_loss < best_loss:\n",
    "            logger.info(f'epoch{epoch} save best model... tr_loss:{train_loss}, val_loss{valid_loss}')\n",
    "            best_loss = valid_loss\n",
    "            oof = np.zeros((len(train), len(target_cols)))\n",
    "            oof[val_idx] = val_preds\n",
    "            torch.save(model.state_dict(), model_path + f\"/fold{fold_num}_seed{seed}.pth\")\n",
    "            best_epoch = epoch\n",
    "            early_stopping_cnt = 0\n",
    "        else:\n",
    "            early_stopping_cnt += 1\n",
    "            if early_stopping_cnt == cfg.early_stopping_rounds:\n",
    "                logger.info(f'best epoch: epoch{best_epoch}')\n",
    "                break\n",
    "\n",
    "    # predictions\n",
    "    test_dataset = TestDataset(test, num_features, cat_features)\n",
    "    test_loader = DataLoader(test_dataset, batch_size=cfg.batch_size, shuffle=False, \n",
    "                             num_workers=4, pin_memory=True)\n",
    "    model = TabularNN(cfg, num_features, target_cols)\n",
    "    model.load_state_dict(torch.load(model_path + f\"/fold{fold_num}_seed{seed}.pth\"))\n",
    "    model.to(device)\n",
    "    predictions = inference_fn(test_loader, model, device)\n",
    "    \n",
    "    # del\n",
    "    torch.cuda.empty_cache()\n",
    "\n",
    "    return oof, predictions, log_df\n",
    "\n",
    "\n",
    "def run_kfold_nn(cfg, train, test, folds, num_features, cat_features, target, target_cols, device, model_path, n_fold=5, seed=42):\n",
    "\n",
    "    oof = np.zeros((len(train), len(target_cols)))\n",
    "    predictions = np.zeros((len(test), len(target_cols)))\n",
    "    log_dfs = []\n",
    "    for _fold in range(n_fold):\n",
    "        logger.info(\"Fold {}\".format(_fold))\n",
    "        _oof, _predictions, log_df = run_single_nn(cfg,\n",
    "                                                   train,\n",
    "                                                   test,\n",
    "                                                   folds,\n",
    "                                                   num_features, \n",
    "                                                   cat_features,\n",
    "                                                   target,\n",
    "                                                   target_cols,\n",
    "                                                   device,\n",
    "                                                   model_path,\n",
    "                                                   fold_num=_fold,\n",
    "                                                   seed=seed)\n",
    "        oof += _oof\n",
    "        predictions += _predictions / n_fold\n",
    "        log_dfs.append(log_df)\n",
    "\n",
    "    score = 0\n",
    "    for i in range(target.shape[1]):\n",
    "        _score = log_loss(target[:,i], oof[:,i])\n",
    "        score += _score / target.shape[1]\n",
    "    logger.info(f\"CV score: {score}\")\n",
    "    \n",
    "    return oof, predictions, log_dfs"
   ]
  },
  {
   "cell_type": "code",
   "execution_count": 12,
   "metadata": {
    "execution": {
     "iopub.execute_input": "2020-09-08T13:58:58.526361Z",
     "iopub.status.busy": "2020-09-08T13:58:58.525507Z",
     "iopub.status.idle": "2020-09-08T14:25:57.161365Z",
     "shell.execute_reply": "2020-09-08T14:25:57.161997Z"
    },
    "papermill": {
     "duration": 1618.657617,
     "end_time": "2020-09-08T14:25:57.162167",
     "exception": false,
     "start_time": "2020-09-08T13:58:58.504550",
     "status": "completed"
    },
    "tags": []
   },
   "outputs": [
    {
     "name": "stderr",
     "output_type": "stream",
     "text": [
      "Fold 0\n",
      "Set seed 42\n",
      "epoch0 save best model... tr_loss:0.572882821361949, val_loss0.5055522397058699\n",
      "epoch1 save best model... tr_loss:0.342186775031316, val_loss0.3608704112113744\n",
      "epoch2 save best model... tr_loss:0.21028415265962155, val_loss0.26862836090470227\n",
      "epoch3 save best model... tr_loss:0.13687151915183032, val_loss0.20710390886304592\n",
      "epoch4 save best model... tr_loss:0.09411746970493429, val_loss0.16338148814942136\n",
      "epoch5 save best model... tr_loss:0.06857267672019283, val_loss0.12882312998209564\n",
      "epoch6 save best model... tr_loss:0.05224197517645403, val_loss0.10252953714824754\n",
      "epoch7 save best model... tr_loss:0.04165798866863016, val_loss0.08503408500911978\n",
      "epoch8 save best model... tr_loss:0.03485181750253822, val_loss0.07168381131319902\n",
      "epoch9 save best model... tr_loss:0.030345757138391917, val_loss0.05983186124024196\n",
      "epoch10 save best model... tr_loss:0.027196080542856108, val_loss0.052748787168897096\n",
      "epoch11 save best model... tr_loss:0.025060093009939593, val_loss0.04667473550639826\n",
      "epoch12 save best model... tr_loss:0.02360751467287867, val_loss0.04073379048589693\n",
      "epoch13 save best model... tr_loss:0.022546994374099658, val_loss0.037053251487960306\n",
      "epoch14 save best model... tr_loss:0.021796413382895997, val_loss0.0341689914846814\n",
      "epoch15 save best model... tr_loss:0.021256614095755737, val_loss0.03150949434701837\n",
      "epoch16 save best model... tr_loss:0.020748977877376396, val_loss0.02952359720283869\n",
      "epoch17 save best model... tr_loss:0.020351710074995883, val_loss0.028274019209324364\n",
      "epoch18 save best model... tr_loss:0.02004947628227681, val_loss0.0270340029650913\n",
      "epoch19 save best model... tr_loss:0.01977477589601746, val_loss0.02608184646433198\n",
      "epoch20 save best model... tr_loss:0.019483737927949885, val_loss0.025040441929683056\n",
      "epoch21 save best model... tr_loss:0.019267241280172428, val_loss0.024538675211964\n",
      "epoch22 save best model... tr_loss:0.019062437322738504, val_loss0.023768649852764633\n",
      "epoch23 save best model... tr_loss:0.018877174650883153, val_loss0.02340939234356674\n",
      "epoch24 save best model... tr_loss:0.018658326911556458, val_loss0.02306696467508895\n",
      "epoch25 save best model... tr_loss:0.01848062251551743, val_loss0.02267272021952414\n",
      "epoch26 save best model... tr_loss:0.018266470778230442, val_loss0.0223204447266249\n",
      "epoch27 save best model... tr_loss:0.018080383486515524, val_loss0.021841891255900095\n",
      "epoch28 save best model... tr_loss:0.017940957818085152, val_loss0.02179896706261233\n",
      "epoch29 save best model... tr_loss:0.017764327935466583, val_loss0.021279942020264737\n",
      "epoch30 save best model... tr_loss:0.017652671935417464, val_loss0.02114056972510994\n",
      "epoch31 save best model... tr_loss:0.017428085092373573, val_loss0.020593185216222373\n",
      "epoch34 save best model... tr_loss:0.016962539958665625, val_loss0.0203089079944786\n",
      "epoch35 save best model... tr_loss:0.01680134885679305, val_loss0.020249749815138163\n",
      "epoch36 save best model... tr_loss:0.016657758665604205, val_loss0.01982524432326775\n",
      "epoch39 save best model... tr_loss:0.016212443561109638, val_loss0.01944259090820043\n",
      "epoch40 save best model... tr_loss:0.016034584031882185, val_loss0.018987689887710203\n",
      "epoch44 save best model... tr_loss:0.015477149288448757, val_loss0.01887397454300543\n",
      "epoch46 save best model... tr_loss:0.015164568699066983, val_loss0.018644076819979247\n",
      "epoch47 save best model... tr_loss:0.01497764756433992, val_loss0.018403537795881067\n",
      "epoch48 save best model... tr_loss:0.014790579570409754, val_loss0.018196620224022513\n",
      "epoch50 save best model... tr_loss:0.014516254346545812, val_loss0.018176580610385924\n",
      "epoch51 save best model... tr_loss:0.014333249561753749, val_loss0.018128651298226148\n",
      "epoch52 save best model... tr_loss:0.014201217397272477, val_loss0.017802413191077785\n",
      "epoch56 save best model... tr_loss:0.013610704358408813, val_loss0.017777023985897082\n",
      "epoch57 save best model... tr_loss:0.013391668921893966, val_loss0.01768181769215504\n",
      "epoch58 save best model... tr_loss:0.01325976957624819, val_loss0.01746505276217276\n",
      "epoch60 save best model... tr_loss:0.012912112022206242, val_loss0.017377629249880688\n",
      "epoch63 save best model... tr_loss:0.01245053659149031, val_loss0.017347190263076497\n",
      "epoch64 save best model... tr_loss:0.012312414799307059, val_loss0.01730286542088608\n",
      "epoch65 save best model... tr_loss:0.012249630988052073, val_loss0.017288312277330218\n",
      "epoch66 save best model... tr_loss:0.011956711905586948, val_loss0.017235723124702455\n",
      "best epoch: epoch66\n",
      "Fold 1\n",
      "Set seed 42\n",
      "epoch0 save best model... tr_loss:0.5727828205937017, val_loss0.5012443488170998\n",
      "epoch1 save best model... tr_loss:0.34214577513889677, val_loss0.3634819219215584\n",
      "epoch2 save best model... tr_loss:0.21074742666126167, val_loss0.2708692161803365\n",
      "epoch3 save best model... tr_loss:0.13692312226732717, val_loss0.2028622801048609\n",
      "epoch4 save best model... tr_loss:0.094299303897976, val_loss0.15846048135963822\n",
      "epoch5 save best model... tr_loss:0.0686890609004963, val_loss0.12895364353352637\n",
      "epoch6 save best model... tr_loss:0.05238847381496516, val_loss0.10201216671692212\n",
      "epoch7 save best model... tr_loss:0.04167492699938534, val_loss0.08399649677216871\n",
      "epoch8 save best model... tr_loss:0.03486626507904734, val_loss0.0704963873045048\n",
      "epoch9 save best model... tr_loss:0.030314099539859887, val_loss0.061256399326416786\n",
      "epoch10 save best model... tr_loss:0.027269227549188983, val_loss0.05189906686442588\n",
      "epoch11 save best model... tr_loss:0.025101703527064003, val_loss0.045713898974018924\n",
      "epoch12 save best model... tr_loss:0.023641385819531815, val_loss0.041007771955671506\n",
      "epoch13 save best model... tr_loss:0.022607170460052298, val_loss0.036992944125298216\n",
      "epoch14 save best model... tr_loss:0.021847086384158283, val_loss0.03452730025069317\n",
      "epoch15 save best model... tr_loss:0.021231485495044694, val_loss0.031757604821260534\n",
      "epoch16 save best model... tr_loss:0.020788917066461413, val_loss0.02900095312327893\n",
      "epoch17 save best model... tr_loss:0.020401137702534124, val_loss0.028389380685560794\n",
      "epoch18 save best model... tr_loss:0.020041673267464134, val_loss0.027279531606101772\n",
      "epoch19 save best model... tr_loss:0.019796348238078347, val_loss0.026192002994663895\n",
      "epoch20 save best model... tr_loss:0.019530215490962902, val_loss0.025466824835484556\n",
      "epoch21 save best model... tr_loss:0.019278954345746523, val_loss0.02429187730514786\n",
      "epoch22 save best model... tr_loss:0.019036333353673347, val_loss0.02405921730015571\n",
      "epoch23 save best model... tr_loss:0.018801795024710306, val_loss0.02307835836345351\n",
      "epoch24 save best model... tr_loss:0.018626270912601238, val_loss0.022908218131996776\n",
      "epoch25 save best model... tr_loss:0.018444538673889028, val_loss0.022619927408924677\n",
      "epoch26 save best model... tr_loss:0.01825410731979748, val_loss0.022565523874447393\n",
      "epoch27 save best model... tr_loss:0.018087153656095485, val_loss0.0220908351200113\n",
      "epoch28 save best model... tr_loss:0.017911715295342523, val_loss0.02183922602453509\n",
      "epoch29 save best model... tr_loss:0.01773983414835521, val_loss0.02145475871385773\n",
      "epoch31 save best model... tr_loss:0.017392404538912387, val_loss0.02125217564624643\n",
      "epoch32 save best model... tr_loss:0.017245770661486654, val_loss0.02068217214035689\n",
      "epoch34 save best model... tr_loss:0.01691270950692196, val_loss0.02033837484471619\n",
      "epoch36 save best model... tr_loss:0.01658343974956359, val_loss0.02020712356106431\n",
      "epoch37 save best model... tr_loss:0.016421421578860958, val_loss0.019783482071784472\n",
      "epoch39 save best model... tr_loss:0.016187111158807672, val_loss0.019442164257236657\n",
      "epoch42 save best model... tr_loss:0.015726071692336977, val_loss0.019393160379998775\n",
      "epoch43 save best model... tr_loss:0.015582876285048623, val_loss0.018984905714360078\n",
      "epoch45 save best model... tr_loss:0.015218065132176245, val_loss0.01877225989429174\n",
      "epoch46 save best model... tr_loss:0.01517022160106223, val_loss0.018742316010872704\n",
      "epoch48 save best model... tr_loss:0.014823537948711293, val_loss0.018246494202210584\n",
      "epoch52 save best model... tr_loss:0.014140082390666225, val_loss0.01815290483296053\n",
      "epoch53 save best model... tr_loss:0.01397649261056969, val_loss0.017831716330081293\n",
      "epoch57 save best model... tr_loss:0.013384433970514711, val_loss0.017806844370002628\n",
      "epoch58 save best model... tr_loss:0.013161468286454732, val_loss0.017745753896161745\n"
     ]
    },
    {
     "name": "stderr",
     "output_type": "stream",
     "text": [
      "epoch59 save best model... tr_loss:0.013093302247325217, val_loss0.017706216359192797\n",
      "epoch61 save best model... tr_loss:0.0127161058918471, val_loss0.017621068983149964\n",
      "epoch62 save best model... tr_loss:0.012558189636252711, val_loss0.01744191476434537\n",
      "epoch65 save best model... tr_loss:0.012091419843100283, val_loss0.01742034893745985\n",
      "epoch67 save best model... tr_loss:0.011891623593554118, val_loss0.01741029226511785\n",
      "epoch68 save best model... tr_loss:0.011802691526126362, val_loss0.017372406695827264\n",
      "best epoch: epoch68\n",
      "Fold 2\n",
      "Set seed 42\n",
      "epoch0 save best model... tr_loss:0.5722914976577689, val_loss0.5030687253291581\n",
      "epoch1 save best model... tr_loss:0.34227882369156304, val_loss0.36360373964720366\n",
      "epoch2 save best model... tr_loss:0.21077583102087905, val_loss0.2703187836414319\n",
      "epoch3 save best model... tr_loss:0.13707466964630316, val_loss0.20517804420165467\n",
      "epoch4 save best model... tr_loss:0.09435263261144614, val_loss0.15963667210494503\n",
      "epoch5 save best model... tr_loss:0.0685511673902617, val_loss0.12755797547240494\n",
      "epoch6 save best model... tr_loss:0.05240794762044492, val_loss0.10198053686547914\n",
      "epoch7 save best model... tr_loss:0.04180219097158117, val_loss0.08628434155838287\n",
      "epoch8 save best model... tr_loss:0.03489638554326592, val_loss0.07004868490063375\n",
      "epoch9 save best model... tr_loss:0.030334091089312395, val_loss0.059259846623189956\n",
      "epoch10 save best model... tr_loss:0.027203152289301376, val_loss0.0529638945998649\n",
      "epoch11 save best model... tr_loss:0.025161744209251154, val_loss0.04589077204934392\n",
      "epoch12 save best model... tr_loss:0.023734596071859997, val_loss0.040912204222381454\n",
      "epoch13 save best model... tr_loss:0.022639353096784248, val_loss0.037080800480330876\n",
      "epoch14 save best model... tr_loss:0.021845146398447507, val_loss0.033549842507658856\n",
      "epoch15 save best model... tr_loss:0.02126373853840369, val_loss0.03139365315148732\n",
      "epoch16 save best model... tr_loss:0.020869976387148464, val_loss0.029738452049567668\n",
      "epoch17 save best model... tr_loss:0.020434089941414494, val_loss0.028561373284745662\n",
      "epoch18 save best model... tr_loss:0.02015810647306379, val_loss0.027155534490963324\n",
      "epoch19 save best model... tr_loss:0.019851095952351926, val_loss0.025685030585046672\n",
      "epoch20 save best model... tr_loss:0.019580923444013635, val_loss0.025193995204332967\n",
      "epoch21 save best model... tr_loss:0.01934017605712488, val_loss0.024446750693337252\n",
      "epoch22 save best model... tr_loss:0.019100104052451078, val_loss0.023899087445557077\n",
      "epoch23 save best model... tr_loss:0.018948051142064434, val_loss0.02340036115803692\n",
      "epoch24 save best model... tr_loss:0.01872637372015275, val_loss0.022882108206316018\n",
      "epoch25 save best model... tr_loss:0.018533756142400586, val_loss0.022435091345089937\n",
      "epoch26 save best model... tr_loss:0.018389628431929723, val_loss0.02223360209750624\n",
      "epoch27 save best model... tr_loss:0.018200215688111247, val_loss0.02202984948015941\n",
      "epoch28 save best model... tr_loss:0.018026944015338255, val_loss0.021655132144428137\n",
      "epoch29 save best model... tr_loss:0.017851533378426827, val_loss0.021162000664069106\n",
      "epoch30 save best model... tr_loss:0.0176914521139523, val_loss0.02095102875835737\n",
      "epoch31 save best model... tr_loss:0.017530034610620925, val_loss0.020542926285106084\n",
      "epoch33 save best model... tr_loss:0.017270316065622182, val_loss0.020441486607361937\n",
      "epoch34 save best model... tr_loss:0.017103975633648735, val_loss0.02031313444367436\n",
      "epoch35 save best model... tr_loss:0.016909827218207454, val_loss0.01984312719527329\n",
      "epoch37 save best model... tr_loss:0.01658318044080732, val_loss0.019722988864665395\n",
      "epoch38 save best model... tr_loss:0.016475488217615516, val_loss0.01969350615249364\n",
      "epoch39 save best model... tr_loss:0.01628349829689484, val_loss0.01937706019253211\n",
      "epoch41 save best model... tr_loss:0.016050379512573244, val_loss0.01916472544084312\n",
      "epoch42 save best model... tr_loss:0.0158502857980869, val_loss0.019092108620388834\n",
      "epoch43 save best model... tr_loss:0.015699633815237424, val_loss0.01866120046909027\n",
      "epoch46 save best model... tr_loss:0.015250208943973493, val_loss0.01856117980611144\n",
      "epoch47 save best model... tr_loss:0.015078946868175246, val_loss0.018265815645050597\n",
      "epoch48 save best model... tr_loss:0.014936942967457057, val_loss0.01817843246836649\n",
      "epoch49 save best model... tr_loss:0.014793949369952953, val_loss0.018131465007083975\n",
      "epoch51 save best model... tr_loss:0.014529922904861398, val_loss0.01782775479399634\n",
      "epoch53 save best model... tr_loss:0.014171085361200963, val_loss0.017624291124305712\n",
      "epoch55 save best model... tr_loss:0.01389549486424067, val_loss0.01745718228975538\n",
      "epoch56 save best model... tr_loss:0.013701813399152708, val_loss0.01737142136241111\n",
      "epoch57 save best model... tr_loss:0.013600885954746691, val_loss0.017268367222236333\n",
      "epoch58 save best model... tr_loss:0.013407945855568251, val_loss0.017154353421447107\n",
      "epoch61 save best model... tr_loss:0.012952958006772083, val_loss0.01706188755255472\n",
      "epoch64 save best model... tr_loss:0.01251040331519678, val_loss0.017000106809668007\n",
      "epoch65 save best model... tr_loss:0.012370849968049756, val_loss0.016891288394089318\n",
      "epoch67 save best model... tr_loss:0.012067862916363907, val_loss0.01679836046591479\n",
      "best epoch: epoch67\n",
      "Fold 3\n",
      "Set seed 42\n",
      "epoch0 save best model... tr_loss:0.5722666530713548, val_loss0.5021152440399135\n",
      "epoch1 save best model... tr_loss:0.3418167322112696, val_loss0.3611587817006339\n",
      "epoch2 save best model... tr_loss:0.21040840476860095, val_loss0.2722461646333642\n",
      "epoch3 save best model... tr_loss:0.13689035734664784, val_loss0.20857463445098634\n",
      "epoch4 save best model... tr_loss:0.0943358900555729, val_loss0.16094898977963962\n",
      "epoch5 save best model... tr_loss:0.06848202581197893, val_loss0.13100908860258742\n",
      "epoch6 save best model... tr_loss:0.05234559140011777, val_loss0.10472628091693197\n",
      "epoch7 save best model... tr_loss:0.04170842020752004, val_loss0.08466179872903302\n",
      "epoch8 save best model... tr_loss:0.03494191701340414, val_loss0.07070060660362515\n",
      "epoch9 save best model... tr_loss:0.030242429230443752, val_loss0.0601510177253998\n",
      "epoch10 save best model... tr_loss:0.02715258359446795, val_loss0.052351991182239835\n",
      "epoch11 save best model... tr_loss:0.02514464893194772, val_loss0.04540667019292271\n",
      "epoch12 save best model... tr_loss:0.023646048157999332, val_loss0.041573501346051554\n",
      "epoch13 save best model... tr_loss:0.022617512402960855, val_loss0.03696003693892092\n",
      "epoch14 save best model... tr_loss:0.021852904420862667, val_loss0.034132751841989085\n",
      "epoch15 save best model... tr_loss:0.021255729398792132, val_loss0.032132007784988724\n",
      "epoch16 save best model... tr_loss:0.02081531915902058, val_loss0.03023902085060275\n",
      "epoch17 save best model... tr_loss:0.020443565344750662, val_loss0.027990536474896455\n",
      "epoch18 save best model... tr_loss:0.020077229555641864, val_loss0.026758062638393296\n",
      "epoch19 save best model... tr_loss:0.019760202908766095, val_loss0.025888441198405752\n",
      "epoch20 save best model... tr_loss:0.01953325320347926, val_loss0.025497230432571204\n",
      "epoch21 save best model... tr_loss:0.019271376957423494, val_loss0.024521937735531487\n",
      "epoch22 save best model... tr_loss:0.01910897588738016, val_loss0.02379181142938843\n",
      "epoch23 save best model... tr_loss:0.01882169342321092, val_loss0.023247791330302494\n",
      "epoch24 save best model... tr_loss:0.018620097085180944, val_loss0.02294402231710511\n",
      "epoch25 save best model... tr_loss:0.018490523954744646, val_loss0.02282967641695078\n",
      "epoch26 save best model... tr_loss:0.018280543747228862, val_loss0.022395761676794575\n",
      "epoch27 save best model... tr_loss:0.018127114265599716, val_loss0.02216429485682746\n",
      "epoch28 save best model... tr_loss:0.017954420799688592, val_loss0.021888825628303993\n",
      "epoch29 save best model... tr_loss:0.017783900802737496, val_loss0.0213435628945708\n",
      "epoch30 save best model... tr_loss:0.01760246450197033, val_loss0.0209417331293395\n",
      "epoch31 save best model... tr_loss:0.017435670029847836, val_loss0.020703994313038564\n",
      "epoch33 save best model... tr_loss:0.017139672009396728, val_loss0.02049294588854006\n",
      "epoch35 save best model... tr_loss:0.016853457269170424, val_loss0.020305655306048165\n",
      "epoch36 save best model... tr_loss:0.016663813740898765, val_loss0.020155503213880818\n"
     ]
    },
    {
     "name": "stderr",
     "output_type": "stream",
     "text": [
      "epoch37 save best model... tr_loss:0.016526786809324893, val_loss0.01981217053916161\n",
      "epoch39 save best model... tr_loss:0.016240667767591612, val_loss0.019454394161684232\n",
      "epoch41 save best model... tr_loss:0.01590117377256227, val_loss0.019090576920072825\n",
      "epoch44 save best model... tr_loss:0.015486555077971713, val_loss0.018943852161594023\n",
      "epoch45 save best model... tr_loss:0.0152999267269293, val_loss0.01874624118208885\n",
      "epoch47 save best model... tr_loss:0.01503147807543295, val_loss0.018539549822331424\n",
      "epoch49 save best model... tr_loss:0.014720801542764598, val_loss0.01819260692890046\n",
      "epoch50 save best model... tr_loss:0.014571761093816183, val_loss0.017983584013048365\n",
      "epoch54 save best model... tr_loss:0.013956892484268785, val_loss0.017842890133398133\n",
      "epoch55 save best model... tr_loss:0.013794450704552179, val_loss0.017744882870677662\n",
      "epoch56 save best model... tr_loss:0.013652226580034968, val_loss0.01773767105318555\n",
      "epoch57 save best model... tr_loss:0.013493758752044753, val_loss0.017532578373332094\n",
      "epoch60 save best model... tr_loss:0.013021684877139374, val_loss0.017517934108242088\n",
      "epoch61 save best model... tr_loss:0.012883605849317336, val_loss0.017417707554741438\n",
      "epoch63 save best model... tr_loss:0.012548153606467764, val_loss0.017334032883116624\n",
      "epoch64 save best model... tr_loss:0.012378173885377545, val_loss0.017243005586512268\n",
      "epoch66 save best model... tr_loss:0.01218754618537415, val_loss0.01724241906373946\n",
      "epoch69 save best model... tr_loss:0.011717093811050927, val_loss0.0172009158675858\n",
      "epoch70 save best model... tr_loss:0.011482729334350213, val_loss0.01719964828876808\n",
      "epoch72 save best model... tr_loss:0.011388660738258248, val_loss0.017198688411291747\n",
      "epoch78 save best model... tr_loss:0.010570286827528998, val_loss0.01716021608926169\n",
      "best epoch: epoch78\n",
      "Fold 4\n",
      "Set seed 42\n",
      "epoch0 save best model... tr_loss:0.5726749657170616, val_loss0.5055548992915315\n",
      "epoch1 save best model... tr_loss:0.3418410388331344, val_loss0.36309363736626116\n",
      "epoch2 save best model... tr_loss:0.21029840409755707, val_loss0.27039886402986024\n",
      "epoch3 save best model... tr_loss:0.13688156449229177, val_loss0.20809425017738103\n",
      "epoch4 save best model... tr_loss:0.09443741245535169, val_loss0.16102231410538914\n",
      "epoch5 save best model... tr_loss:0.06837696092624734, val_loss0.12924048905832725\n",
      "epoch6 save best model... tr_loss:0.0523053111685236, val_loss0.1033683097234862\n",
      "epoch7 save best model... tr_loss:0.04163740439693967, val_loss0.08624015279465641\n",
      "epoch8 save best model... tr_loss:0.03487486206334982, val_loss0.07079783151268715\n",
      "epoch9 save best model... tr_loss:0.030338209934777368, val_loss0.06059723356422517\n",
      "epoch10 save best model... tr_loss:0.02721317502649596, val_loss0.051947250205146664\n",
      "epoch11 save best model... tr_loss:0.025127670782053992, val_loss0.04553358814719191\n",
      "epoch12 save best model... tr_loss:0.02362071904761676, val_loss0.04068119341317003\n",
      "epoch13 save best model... tr_loss:0.02255240750131979, val_loss0.03664953810434239\n",
      "epoch14 save best model... tr_loss:0.021792378935990106, val_loss0.0339557817314006\n",
      "epoch15 save best model... tr_loss:0.021209225989878178, val_loss0.03144249686278279\n",
      "epoch16 save best model... tr_loss:0.02079042403646031, val_loss0.0297257090074397\n",
      "epoch17 save best model... tr_loss:0.020342459851182507, val_loss0.02854341770337475\n",
      "epoch18 save best model... tr_loss:0.020044219306241857, val_loss0.027318205394141086\n",
      "epoch19 save best model... tr_loss:0.019754194282335196, val_loss0.02605492389943611\n",
      "epoch20 save best model... tr_loss:0.01952068306791195, val_loss0.02513575447626933\n",
      "epoch21 save best model... tr_loss:0.01928983355811151, val_loss0.024158731980156344\n",
      "epoch23 save best model... tr_loss:0.018830280987219544, val_loss0.02351119457711172\n",
      "epoch24 save best model... tr_loss:0.01864257825531718, val_loss0.023156516654147433\n",
      "epoch25 save best model... tr_loss:0.01841427607421022, val_loss0.022929460751977073\n",
      "epoch26 save best model... tr_loss:0.01826311558498627, val_loss0.022419954538701825\n",
      "epoch27 save best model... tr_loss:0.01809464405753045, val_loss0.022081175243991686\n",
      "epoch28 save best model... tr_loss:0.017925210490849983, val_loss0.021842335766076526\n",
      "epoch29 save best model... tr_loss:0.017756238246649285, val_loss0.02139522678476174\n",
      "epoch30 save best model... tr_loss:0.01757959181945907, val_loss0.02123540288949711\n",
      "epoch31 save best model... tr_loss:0.01747267068377322, val_loss0.021057322676940535\n",
      "epoch33 save best model... tr_loss:0.017104984928996567, val_loss0.02024823855833628\n",
      "epoch35 save best model... tr_loss:0.016792756275878878, val_loss0.020060561123516476\n",
      "epoch37 save best model... tr_loss:0.016481682697283853, val_loss0.01986536737357424\n",
      "epoch39 save best model... tr_loss:0.016196439195641853, val_loss0.019715889969212124\n",
      "epoch40 save best model... tr_loss:0.0160648752595332, val_loss0.01948583260132732\n",
      "epoch41 save best model... tr_loss:0.01587350271390683, val_loss0.019390197414764783\n",
      "epoch42 save best model... tr_loss:0.01569421373878735, val_loss0.01935265253377133\n",
      "epoch44 save best model... tr_loss:0.01542435369257183, val_loss0.019169080234965573\n",
      "epoch45 save best model... tr_loss:0.015278415795225297, val_loss0.018978238605704658\n",
      "epoch46 save best model... tr_loss:0.015122059397875283, val_loss0.018597467598121458\n",
      "epoch50 save best model... tr_loss:0.014475458510641526, val_loss0.018539003613639405\n",
      "epoch51 save best model... tr_loss:0.014430113785125206, val_loss0.01828641987769207\n",
      "epoch53 save best model... tr_loss:0.014097142587313904, val_loss0.017872662210909575\n",
      "epoch54 save best model... tr_loss:0.013875133131909436, val_loss0.017753411225735205\n",
      "epoch59 save best model... tr_loss:0.01313818015844772, val_loss0.01772121255307045\n",
      "epoch60 save best model... tr_loss:0.012890656434516184, val_loss0.017574908652980076\n",
      "epoch62 save best model... tr_loss:0.012695706264204243, val_loss0.017534394409421786\n",
      "epoch65 save best model... tr_loss:0.012170846092201986, val_loss0.01753098558482588\n",
      "epoch67 save best model... tr_loss:0.011969693547223497, val_loss0.017378112442127717\n",
      "best epoch: epoch67\n",
      "CV score: 0.01718897425698432\n"
     ]
    }
   ],
   "source": [
    "# Seed Averaging for solid result\n",
    "oof = np.zeros((len(train), len(target_cols)))\n",
    "predictions = np.zeros((len(test), len(target_cols)))\n",
    "\n",
    "#SEED = [0, 1, 2]\n",
    "#for seed in SEED:\n",
    "oof, predictions, log_dfs = run_kfold_nn(CFG,\n",
    "                                         train, test, folds, \n",
    "                                         num_features, cat_features, target, target_cols,\n",
    "                                         device,\n",
    "                                         model_path=model_path,\n",
    "                                         n_fold=5, seed=42)\n",
    "score = 0\n",
    "for i in range(target.shape[1]):\n",
    "    _score = log_loss(target[:,i], oof[:,i])\n",
    "    score += _score / target.shape[1]\n",
    "#logger.info(f\"Seed Averaged CV score: {score}\")"
   ]
  },
  {
   "cell_type": "code",
   "execution_count": 13,
   "metadata": {
    "execution": {
     "iopub.execute_input": "2020-09-08T14:25:57.419903Z",
     "iopub.status.busy": "2020-09-08T14:25:57.417895Z",
     "iopub.status.idle": "2020-09-08T14:26:13.655921Z",
     "shell.execute_reply": "2020-09-08T14:26:13.655097Z"
    },
    "papermill": {
     "duration": 16.472358,
     "end_time": "2020-09-08T14:26:13.656055",
     "exception": false,
     "start_time": "2020-09-08T14:25:57.183697",
     "status": "completed"
    },
    "tags": []
   },
   "outputs": [],
   "source": [
    "train[target_cols] = oof\n",
    "train[['sig_id']+target_cols].to_csv(out_base_path + '/oof.csv', index=False)\n",
    "\n",
    "test[target_cols] = predictions\n",
    "test[['sig_id']+target_cols].to_csv(out_base_path + '/pred.csv', index=False)"
   ]
  },
  {
   "cell_type": "code",
   "execution_count": 14,
   "metadata": {
    "execution": {
     "iopub.execute_input": "2020-09-08T14:26:13.719342Z",
     "iopub.status.busy": "2020-09-08T14:26:13.718015Z",
     "iopub.status.idle": "2020-09-08T14:26:14.715044Z",
     "shell.execute_reply": "2020-09-08T14:26:14.715537Z"
    },
    "papermill": {
     "duration": 1.037984,
     "end_time": "2020-09-08T14:26:14.715697",
     "exception": false,
     "start_time": "2020-09-08T14:26:13.677713",
     "status": "completed"
    },
    "tags": []
   },
   "outputs": [
    {
     "name": "stderr",
     "output_type": "stream",
     "text": [
      "Final result: 0.015842093180158456\n"
     ]
    }
   ],
   "source": [
    "# Final result with 'cp_type'=='ctl_vehicle' data\n",
    "result = train_targets_scored.drop(columns=target_cols)\\\n",
    "            .merge(train[['sig_id']+target_cols], on='sig_id', how='left').fillna(0)\n",
    "y_true = train_targets_scored[target_cols].values\n",
    "y_pred = result[target_cols].values\n",
    "score = 0\n",
    "for i in range(y_true.shape[1]):\n",
    "    _score = log_loss(y_true[:,i], y_pred[:,i])\n",
    "    score += _score / y_true.shape[1]\n",
    "logger.info(f\"Final result: {score}\")"
   ]
  },
  {
   "cell_type": "markdown",
   "metadata": {},
   "source": [
    "# eval"
   ]
  },
  {
   "cell_type": "code",
   "execution_count": null,
   "metadata": {},
   "outputs": [],
   "source": [
    "test[target_cols] = predictions\n",
    "test[['sig_id']+target_cols].to_csv('pred.csv', index=False)"
   ]
  },
  {
   "cell_type": "markdown",
   "metadata": {
    "papermill": {
     "duration": 0.021095,
     "end_time": "2020-09-08T14:26:14.759501",
     "exception": false,
     "start_time": "2020-09-08T14:26:14.738406",
     "status": "completed"
    },
    "tags": []
   },
   "source": [
    "# Submit"
   ]
  },
  {
   "cell_type": "code",
   "execution_count": null,
   "metadata": {
    "execution": {
     "iopub.execute_input": "2020-09-08T14:26:14.813973Z",
     "iopub.status.busy": "2020-09-08T14:26:14.812453Z",
     "iopub.status.idle": "2020-09-08T14:26:16.901077Z",
     "shell.execute_reply": "2020-09-08T14:26:16.901622Z"
    },
    "papermill": {
     "duration": 2.121174,
     "end_time": "2020-09-08T14:26:16.901761",
     "exception": false,
     "start_time": "2020-09-08T14:26:14.780587",
     "status": "completed"
    },
    "tags": []
   },
   "outputs": [],
   "source": [
    "sub = submission.drop(columns=target_cols).merge(test[['sig_id']+target_cols], on='sig_id', how='left').fillna(0)\n",
    "sub.to_csv('submission.csv', index=False)\n",
    "sub.head()"
   ]
  },
  {
   "cell_type": "code",
   "execution_count": null,
   "metadata": {},
   "outputs": [],
   "source": []
  }
 ],
 "metadata": {
  "kernelspec": {
   "display_name": "Python 3",
   "language": "python",
   "name": "python3"
  },
  "language_info": {
   "codemirror_mode": {
    "name": "ipython",
    "version": 3
   },
   "file_extension": ".py",
   "mimetype": "text/x-python",
   "name": "python",
   "nbconvert_exporter": "python",
   "pygments_lexer": "ipython3",
   "version": "3.7.7"
  },
  "papermill": {
   "duration": 1656.681383,
   "end_time": "2020-09-08T14:26:18.104016",
   "environment_variables": {},
   "exception": null,
   "input_path": "__notebook__.ipynb",
   "output_path": "__notebook__.ipynb",
   "parameters": {},
   "start_time": "2020-09-08T13:58:41.422633",
   "version": "2.1.0"
  },
  "toc": {
   "base_numbering": 1,
   "nav_menu": {},
   "number_sections": true,
   "sideBar": true,
   "skip_h1_title": false,
   "title_cell": "Table of Contents",
   "title_sidebar": "Contents",
   "toc_cell": false,
   "toc_position": {},
   "toc_section_display": true,
   "toc_window_display": false
  }
 },
 "nbformat": 4,
 "nbformat_minor": 4
}
