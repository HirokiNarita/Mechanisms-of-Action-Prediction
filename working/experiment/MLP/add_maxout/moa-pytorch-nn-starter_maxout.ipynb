{
 "cells": [
  {
   "cell_type": "markdown",
   "metadata": {
    "papermill": {
     "duration": 0.009121,
     "end_time": "2020-09-08T13:58:46.154904",
     "exception": false,
     "start_time": "2020-09-08T13:58:46.145783",
     "status": "completed"
    },
    "tags": []
   },
   "source": [
    "# About this notebook\n",
    "\n",
    "- PyTorch NN starter code\n",
    "- MultilabelStratifiedKFold 5 folds \n",
    "\n",
    "If this notebook is helpful, feel free to upvote :)"
   ]
  },
  {
   "cell_type": "markdown",
   "metadata": {
    "papermill": {
     "duration": 0.008966,
     "end_time": "2020-09-08T13:58:46.171673",
     "exception": false,
     "start_time": "2020-09-08T13:58:46.162707",
     "status": "completed"
    },
    "tags": []
   },
   "source": [
    "# Library"
   ]
  },
  {
   "cell_type": "code",
   "execution_count": 1,
   "metadata": {
    "execution": {
     "iopub.execute_input": "2020-09-08T13:58:46.193221Z",
     "iopub.status.busy": "2020-09-08T13:58:46.192262Z",
     "iopub.status.idle": "2020-09-08T13:58:47.177283Z",
     "shell.execute_reply": "2020-09-08T13:58:47.176008Z"
    },
    "papermill": {
     "duration": 0.998011,
     "end_time": "2020-09-08T13:58:47.177459",
     "exception": false,
     "start_time": "2020-09-08T13:58:46.179448",
     "status": "completed"
    },
    "tags": []
   },
   "outputs": [],
   "source": [
    "import sys\n",
    "sys.path.append('../input/iterative-stratification/iterative-stratification-master')\n",
    "from iterstrat.ml_stratifiers import MultilabelStratifiedKFold"
   ]
  },
  {
   "cell_type": "code",
   "execution_count": 2,
   "metadata": {
    "_cell_guid": "b1076dfc-b9ad-4769-8c92-a6c4dae69d19",
    "_uuid": "8f2839f25d086af736a60e9eeb907d3b93b6e0e5",
    "execution": {
     "iopub.execute_input": "2020-09-08T13:58:47.202786Z",
     "iopub.status.busy": "2020-09-08T13:58:47.201985Z",
     "iopub.status.idle": "2020-09-08T13:58:49.136558Z",
     "shell.execute_reply": "2020-09-08T13:58:49.135637Z"
    },
    "papermill": {
     "duration": 1.950692,
     "end_time": "2020-09-08T13:58:49.136686",
     "exception": false,
     "start_time": "2020-09-08T13:58:47.185994",
     "status": "completed"
    },
    "tags": []
   },
   "outputs": [],
   "source": [
    "import os\n",
    "import gc\n",
    "import random\n",
    "import math\n",
    "import time\n",
    "from collections import defaultdict\n",
    "\n",
    "import numpy as np\n",
    "import pandas as pd\n",
    "\n",
    "from sklearn.model_selection import StratifiedKFold, GroupKFold, KFold\n",
    "from sklearn.metrics import log_loss\n",
    "\n",
    "import category_encoders as ce\n",
    "\n",
    "import torch\n",
    "import torch.nn as nn\n",
    "from torch.utils.data import DataLoader, Dataset\n",
    "import torch.optim as optim\n",
    "import torch.nn.functional as F\n",
    "\n",
    "import warnings\n",
    "warnings.filterwarnings(\"ignore\")\n",
    "\n",
    "device = torch.device('cuda' if torch.cuda.is_available() else 'cpu')\n",
    "\n",
    "import common as com\n",
    "from MLP_Dataset import TrainDataset, TestDataset\n",
    "from MLP_Model import FCBlock, TabularNN\n",
    "from trainer import train_fn, validate_fn, inference_fn, AverageMeter\n",
    "from config import CFG"
   ]
  },
  {
   "cell_type": "markdown",
   "metadata": {
    "papermill": {
     "duration": 0.007314,
     "end_time": "2020-09-08T13:58:49.151697",
     "exception": false,
     "start_time": "2020-09-08T13:58:49.144383",
     "status": "completed"
    },
    "tags": []
   },
   "source": [
    "# Utils"
   ]
  },
  {
   "cell_type": "code",
   "execution_count": 3,
   "metadata": {},
   "outputs": [],
   "source": [
    "out_base_path = \"/media/hiroki/working/kaggle/Mechanisms-of-Action-Prediction/result/MLP/max_out\"\n",
    "model_path = out_base_path + '/model'\n",
    "os.makedirs(out_base_path, exist_ok=True)\n",
    "os.makedirs(model_path, exist_ok=True)"
   ]
  },
  {
   "cell_type": "code",
   "execution_count": 4,
   "metadata": {
    "execution": {
     "iopub.execute_input": "2020-09-08T13:58:49.177284Z",
     "iopub.status.busy": "2020-09-08T13:58:49.176543Z",
     "iopub.status.idle": "2020-09-08T13:58:49.189249Z",
     "shell.execute_reply": "2020-09-08T13:58:49.188704Z"
    },
    "papermill": {
     "duration": 0.030233,
     "end_time": "2020-09-08T13:58:49.189342",
     "exception": false,
     "start_time": "2020-09-08T13:58:49.159109",
     "status": "completed"
    },
    "tags": []
   },
   "outputs": [],
   "source": [
    "logger = com.get_logger(out_base_path+'/max_out')\n",
    "com.seed_everything(seed=42)"
   ]
  },
  {
   "cell_type": "markdown",
   "metadata": {
    "papermill": {
     "duration": 0.007091,
     "end_time": "2020-09-08T13:58:49.204038",
     "exception": false,
     "start_time": "2020-09-08T13:58:49.196947",
     "status": "completed"
    },
    "tags": []
   },
   "source": [
    "# Data Loading"
   ]
  },
  {
   "cell_type": "code",
   "execution_count": 5,
   "metadata": {
    "execution": {
     "iopub.execute_input": "2020-09-08T13:58:49.222867Z",
     "iopub.status.busy": "2020-09-08T13:58:49.222260Z",
     "iopub.status.idle": "2020-09-08T13:58:49.230823Z",
     "shell.execute_reply": "2020-09-08T13:58:49.231354Z"
    },
    "papermill": {
     "duration": 0.020131,
     "end_time": "2020-09-08T13:58:49.231518",
     "exception": false,
     "start_time": "2020-09-08T13:58:49.211387",
     "status": "completed"
    },
    "tags": []
   },
   "outputs": [
    {
     "data": {
      "text/plain": [
       "['sample_submission.csv',\n",
       " 'test_features.csv',\n",
       " 'train_features.csv',\n",
       " 'train_targets_nonscored.csv',\n",
       " 'train_targets_scored.csv']"
      ]
     },
     "execution_count": 5,
     "metadata": {},
     "output_type": "execute_result"
    }
   ],
   "source": [
    "base_dir = '/media/hiroki/working/kaggle/Mechanisms-of-Action-Prediction/datasets'\n",
    "#os.listdir('../input/lish-moa')\n",
    "os.listdir(base_dir)"
   ]
  },
  {
   "cell_type": "code",
   "execution_count": 6,
   "metadata": {
    "_cell_guid": "79c7e3d0-c299-4dcb-8224-4455121ee9b0",
    "_uuid": "d629ff2d2480ee46fbb7e2d37f6b5fab8052498a",
    "execution": {
     "iopub.execute_input": "2020-09-08T13:58:49.254972Z",
     "iopub.status.busy": "2020-09-08T13:58:49.253876Z",
     "iopub.status.idle": "2020-09-08T13:58:55.736099Z",
     "shell.execute_reply": "2020-09-08T13:58:55.734864Z"
    },
    "papermill": {
     "duration": 6.496887,
     "end_time": "2020-09-08T13:58:55.736222",
     "exception": false,
     "start_time": "2020-09-08T13:58:49.239335",
     "status": "completed"
    },
    "tags": []
   },
   "outputs": [],
   "source": [
    "train_features = pd.read_csv(base_dir + '/train_features.csv')\n",
    "train_targets_scored = pd.read_csv(base_dir + '/train_targets_scored.csv')\n",
    "train_targets_nonscored = pd.read_csv(base_dir + '/train_targets_nonscored.csv')\n",
    "test_features = pd.read_csv(base_dir + '/test_features.csv')\n",
    "submission = pd.read_csv(base_dir + '/sample_submission.csv')\n",
    "\n",
    "#train_features = pd.read_csv('../input/lish-moa/train_features.csv')\n",
    "#train_targets_scored = pd.read_csv('../input/lish-moa/train_targets_scored.csv')\n",
    "#train_targets_nonscored = pd.read_csv('../input/lish-moa/train_targets_nonscored.csv')\n",
    "#test_features = pd.read_csv('../input/lish-moa/test_features.csv')\n",
    "#submission = pd.read_csv('../input/lish-moa/sample_submission.csv')"
   ]
  },
  {
   "cell_type": "code",
   "execution_count": 7,
   "metadata": {
    "execution": {
     "iopub.execute_input": "2020-09-08T13:58:55.762981Z",
     "iopub.status.busy": "2020-09-08T13:58:55.761701Z",
     "iopub.status.idle": "2020-09-08T13:58:55.997813Z",
     "shell.execute_reply": "2020-09-08T13:58:55.998342Z"
    },
    "papermill": {
     "duration": 0.253831,
     "end_time": "2020-09-08T13:58:55.998511",
     "exception": false,
     "start_time": "2020-09-08T13:58:55.744680",
     "status": "completed"
    },
    "tags": []
   },
   "outputs": [
    {
     "data": {
      "text/plain": [
       "cp_type\n",
       "ctl_vehicle        0\n",
       "trt_cp         16844\n",
       "dtype: int64"
      ]
     },
     "execution_count": 7,
     "metadata": {},
     "output_type": "execute_result"
    }
   ],
   "source": [
    "# ref: https://www.kaggle.com/c/lish-moa/discussion/180165\n",
    "# check if labels for 'ctl_vehicle' are all 0.\n",
    "train = train_features.merge(train_targets_scored, on='sig_id')\n",
    "target_cols = [c for c in train_targets_scored.columns if c not in ['sig_id']]\n",
    "cols = target_cols + ['cp_type']\n",
    "train[cols].groupby('cp_type').sum().sum(1)"
   ]
  },
  {
   "cell_type": "markdown",
   "metadata": {
    "papermill": {
     "duration": 0.007676,
     "end_time": "2020-09-08T13:58:56.015585",
     "exception": false,
     "start_time": "2020-09-08T13:58:56.007909",
     "status": "completed"
    },
    "tags": []
   },
   "source": [
    "- labels for 'ctl_vehicle' are all 0."
   ]
  },
  {
   "cell_type": "code",
   "execution_count": 8,
   "metadata": {
    "execution": {
     "iopub.execute_input": "2020-09-08T13:58:56.043408Z",
     "iopub.status.busy": "2020-09-08T13:58:56.042271Z",
     "iopub.status.idle": "2020-09-08T13:58:56.208019Z",
     "shell.execute_reply": "2020-09-08T13:58:56.208600Z"
    },
    "papermill": {
     "duration": 0.184939,
     "end_time": "2020-09-08T13:58:56.208766",
     "exception": false,
     "start_time": "2020-09-08T13:58:56.023827",
     "status": "completed"
    },
    "tags": []
   },
   "outputs": [
    {
     "name": "stdout",
     "output_type": "stream",
     "text": [
      "(23814, 876) (3982, 876)\n",
      "(21948, 1082) (3624, 876)\n"
     ]
    }
   ],
   "source": [
    "# constrcut train&test except 'cp_type'=='ctl_vehicle' data\n",
    "print(train_features.shape, test_features.shape)\n",
    "train = train[train['cp_type']!='ctl_vehicle'].reset_index(drop=True)\n",
    "test = test_features[test_features['cp_type']!='ctl_vehicle'].reset_index(drop=True)\n",
    "print(train.shape, test.shape)"
   ]
  },
  {
   "cell_type": "markdown",
   "metadata": {
    "papermill": {
     "duration": 0.00855,
     "end_time": "2020-09-08T13:58:56.226376",
     "exception": false,
     "start_time": "2020-09-08T13:58:56.217826",
     "status": "completed"
    },
    "tags": []
   },
   "source": [
    "# CV split"
   ]
  },
  {
   "cell_type": "code",
   "execution_count": 9,
   "metadata": {
    "execution": {
     "iopub.execute_input": "2020-09-08T13:58:56.251981Z",
     "iopub.status.busy": "2020-09-08T13:58:56.250632Z",
     "iopub.status.idle": "2020-09-08T13:58:58.019641Z",
     "shell.execute_reply": "2020-09-08T13:58:58.020506Z"
    },
    "papermill": {
     "duration": 1.785415,
     "end_time": "2020-09-08T13:58:58.020651",
     "exception": false,
     "start_time": "2020-09-08T13:58:56.235236",
     "status": "completed"
    },
    "tags": []
   },
   "outputs": [
    {
     "name": "stdout",
     "output_type": "stream",
     "text": [
      "(21948, 1083)\n"
     ]
    }
   ],
   "source": [
    "folds = train.copy()\n",
    "Fold = MultilabelStratifiedKFold(n_splits=5, shuffle=True, random_state=42)\n",
    "for n, (train_index, val_index) in enumerate(Fold.split(folds, folds[target_cols])):\n",
    "    folds.loc[val_index, 'fold'] = int(n)\n",
    "folds['fold'] = folds['fold'].astype(int)\n",
    "print(folds.shape)"
   ]
  },
  {
   "cell_type": "markdown",
   "metadata": {
    "papermill": {
     "duration": 0.007618,
     "end_time": "2020-09-08T13:58:58.036180",
     "exception": false,
     "start_time": "2020-09-08T13:58:58.028562",
     "status": "completed"
    },
    "tags": []
   },
   "source": [
    "# Dataset"
   ]
  },
  {
   "cell_type": "code",
   "execution_count": 10,
   "metadata": {
    "execution": {
     "iopub.execute_input": "2020-09-08T13:58:58.091211Z",
     "iopub.status.busy": "2020-09-08T13:58:58.090254Z",
     "iopub.status.idle": "2020-09-08T13:58:58.255818Z",
     "shell.execute_reply": "2020-09-08T13:58:58.255246Z"
    },
    "papermill": {
     "duration": 0.181326,
     "end_time": "2020-09-08T13:58:58.255956",
     "exception": false,
     "start_time": "2020-09-08T13:58:58.074630",
     "status": "completed"
    },
    "tags": []
   },
   "outputs": [],
   "source": [
    "cat_features = ['cp_time', 'cp_dose']\n",
    "num_features = [c for c in train.columns if train.dtypes[c] != 'object']\n",
    "num_features = [c for c in num_features if c not in cat_features]\n",
    "num_features = [c for c in num_features if c not in target_cols]\n",
    "target = train[target_cols].values\n",
    "\n",
    "def cate2num(df):\n",
    "    df['cp_time'] = df['cp_time'].map({24: 0, 48: 1, 72: 2})\n",
    "    df['cp_dose'] = df['cp_dose'].map({'D1': 3, 'D2': 4})\n",
    "    return df\n",
    "\n",
    "train = cate2num(train)\n",
    "test = cate2num(test)"
   ]
  },
  {
   "cell_type": "markdown",
   "metadata": {
    "papermill": {
     "duration": 0.009087,
     "end_time": "2020-09-08T13:58:58.272946",
     "exception": false,
     "start_time": "2020-09-08T13:58:58.263859",
     "status": "completed"
    },
    "tags": []
   },
   "source": [
    "# MODEL"
   ]
  },
  {
   "cell_type": "code",
   "execution_count": 11,
   "metadata": {
    "execution": {
     "iopub.execute_input": "2020-09-08T13:58:58.459240Z",
     "iopub.status.busy": "2020-09-08T13:58:58.458364Z",
     "iopub.status.idle": "2020-09-08T13:58:58.492244Z",
     "shell.execute_reply": "2020-09-08T13:58:58.493256Z"
    },
    "papermill": {
     "duration": 0.055118,
     "end_time": "2020-09-08T13:58:58.493441",
     "exception": false,
     "start_time": "2020-09-08T13:58:58.438323",
     "status": "completed"
    },
    "tags": []
   },
   "outputs": [],
   "source": [
    "def run_single_nn(cfg, train, test, folds, num_features, cat_features, target, target_cols, device, model_out_path, fold_num=0, seed=42):\n",
    "    \n",
    "    # Set seed\n",
    "    logger.info(f'Set seed {seed}')\n",
    "    com.seed_everything(seed=seed)\n",
    "\n",
    "    # loader\n",
    "    trn_idx = folds[folds['fold'] != fold_num].index\n",
    "    val_idx = folds[folds['fold'] == fold_num].index\n",
    "    train_folds = train.loc[trn_idx].reset_index(drop=True)\n",
    "    valid_folds = train.loc[val_idx].reset_index(drop=True)\n",
    "    train_target = target[trn_idx]\n",
    "    valid_target = target[val_idx]\n",
    "    train_dataset = TrainDataset(train_folds, num_features, cat_features, train_target)\n",
    "    valid_dataset = TrainDataset(valid_folds, num_features, cat_features, valid_target)\n",
    "    train_loader = DataLoader(train_dataset, batch_size=cfg.batch_size, shuffle=True, \n",
    "                              num_workers=4, pin_memory=True, drop_last=True)\n",
    "    valid_loader = DataLoader(valid_dataset, batch_size=cfg.batch_size, shuffle=False, \n",
    "                              num_workers=4, pin_memory=True, drop_last=False)\n",
    "\n",
    "    # model\n",
    "    model = TabularNN(cfg, num_features, target_cols)\n",
    "    model.to(device)\n",
    "    optimizer = optim.Adam(model.parameters(), lr=cfg.lr, weight_decay=cfg.weight_decay)\n",
    "    scheduler = optim.lr_scheduler.OneCycleLR(optimizer=optimizer, pct_start=0.1, div_factor=1e3, \n",
    "                                              max_lr=1e-2, epochs=cfg.epochs, steps_per_epoch=len(train_loader))\n",
    "\n",
    "    # log\n",
    "    log_df = pd.DataFrame(columns=(['EPOCH']+['TRAIN_LOSS']+['VALID_LOSS']) )\n",
    "\n",
    "    # train & validate\n",
    "    best_loss = np.inf\n",
    "    early_stopping_cnt = 0\n",
    "    for epoch in range(cfg.epochs):\n",
    "        train_loss = train_fn(train_loader, model, optimizer, epoch, scheduler, device)\n",
    "        valid_loss, val_preds = validate_fn(valid_loader, model, device)\n",
    "        log_row = {'EPOCH': epoch, \n",
    "                   'TRAIN_LOSS': train_loss,\n",
    "                   'VALID_LOSS': valid_loss,\n",
    "                  }\n",
    "        log_df = log_df.append(pd.DataFrame(log_row, index=[0]), sort=False)\n",
    "        #logger.info(log_df.tail(1))\n",
    "        if valid_loss < best_loss:\n",
    "            logger.info(f'epoch{epoch} save best model... tr_loss:{train_loss}, val_loss{valid_loss}')\n",
    "            best_loss = valid_loss\n",
    "            oof = np.zeros((len(train), len(target_cols)))\n",
    "            oof[val_idx] = val_preds\n",
    "            torch.save(model.state_dict(), z + f\"/fold{fold_num}_seed{seed}.pth\")\n",
    "            best_epoch = epoch\n",
    "            early_stopping_cnt = 0\n",
    "        else:\n",
    "            early_stopping_cnt += 1\n",
    "            if early_stopping_cnt == cfg.early_stopping_rounds:\n",
    "                logger.info(f'best epoch: epoch{best_epoch}')\n",
    "                break\n",
    "\n",
    "    # predictions\n",
    "    test_dataset = TestDataset(test, num_features, cat_features)\n",
    "    test_loader = DataLoader(test_dataset, batch_size=cfg.batch_size, shuffle=False, \n",
    "                             num_workers=4, pin_memory=True)\n",
    "    model = TabularNN(cfg, num_features, target_cols)\n",
    "    model.load_state_dict(torch.load(model_out_path + f\"/fold{fold_num}_seed{seed}.pth\"))\n",
    "    model.to(device)\n",
    "    predictions = inference_fn(test_loader, model, device)\n",
    "    \n",
    "    # del\n",
    "    torch.cuda.empty_cache()\n",
    "\n",
    "    return oof, predictions, log_df\n",
    "\n",
    "\n",
    "def run_kfold_nn(cfg, train, test, folds, num_features, cat_features, target, target_cols, device, model_out_path, n_fold=5, seed=42):\n",
    "\n",
    "    oof = np.zeros((len(train), len(target_cols)))\n",
    "    predictions = np.zeros((len(test), len(target_cols)))\n",
    "    log_dfs = []\n",
    "    for _fold in range(n_fold):\n",
    "        logger.info(\"Fold {}\".format(_fold))\n",
    "        _oof, _predictions, log_df = run_single_nn(cfg,\n",
    "                                                   train,\n",
    "                                                   test,\n",
    "                                                   folds,\n",
    "                                                   num_features, \n",
    "                                                   cat_features,\n",
    "                                                   target,\n",
    "                                                   target_cols,\n",
    "                                                   device,\n",
    "                                                   model_out_path,\n",
    "                                                   fold_num=_fold,\n",
    "                                                   seed=seed)\n",
    "        oof += _oof\n",
    "        predictions += _predictions / n_fold\n",
    "        log_dfs.append(log_df)\n",
    "\n",
    "    score = 0\n",
    "    for i in range(target.shape[1]):\n",
    "        _score = log_loss(target[:,i], oof[:,i])\n",
    "        score += _score / target.shape[1]\n",
    "    logger.info(f\"CV score: {score}\")\n",
    "    \n",
    "    return oof, predictions, log_dfs"
   ]
  },
  {
   "cell_type": "code",
   "execution_count": 12,
   "metadata": {
    "execution": {
     "iopub.execute_input": "2020-09-08T13:58:58.526361Z",
     "iopub.status.busy": "2020-09-08T13:58:58.525507Z",
     "iopub.status.idle": "2020-09-08T14:25:57.161365Z",
     "shell.execute_reply": "2020-09-08T14:25:57.161997Z"
    },
    "papermill": {
     "duration": 1618.657617,
     "end_time": "2020-09-08T14:25:57.162167",
     "exception": false,
     "start_time": "2020-09-08T13:58:58.504550",
     "status": "completed"
    },
    "tags": []
   },
   "outputs": [
    {
     "name": "stderr",
     "output_type": "stream",
     "text": [
      "Fold 0\n",
      "Set seed 42\n",
      "epoch0 save best model... tr_loss:0.9240619543477566, val_loss0.6732538875794899\n",
      "epoch1 save best model... tr_loss:0.6889511928723676, val_loss0.550060255462325\n",
      "epoch2 save best model... tr_loss:0.5270443650057716, val_loss0.4268673354781027\n",
      "epoch3 save best model... tr_loss:0.38665683556647196, val_loss0.3298621796665539\n",
      "epoch4 save best model... tr_loss:0.2655657759602488, val_loss0.25701901533880644\n",
      "epoch5 save best model... tr_loss:0.18476831189689846, val_loss0.20601311005601036\n",
      "epoch6 save best model... tr_loss:0.13241072749569469, val_loss0.16203171984888698\n",
      "epoch7 save best model... tr_loss:0.0972167680271133, val_loss0.1304065280324506\n",
      "epoch8 save best model... tr_loss:0.07369995562454862, val_loss0.10674398455234214\n",
      "epoch9 save best model... tr_loss:0.05760134778998412, val_loss0.08790780342860754\n",
      "epoch10 save best model... tr_loss:0.04622802676728172, val_loss0.07207451391803919\n",
      "epoch11 save best model... tr_loss:0.03843873908512131, val_loss0.062098477482116846\n",
      "epoch12 save best model... tr_loss:0.0331125694707743, val_loss0.05207222846584874\n",
      "epoch13 save best model... tr_loss:0.02927115471204267, val_loss0.04493075440508358\n",
      "epoch14 save best model... tr_loss:0.026556912078828054, val_loss0.04024601769983633\n",
      "epoch15 save best model... tr_loss:0.024674671569526414, val_loss0.035986467367695785\n",
      "epoch16 save best model... tr_loss:0.023479215872140913, val_loss0.0331621328423941\n",
      "epoch17 save best model... tr_loss:0.02242998356325892, val_loss0.029961719443694877\n",
      "epoch18 save best model... tr_loss:0.02174000071368459, val_loss0.028143817740481917\n",
      "epoch19 save best model... tr_loss:0.02119505189590319, val_loss0.026762015491316692\n",
      "epoch20 save best model... tr_loss:0.020741488205024253, val_loss0.024987081983094878\n",
      "epoch21 save best model... tr_loss:0.020425701009136807, val_loss0.024183863083193407\n",
      "epoch22 save best model... tr_loss:0.020087462481124883, val_loss0.023649235129152724\n",
      "epoch23 save best model... tr_loss:0.01984075211450784, val_loss0.022525005831737454\n",
      "epoch24 save best model... tr_loss:0.01963539513500992, val_loss0.022223751924948975\n",
      "epoch25 save best model... tr_loss:0.019358010218227212, val_loss0.02179326880256516\n",
      "epoch26 save best model... tr_loss:0.019149731984022107, val_loss0.021426606120579877\n",
      "epoch27 save best model... tr_loss:0.01894400824017714, val_loss0.021081650208741223\n",
      "epoch28 save best model... tr_loss:0.018744214842381486, val_loss0.021065968534313056\n",
      "epoch29 save best model... tr_loss:0.018532621043727455, val_loss0.020625167724873727\n",
      "epoch30 save best model... tr_loss:0.01836805389242342, val_loss0.020443707371474263\n",
      "epoch31 save best model... tr_loss:0.01822353727150246, val_loss0.019952387950788325\n",
      "epoch33 save best model... tr_loss:0.01787005648710323, val_loss0.019834313633722296\n",
      "epoch34 save best model... tr_loss:0.017752125694409666, val_loss0.019612143639313875\n",
      "epoch36 save best model... tr_loss:0.017339134344110524, val_loss0.01927174953425596\n",
      "epoch37 save best model... tr_loss:0.017255592025666885, val_loss0.019093772222485247\n",
      "epoch39 save best model... tr_loss:0.016928611870474407, val_loss0.01901403432478598\n",
      "epoch40 save best model... tr_loss:0.016758116703126987, val_loss0.018998969065827362\n",
      "epoch41 save best model... tr_loss:0.016635004918763997, val_loss0.0186321113271329\n",
      "epoch43 save best model... tr_loss:0.016346018333123984, val_loss0.01858203370327762\n",
      "epoch44 save best model... tr_loss:0.016116460081679326, val_loss0.018510420513943956\n",
      "epoch45 save best model... tr_loss:0.016054177063646435, val_loss0.018476792354060332\n",
      "epoch46 save best model... tr_loss:0.015868897390055613, val_loss0.018138902474423884\n",
      "epoch47 save best model... tr_loss:0.015735188803302436, val_loss0.018133869325075987\n",
      "epoch48 save best model... tr_loss:0.0155647512810835, val_loss0.017888336706745327\n",
      "epoch51 save best model... tr_loss:0.015055919801952304, val_loss0.01774615861628213\n",
      "epoch53 save best model... tr_loss:0.014749298446614593, val_loss0.017734857509867342\n",
      "epoch54 save best model... tr_loss:0.014587267256940097, val_loss0.01763042632940147\n",
      "epoch55 save best model... tr_loss:0.014387641868547258, val_loss0.017517749800141008\n",
      "epoch56 save best model... tr_loss:0.01423406580388274, val_loss0.017442270220683755\n",
      "epoch57 save best model... tr_loss:0.014040955447721003, val_loss0.017431603292754273\n",
      "epoch58 save best model... tr_loss:0.013935282583396038, val_loss0.017385855093513508\n",
      "epoch59 save best model... tr_loss:0.01375074036602937, val_loss0.017296988724100834\n",
      "epoch61 save best model... tr_loss:0.013454032117793214, val_loss0.017182011271408993\n",
      "epoch62 save best model... tr_loss:0.013232953498908148, val_loss0.01710704291336968\n",
      "epoch63 save best model... tr_loss:0.013228897391954424, val_loss0.017091042935797322\n",
      "epoch64 save best model... tr_loss:0.012941007325629684, val_loss0.01700927381380408\n",
      "epoch66 save best model... tr_loss:0.012636920636907275, val_loss0.01695995539689865\n",
      "epoch68 save best model... tr_loss:0.012313043640885693, val_loss0.016956549839610934\n",
      "epoch71 save best model... tr_loss:0.011869068137696353, val_loss0.016886058232931586\n",
      "epoch72 save best model... tr_loss:0.011716921197719546, val_loss0.01687889924837204\n",
      "best epoch: epoch72\n",
      "Fold 1\n",
      "Set seed 42\n",
      "epoch0 save best model... tr_loss:0.9240454500609071, val_loss0.6748602975202312\n",
      "epoch1 save best model... tr_loss:0.6889380236176679, val_loss0.5391727804051445\n",
      "epoch2 save best model... tr_loss:0.5271540060095543, val_loss0.43384924057132834\n",
      "epoch3 save best model... tr_loss:0.38640542023808416, val_loss0.32261292159150023\n",
      "epoch4 save best model... tr_loss:0.2657405299263714, val_loss0.26112192516174837\n",
      "epoch5 save best model... tr_loss:0.18453226260242672, val_loss0.2069589720364312\n",
      "epoch6 save best model... tr_loss:0.1324110927236994, val_loss0.16639368549702108\n",
      "epoch7 save best model... tr_loss:0.09723088481076007, val_loss0.13313139252754985\n",
      "epoch8 save best model... tr_loss:0.07350181522405277, val_loss0.10640991008363172\n",
      "epoch9 save best model... tr_loss:0.057525974970283736, val_loss0.0869751082058648\n",
      "epoch10 save best model... tr_loss:0.04624972091375911, val_loss0.07435765940195335\n",
      "epoch11 save best model... tr_loss:0.03847101826329519, val_loss0.061056762180187164\n",
      "epoch12 save best model... tr_loss:0.03304263316162855, val_loss0.05276986331867737\n",
      "epoch13 save best model... tr_loss:0.02926638582381454, val_loss0.04570624686964281\n",
      "epoch14 save best model... tr_loss:0.026623317580942038, val_loss0.03976375847919112\n",
      "epoch15 save best model... tr_loss:0.02470044058876751, val_loss0.036151767372745586\n",
      "epoch16 save best model... tr_loss:0.023417430695309473, val_loss0.03306364043189344\n",
      "epoch17 save best model... tr_loss:0.02247470513285294, val_loss0.03030236619174616\n",
      "epoch18 save best model... tr_loss:0.021779793564461334, val_loss0.028494873795666835\n",
      "epoch19 save best model... tr_loss:0.02118969668573054, val_loss0.0261235561162437\n",
      "epoch20 save best model... tr_loss:0.020760190282288912, val_loss0.025395597171267506\n",
      "epoch21 save best model... tr_loss:0.020440207818101574, val_loss0.024394959411615662\n",
      "epoch22 save best model... tr_loss:0.020090418553360512, val_loss0.023873749522148612\n",
      "epoch23 save best model... tr_loss:0.01980845456650603, val_loss0.022957008098653073\n",
      "epoch24 save best model... tr_loss:0.019580756970103422, val_loss0.02201801091347713\n",
      "epoch25 save best model... tr_loss:0.01933194523724816, val_loss0.021928862118266168\n",
      "epoch26 save best model... tr_loss:0.019106069088566803, val_loss0.021292357584610073\n",
      "epoch28 save best model... tr_loss:0.01869687139580067, val_loss0.021127907090007853\n",
      "epoch29 save best model... tr_loss:0.01855001992029376, val_loss0.02071173022626337\n",
      "epoch30 save best model... tr_loss:0.018362394727793704, val_loss0.02064070339507693\n",
      "epoch31 save best model... tr_loss:0.01816035297624495, val_loss0.020247950586479727\n",
      "epoch32 save best model... tr_loss:0.01801069222057551, val_loss0.02003399677964984\n",
      "epoch33 save best model... tr_loss:0.01784448503910897, val_loss0.019976456644085653\n",
      "epoch34 save best model... tr_loss:0.0177293155736623, val_loss0.01962464442709991\n",
      "epoch35 save best model... tr_loss:0.017530910461719562, val_loss0.019572181355606993\n",
      "epoch36 save best model... tr_loss:0.01731360333217104, val_loss0.019524967559275973\n"
     ]
    },
    {
     "name": "stderr",
     "output_type": "stream",
     "text": [
      "epoch37 save best model... tr_loss:0.01720890138862505, val_loss0.01940485894221787\n",
      "epoch38 save best model... tr_loss:0.017056234619396662, val_loss0.019378004285903618\n",
      "epoch39 save best model... tr_loss:0.016914812470684305, val_loss0.019303466052088488\n",
      "epoch40 save best model... tr_loss:0.016754702846757577, val_loss0.019253449514508247\n",
      "epoch41 save best model... tr_loss:0.016583311927239715, val_loss0.018805486417814647\n",
      "epoch42 save best model... tr_loss:0.016430884970175308, val_loss0.018747710720010118\n",
      "epoch43 save best model... tr_loss:0.01628223289803595, val_loss0.01870010435700009\n",
      "epoch44 save best model... tr_loss:0.016164313809755835, val_loss0.018637379095942666\n",
      "epoch45 save best model... tr_loss:0.015989141322903497, val_loss0.018528664095119354\n",
      "epoch46 save best model... tr_loss:0.015845551639863283, val_loss0.018340601508159842\n",
      "epoch48 save best model... tr_loss:0.015555702883199565, val_loss0.01828987473167971\n",
      "epoch49 save best model... tr_loss:0.015400894171469948, val_loss0.01820220248540333\n",
      "epoch50 save best model... tr_loss:0.015231997199546899, val_loss0.01808274955592693\n",
      "epoch51 save best model... tr_loss:0.015052890279296323, val_loss0.017830281178541227\n",
      "epoch55 save best model... tr_loss:0.014403599914312906, val_loss0.017665327583908493\n",
      "epoch56 save best model... tr_loss:0.01427175403559023, val_loss0.017593636698936006\n",
      "epoch57 save best model... tr_loss:0.0140888571406096, val_loss0.017548195504347937\n",
      "epoch58 save best model... tr_loss:0.013895213046539439, val_loss0.01753956609509529\n",
      "epoch59 save best model... tr_loss:0.0137915394258733, val_loss0.017421530030990243\n",
      "epoch62 save best model... tr_loss:0.013263280573131067, val_loss0.01733502430718282\n",
      "epoch63 save best model... tr_loss:0.013133330241756608, val_loss0.017205594924696487\n",
      "epoch66 save best model... tr_loss:0.012689008255128878, val_loss0.017122968346525432\n",
      "epoch72 save best model... tr_loss:0.011790838531034924, val_loss0.01708507015537428\n",
      "best epoch: epoch72\n",
      "Fold 2\n",
      "Set seed 42\n",
      "epoch0 save best model... tr_loss:0.9234675707390708, val_loss0.6745960368032362\n",
      "epoch1 save best model... tr_loss:0.6895488174292292, val_loss0.5467103382508449\n",
      "epoch2 save best model... tr_loss:0.5270807238390846, val_loss0.4207453367432529\n",
      "epoch3 save best model... tr_loss:0.38830534352438295, val_loss0.3280969492040318\n",
      "epoch4 save best model... tr_loss:0.2668225415540438, val_loss0.25914424854738344\n",
      "epoch5 save best model... tr_loss:0.1850424145423148, val_loss0.20662731040539897\n",
      "epoch6 save best model... tr_loss:0.13255557992978254, val_loss0.16408315806813653\n",
      "epoch7 save best model... tr_loss:0.0976412383581165, val_loss0.1325749216202751\n",
      "epoch8 save best model... tr_loss:0.07362193785553431, val_loss0.10704688687623566\n",
      "epoch9 save best model... tr_loss:0.05766944006683618, val_loss0.08668814238783004\n",
      "epoch10 save best model... tr_loss:0.04632501435350545, val_loss0.07206112210884755\n",
      "epoch11 save best model... tr_loss:0.03853015498645658, val_loss0.06188299275270951\n",
      "epoch12 save best model... tr_loss:0.03301259556812418, val_loss0.05284656181941681\n",
      "epoch13 save best model... tr_loss:0.029333621515029103, val_loss0.04485434635889696\n",
      "epoch14 save best model... tr_loss:0.026641089221068323, val_loss0.040259994646225795\n",
      "epoch15 save best model... tr_loss:0.02477850854723123, val_loss0.03548718695387696\n",
      "epoch16 save best model... tr_loss:0.023440670347806527, val_loss0.031933829629711856\n",
      "epoch17 save best model... tr_loss:0.022494314357393633, val_loss0.030202233605383877\n",
      "epoch18 save best model... tr_loss:0.021757671983409537, val_loss0.02802320832832646\n",
      "epoch19 save best model... tr_loss:0.021190807996589664, val_loss0.026429784470414976\n",
      "epoch20 save best model... tr_loss:0.020764076730481137, val_loss0.025215769227781716\n",
      "epoch21 save best model... tr_loss:0.020413247599898682, val_loss0.02447570473427625\n",
      "epoch22 save best model... tr_loss:0.020074143822230127, val_loss0.0234236903649904\n",
      "epoch23 save best model... tr_loss:0.01981874142882217, val_loss0.02274119362106055\n",
      "epoch24 save best model... tr_loss:0.01958176594594643, val_loss0.02230192586443478\n",
      "epoch25 save best model... tr_loss:0.019345139421821728, val_loss0.021668258060502366\n",
      "epoch26 save best model... tr_loss:0.01906751734578479, val_loss0.021269124159561826\n",
      "epoch27 save best model... tr_loss:0.018893349241043855, val_loss0.02095214733936692\n",
      "epoch28 save best model... tr_loss:0.01872799634579977, val_loss0.020636986716172777\n",
      "epoch29 save best model... tr_loss:0.018547081306957414, val_loss0.020373820631721752\n",
      "epoch30 save best model... tr_loss:0.0183720350517028, val_loss0.020247083508695387\n",
      "epoch31 save best model... tr_loss:0.018192392954072597, val_loss0.019915499723811143\n",
      "epoch32 save best model... tr_loss:0.018009440500941807, val_loss0.019905990152179476\n",
      "epoch33 save best model... tr_loss:0.017894499189131996, val_loss0.019722987979813464\n",
      "epoch34 save best model... tr_loss:0.017744529377125257, val_loss0.01948499890274775\n",
      "epoch36 save best model... tr_loss:0.017403713383297197, val_loss0.019135569339190726\n",
      "epoch37 save best model... tr_loss:0.017251825468261203, val_loss0.019085198101000025\n",
      "epoch38 save best model... tr_loss:0.017098464790636498, val_loss0.018958265713007988\n",
      "epoch39 save best model... tr_loss:0.01694520666896209, val_loss0.01867548616144252\n",
      "epoch40 save best model... tr_loss:0.016817789127112088, val_loss0.018652305599004132\n",
      "epoch41 save best model... tr_loss:0.016671117269400047, val_loss0.018618890895546636\n",
      "epoch42 save best model... tr_loss:0.01653531303690461, val_loss0.01861844932875626\n",
      "epoch43 save best model... tr_loss:0.016397986581453878, val_loss0.018428585516264688\n",
      "epoch44 save best model... tr_loss:0.01624199054815745, val_loss0.01839050213411861\n",
      "epoch45 save best model... tr_loss:0.01605858456982422, val_loss0.01834058544776127\n",
      "epoch46 save best model... tr_loss:0.015921831351915633, val_loss0.018149787656229526\n",
      "epoch47 save best model... tr_loss:0.015779132144117768, val_loss0.01807148676127107\n",
      "epoch48 save best model... tr_loss:0.015663643909727028, val_loss0.01795061426498225\n",
      "epoch49 save best model... tr_loss:0.015460104263475993, val_loss0.01766829538536991\n",
      "epoch51 save best model... tr_loss:0.015145987333444348, val_loss0.017639354920860547\n",
      "epoch52 save best model... tr_loss:0.014992249425990086, val_loss0.017487862900682057\n",
      "epoch53 save best model... tr_loss:0.014845344581280964, val_loss0.017121563086913857\n",
      "epoch56 save best model... tr_loss:0.014349489882384447, val_loss0.016995941892250996\n",
      "epoch60 save best model... tr_loss:0.013749715842367796, val_loss0.01694443208558239\n",
      "epoch63 save best model... tr_loss:0.01331850464020713, val_loss0.016786126104368318\n",
      "epoch64 save best model... tr_loss:0.013121746673357476, val_loss0.016758763144549434\n",
      "epoch66 save best model... tr_loss:0.012727576471103804, val_loss0.016709804109249524\n",
      "epoch67 save best model... tr_loss:0.012660888347428047, val_loss0.016638321618259455\n",
      "epoch68 save best model... tr_loss:0.012456016289580096, val_loss0.016491500645923463\n",
      "epoch72 save best model... tr_loss:0.011887041335232067, val_loss0.016457951276065086\n",
      "epoch76 save best model... tr_loss:0.011346806649689692, val_loss0.01645346687214165\n",
      "best epoch: epoch76\n",
      "Fold 3\n",
      "Set seed 42\n",
      "epoch0 save best model... tr_loss:0.9237210032713674, val_loss0.6733221568387842\n",
      "epoch1 save best model... tr_loss:0.68919849439259, val_loss0.5455562226593087\n",
      "epoch2 save best model... tr_loss:0.5271230289427034, val_loss0.42587687405747\n",
      "epoch3 save best model... tr_loss:0.38753024994456853, val_loss0.32900662093607874\n",
      "epoch4 save best model... tr_loss:0.26698126350223583, val_loss0.2628081921157098\n",
      "epoch5 save best model... tr_loss:0.1847390846016198, val_loss0.20861841360773203\n",
      "epoch6 save best model... tr_loss:0.13257587267371423, val_loss0.16507363577366962\n",
      "epoch7 save best model... tr_loss:0.09739813378529392, val_loss0.13073207543216697\n",
      "epoch8 save best model... tr_loss:0.07370465469077556, val_loss0.10642017838216317\n",
      "epoch9 save best model... tr_loss:0.05766918617606598, val_loss0.08826231173746678\n",
      "epoch10 save best model... tr_loss:0.046238502337984794, val_loss0.0731356921798819\n",
      "epoch11 save best model... tr_loss:0.0383671514492781, val_loss0.06176877698112186\n"
     ]
    },
    {
     "name": "stderr",
     "output_type": "stream",
     "text": [
      "epoch12 save best model... tr_loss:0.032993568933439736, val_loss0.05249629310228287\n",
      "epoch13 save best model... tr_loss:0.02927556314104556, val_loss0.0470425704124984\n",
      "epoch14 save best model... tr_loss:0.02664074614766414, val_loss0.03984545701287331\n",
      "epoch15 save best model... tr_loss:0.02475022425004927, val_loss0.03594547318366774\n",
      "epoch16 save best model... tr_loss:0.02342257162311325, val_loss0.03267226052515056\n",
      "epoch17 save best model... tr_loss:0.022451545706657815, val_loss0.029924871237918836\n",
      "epoch18 save best model... tr_loss:0.021779324235666517, val_loss0.02795870695984445\n",
      "epoch19 save best model... tr_loss:0.021200164994496826, val_loss0.02663370419997968\n",
      "epoch20 save best model... tr_loss:0.02072431195024265, val_loss0.025594968346195776\n",
      "epoch21 save best model... tr_loss:0.020392942587321584, val_loss0.02425177165377113\n",
      "epoch22 save best model... tr_loss:0.020085550552356418, val_loss0.023623351483756425\n",
      "epoch23 save best model... tr_loss:0.019789210486694846, val_loss0.022789788191845312\n",
      "epoch24 save best model... tr_loss:0.019482622733747547, val_loss0.022400768715591258\n",
      "epoch25 save best model... tr_loss:0.019295870263578138, val_loss0.021698868966285895\n",
      "epoch26 save best model... tr_loss:0.01907939750388482, val_loss0.021470076581442003\n",
      "epoch27 save best model... tr_loss:0.018895061695132487, val_loss0.021397227251685833\n",
      "epoch28 save best model... tr_loss:0.018712283118906683, val_loss0.021063629570067063\n",
      "epoch29 save best model... tr_loss:0.018534506584456475, val_loss0.02069369369443158\n",
      "epoch30 save best model... tr_loss:0.018327082447830018, val_loss0.02031880843544332\n",
      "epoch33 save best model... tr_loss:0.017831205613027416, val_loss0.019784415158144025\n",
      "epoch34 save best model... tr_loss:0.01766982788804674, val_loss0.019756047205324867\n",
      "epoch35 save best model... tr_loss:0.01757511784608075, val_loss0.0196001885344268\n",
      "epoch36 save best model... tr_loss:0.017407345386684266, val_loss0.01940059673405997\n",
      "epoch37 save best model... tr_loss:0.01725013585876755, val_loss0.019249886824645457\n",
      "epoch39 save best model... tr_loss:0.01694379394268957, val_loss0.019055859745397384\n",
      "epoch40 save best model... tr_loss:0.016801023930583123, val_loss0.01875731464144445\n",
      "epoch43 save best model... tr_loss:0.01637132440007081, val_loss0.01862462448265938\n",
      "epoch44 save best model... tr_loss:0.01612114104319935, val_loss0.018421046551240605\n",
      "epoch45 save best model... tr_loss:0.016041180280370326, val_loss0.018154509082131072\n",
      "epoch47 save best model... tr_loss:0.01576688647419758, val_loss0.018089251670825184\n",
      "epoch48 save best model... tr_loss:0.015609475608955878, val_loss0.017995412739371386\n",
      "epoch49 save best model... tr_loss:0.015453681246085215, val_loss0.017811489999209423\n",
      "epoch52 save best model... tr_loss:0.014963439386168046, val_loss0.017687134273299324\n",
      "epoch54 save best model... tr_loss:0.014614921591727293, val_loss0.01767269982224445\n",
      "epoch56 save best model... tr_loss:0.014386824619392082, val_loss0.017654747846440874\n",
      "epoch57 save best model... tr_loss:0.014167047966523164, val_loss0.01729924177585471\n",
      "epoch60 save best model... tr_loss:0.01368406455943456, val_loss0.01707888846635683\n",
      "epoch63 save best model... tr_loss:0.013193946114204226, val_loss0.016985429470387028\n",
      "epoch65 save best model... tr_loss:0.012857381021603942, val_loss0.016958372374245544\n",
      "epoch67 save best model... tr_loss:0.012534245765380507, val_loss0.01693656016438181\n",
      "epoch68 save best model... tr_loss:0.012395444244527034, val_loss0.016890109558685223\n",
      "epoch69 save best model... tr_loss:0.012253280292285512, val_loss0.016870340659518583\n",
      "epoch70 save best model... tr_loss:0.012110024417009558, val_loss0.01683266170679301\n",
      "epoch76 save best model... tr_loss:0.011266358492447294, val_loss0.01682613780318944\n",
      "best epoch: epoch76\n",
      "Fold 4\n",
      "Set seed 42\n",
      "epoch0 save best model... tr_loss:0.9241315217783851, val_loss0.673319018194034\n",
      "epoch1 save best model... tr_loss:0.6894210674901948, val_loss0.5454627002363842\n",
      "epoch2 save best model... tr_loss:0.5270907937066398, val_loss0.421772831398633\n",
      "epoch3 save best model... tr_loss:0.3855947200616781, val_loss0.3240068413980949\n",
      "epoch4 save best model... tr_loss:0.2658877691974605, val_loss0.2650813634791062\n",
      "epoch5 save best model... tr_loss:0.18468748748193692, val_loss0.20683765817432748\n",
      "epoch6 save best model... tr_loss:0.13239579734793544, val_loss0.1653373361373985\n",
      "epoch7 save best model... tr_loss:0.09724713912247306, val_loss0.13239326855809846\n",
      "epoch8 save best model... tr_loss:0.07362272349750473, val_loss0.10761858700286775\n",
      "epoch9 save best model... tr_loss:0.057593598282032636, val_loss0.08821973964948811\n",
      "epoch10 save best model... tr_loss:0.046235135321362614, val_loss0.07288167709015746\n",
      "epoch11 save best model... tr_loss:0.03845310774733768, val_loss0.060834403812043296\n",
      "epoch12 save best model... tr_loss:0.033040522808467386, val_loss0.05339590652649944\n",
      "epoch13 save best model... tr_loss:0.029227131508617072, val_loss0.04631866052607573\n",
      "epoch14 save best model... tr_loss:0.026566052483054842, val_loss0.040351225445579626\n",
      "epoch15 save best model... tr_loss:0.02474900116178676, val_loss0.03590806267135343\n",
      "epoch16 save best model... tr_loss:0.023421502542974305, val_loss0.032818426055323154\n",
      "epoch17 save best model... tr_loss:0.02245946479689357, val_loss0.030427274804950222\n",
      "epoch18 save best model... tr_loss:0.021725962047268003, val_loss0.02818602126063709\n",
      "epoch19 save best model... tr_loss:0.02119940323551206, val_loss0.026326669126283907\n",
      "epoch20 save best model... tr_loss:0.020760011655298897, val_loss0.025508163399666745\n",
      "epoch21 save best model... tr_loss:0.02039901486659137, val_loss0.024129956200172265\n",
      "epoch22 save best model... tr_loss:0.020087826313845217, val_loss0.02385247712982464\n",
      "epoch23 save best model... tr_loss:0.019847901439443774, val_loss0.02279401980730919\n",
      "epoch24 save best model... tr_loss:0.0195415420389741, val_loss0.02242229687969637\n",
      "epoch25 save best model... tr_loss:0.01928835729116669, val_loss0.02185901081901214\n",
      "epoch26 save best model... tr_loss:0.019061325155334534, val_loss0.021793137815237507\n",
      "epoch27 save best model... tr_loss:0.01885467186658541, val_loss0.021206137945964224\n",
      "epoch28 save best model... tr_loss:0.018653734379794694, val_loss0.021113619863168745\n",
      "epoch29 save best model... tr_loss:0.018490503151241663, val_loss0.020737957610821065\n",
      "epoch30 save best model... tr_loss:0.01829142251772548, val_loss0.020715086600993835\n",
      "epoch31 save best model... tr_loss:0.01816430976818295, val_loss0.020267105271106537\n",
      "epoch33 save best model... tr_loss:0.017827481189470765, val_loss0.02014686710585913\n",
      "epoch34 save best model... tr_loss:0.01764012441161449, val_loss0.01980981707749483\n",
      "epoch35 save best model... tr_loss:0.017456048814049604, val_loss0.019629775945205003\n",
      "epoch37 save best model... tr_loss:0.017171599754356663, val_loss0.01949293075579667\n",
      "epoch38 save best model... tr_loss:0.017017525843392216, val_loss0.019235343820022666\n",
      "epoch39 save best model... tr_loss:0.016869853797919342, val_loss0.019132401945065613\n",
      "epoch40 save best model... tr_loss:0.01675596560460318, val_loss0.019085926441724018\n",
      "epoch41 save best model... tr_loss:0.016579774281445102, val_loss0.018921944596455617\n",
      "epoch42 save best model... tr_loss:0.01643718616955363, val_loss0.018917877978237213\n",
      "epoch43 save best model... tr_loss:0.016287138906518256, val_loss0.018660001113194286\n",
      "epoch44 save best model... tr_loss:0.01613483709507506, val_loss0.018438040128618133\n",
      "epoch47 save best model... tr_loss:0.015720222364553678, val_loss0.018309519326369077\n",
      "epoch48 save best model... tr_loss:0.015573221297907459, val_loss0.018262857924124038\n",
      "epoch49 save best model... tr_loss:0.015433136474028447, val_loss0.01817420246722514\n",
      "epoch50 save best model... tr_loss:0.0152544447197069, val_loss0.018067070938889544\n",
      "epoch51 save best model... tr_loss:0.015063538787934086, val_loss0.018048760914055967\n",
      "epoch53 save best model... tr_loss:0.014755095300828889, val_loss0.017728310859471214\n",
      "epoch56 save best model... tr_loss:0.014330883924237514, val_loss0.0175527035746546\n",
      "epoch57 save best model... tr_loss:0.014151173429631621, val_loss0.017472210412560252\n",
      "epoch59 save best model... tr_loss:0.013753360647191532, val_loss0.01731776068630883\n",
      "epoch60 save best model... tr_loss:0.01365128296332257, val_loss0.017289798502638634\n"
     ]
    },
    {
     "name": "stderr",
     "output_type": "stream",
     "text": [
      "epoch64 save best model... tr_loss:0.0129826798173429, val_loss0.017163798183722195\n",
      "epoch65 save best model... tr_loss:0.012869385971830492, val_loss0.01715147687008914\n",
      "epoch66 save best model... tr_loss:0.012675781627219633, val_loss0.017054034329952505\n",
      "epoch73 save best model... tr_loss:0.011563443731734135, val_loss0.016999378831160383\n",
      "best epoch: epoch73\n",
      "CV score: 0.016848603170290157\n"
     ]
    }
   ],
   "source": [
    "# Seed Averaging for solid result\n",
    "oof = np.zeros((len(train), len(target_cols)))\n",
    "predictions = np.zeros((len(test), len(target_cols)))\n",
    "\n",
    "#SEED = [0, 1, 2]\n",
    "#for seed in SEED:\n",
    "oof, predictions, log_dfs = run_kfold_nn(CFG,\n",
    "                                         train, test, folds, \n",
    "                                         num_features, cat_features, target, target_cols,\n",
    "                                         device,\n",
    "                                         model_path=model_path,\n",
    "                                         n_fold=5, seed=42)\n",
    "score = 0\n",
    "for i in range(target.shape[1]):\n",
    "    _score = log_loss(target[:,i], oof[:,i])\n",
    "    score += _score / target.shape[1]\n",
    "#logger.info(f\"Seed Averaged CV score: {score}\")"
   ]
  },
  {
   "cell_type": "code",
   "execution_count": 18,
   "metadata": {
    "execution": {
     "iopub.execute_input": "2020-09-08T14:25:57.419903Z",
     "iopub.status.busy": "2020-09-08T14:25:57.417895Z",
     "iopub.status.idle": "2020-09-08T14:26:13.655921Z",
     "shell.execute_reply": "2020-09-08T14:26:13.655097Z"
    },
    "papermill": {
     "duration": 16.472358,
     "end_time": "2020-09-08T14:26:13.656055",
     "exception": false,
     "start_time": "2020-09-08T14:25:57.183697",
     "status": "completed"
    },
    "tags": []
   },
   "outputs": [],
   "source": [
    "train[target_cols] = oof\n",
    "train[['sig_id']+target_cols].to_csv(out_base_path + '/oof.csv', index=False)\n",
    "\n",
    "test[target_cols] = predictions\n",
    "test[['sig_id']+target_cols].to_csv(out_base_path + '/pred.csv', index=False)"
   ]
  },
  {
   "cell_type": "code",
   "execution_count": 19,
   "metadata": {
    "execution": {
     "iopub.execute_input": "2020-09-08T14:26:13.719342Z",
     "iopub.status.busy": "2020-09-08T14:26:13.718015Z",
     "iopub.status.idle": "2020-09-08T14:26:14.715044Z",
     "shell.execute_reply": "2020-09-08T14:26:14.715537Z"
    },
    "papermill": {
     "duration": 1.037984,
     "end_time": "2020-09-08T14:26:14.715697",
     "exception": false,
     "start_time": "2020-09-08T14:26:13.677713",
     "status": "completed"
    },
    "tags": []
   },
   "outputs": [
    {
     "name": "stderr",
     "output_type": "stream",
     "text": [
      "Final result: 0.015528392642207555\n"
     ]
    }
   ],
   "source": [
    "# Final result with 'cp_type'=='ctl_vehicle' data\n",
    "result = train_targets_scored.drop(columns=target_cols)\\\n",
    "            .merge(train[['sig_id']+target_cols], on='sig_id', how='left').fillna(0)\n",
    "y_true = train_targets_scored[target_cols].values\n",
    "y_pred = result[target_cols].values\n",
    "score = 0\n",
    "for i in range(y_true.shape[1]):\n",
    "    _score = log_loss(y_true[:,i], y_pred[:,i])\n",
    "    score += _score / y_true.shape[1]\n",
    "logger.info(f\"Final result: {score}\")"
   ]
  },
  {
   "cell_type": "markdown",
   "metadata": {},
   "source": [
    "# eval"
   ]
  },
  {
   "cell_type": "code",
   "execution_count": 15,
   "metadata": {},
   "outputs": [],
   "source": [
    "#model_path='/media/hiroki/working/kaggle/Mechanisms-of-Action-Prediction/working/experiment/MLP/baseline2/fold0_seed0.pth'"
   ]
  },
  {
   "cell_type": "code",
   "execution_count": 20,
   "metadata": {},
   "outputs": [],
   "source": [
    "def run_single_nn_evaluation(cfg, model_path, test, num_features, cat_features, target, device):\n",
    "    # predictions\n",
    "    test_dataset = TestDataset(test, num_features, cat_features)\n",
    "    test_loader = DataLoader(test_dataset, batch_size=cfg.batch_size, shuffle=False, \n",
    "                             num_workers=4, pin_memory=True)\n",
    "    model = TabularNN(cfg)\n",
    "    model.load_state_dict(torch.load(model_path))\n",
    "    model.to(device)\n",
    "    predictions = inference_fn(test_loader, model, device)\n",
    "    \n",
    "    # del\n",
    "    torch.cuda.empty_cache()\n",
    "    return predictions"
   ]
  },
  {
   "cell_type": "code",
   "execution_count": 21,
   "metadata": {},
   "outputs": [
    {
     "ename": "NameError",
     "evalue": "name 'model_path' is not defined",
     "output_type": "error",
     "traceback": [
      "\u001b[0;31m---------------------------------------------------------------------------\u001b[0m",
      "\u001b[0;31mNameError\u001b[0m                                 Traceback (most recent call last)",
      "\u001b[0;32m<ipython-input-21-c06e83b0f77f>\u001b[0m in \u001b[0;36m<module>\u001b[0;34m\u001b[0m\n\u001b[1;32m      3\u001b[0m \u001b[0;34m\u001b[0m\u001b[0m\n\u001b[1;32m      4\u001b[0m prediction = run_single_nn_evaluation(cfg=CFG,\n\u001b[0;32m----> 5\u001b[0;31m                                       \u001b[0mmodel_path\u001b[0m\u001b[0;34m=\u001b[0m\u001b[0mmodel_path\u001b[0m\u001b[0;34m,\u001b[0m\u001b[0;34m\u001b[0m\u001b[0;34m\u001b[0m\u001b[0m\n\u001b[0m\u001b[1;32m      6\u001b[0m                                       \u001b[0mtest\u001b[0m\u001b[0;34m=\u001b[0m\u001b[0mtest\u001b[0m\u001b[0;34m,\u001b[0m\u001b[0;34m\u001b[0m\u001b[0;34m\u001b[0m\u001b[0m\n\u001b[1;32m      7\u001b[0m                                       \u001b[0mnum_features\u001b[0m\u001b[0;34m=\u001b[0m\u001b[0mnum_features\u001b[0m\u001b[0;34m,\u001b[0m\u001b[0;34m\u001b[0m\u001b[0;34m\u001b[0m\u001b[0m\n",
      "\u001b[0;31mNameError\u001b[0m: name 'model_path' is not defined"
     ]
    }
   ],
   "source": [
    "# Seed Averaging for solid result\n",
    "#oof = np.zeros((len(train), len(CFG.target_cols)))\n",
    "\n",
    "prediction = run_single_nn_evaluation(cfg=CFG,\n",
    "                                      model_path=model_path,\n",
    "                                      test=test,\n",
    "                                      num_features=num_features,\n",
    "                                      cat_features=cat_features,\n",
    "                                      target=target,\n",
    "                                      device='cpu')"
   ]
  },
  {
   "cell_type": "code",
   "execution_count": null,
   "metadata": {},
   "outputs": [],
   "source": [
    "test[target_cols] = predictions\n",
    "test[['sig_id']+target_cols].to_csv('pred.csv', index=False)"
   ]
  },
  {
   "cell_type": "markdown",
   "metadata": {
    "papermill": {
     "duration": 0.021095,
     "end_time": "2020-09-08T14:26:14.759501",
     "exception": false,
     "start_time": "2020-09-08T14:26:14.738406",
     "status": "completed"
    },
    "tags": []
   },
   "source": [
    "# Submit"
   ]
  },
  {
   "cell_type": "code",
   "execution_count": null,
   "metadata": {
    "execution": {
     "iopub.execute_input": "2020-09-08T14:26:14.813973Z",
     "iopub.status.busy": "2020-09-08T14:26:14.812453Z",
     "iopub.status.idle": "2020-09-08T14:26:16.901077Z",
     "shell.execute_reply": "2020-09-08T14:26:16.901622Z"
    },
    "papermill": {
     "duration": 2.121174,
     "end_time": "2020-09-08T14:26:16.901761",
     "exception": false,
     "start_time": "2020-09-08T14:26:14.780587",
     "status": "completed"
    },
    "tags": []
   },
   "outputs": [],
   "source": [
    "sub = submission.drop(columns=target_cols).merge(test[['sig_id']+target_cols], on='sig_id', how='left').fillna(0)\n",
    "sub.to_csv('submission.csv', index=False)\n",
    "sub.head()"
   ]
  },
  {
   "cell_type": "code",
   "execution_count": null,
   "metadata": {},
   "outputs": [],
   "source": []
  }
 ],
 "metadata": {
  "kernelspec": {
   "display_name": "Python 3",
   "language": "python",
   "name": "python3"
  },
  "language_info": {
   "codemirror_mode": {
    "name": "ipython",
    "version": 3
   },
   "file_extension": ".py",
   "mimetype": "text/x-python",
   "name": "python",
   "nbconvert_exporter": "python",
   "pygments_lexer": "ipython3",
   "version": "3.7.7"
  },
  "papermill": {
   "duration": 1656.681383,
   "end_time": "2020-09-08T14:26:18.104016",
   "environment_variables": {},
   "exception": null,
   "input_path": "__notebook__.ipynb",
   "output_path": "__notebook__.ipynb",
   "parameters": {},
   "start_time": "2020-09-08T13:58:41.422633",
   "version": "2.1.0"
  },
  "toc": {
   "base_numbering": 1,
   "nav_menu": {},
   "number_sections": true,
   "sideBar": true,
   "skip_h1_title": false,
   "title_cell": "Table of Contents",
   "title_sidebar": "Contents",
   "toc_cell": false,
   "toc_position": {},
   "toc_section_display": true,
   "toc_window_display": false
  }
 },
 "nbformat": 4,
 "nbformat_minor": 4
}
