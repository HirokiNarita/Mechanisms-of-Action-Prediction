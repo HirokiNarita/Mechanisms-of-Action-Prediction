{
 "cells": [
  {
   "cell_type": "markdown",
   "metadata": {
    "papermill": {
     "duration": 0.009121,
     "end_time": "2020-09-08T13:58:46.154904",
     "exception": false,
     "start_time": "2020-09-08T13:58:46.145783",
     "status": "completed"
    },
    "tags": []
   },
   "source": [
    "# About this notebook\n",
    "\n",
    "- PyTorch NN starter code\n",
    "- MultilabelStratifiedKFold 5 folds \n",
    "\n",
    "If this notebook is helpful, feel free to upvote :)"
   ]
  },
  {
   "cell_type": "markdown",
   "metadata": {
    "papermill": {
     "duration": 0.008966,
     "end_time": "2020-09-08T13:58:46.171673",
     "exception": false,
     "start_time": "2020-09-08T13:58:46.162707",
     "status": "completed"
    },
    "tags": []
   },
   "source": [
    "# Library"
   ]
  },
  {
   "cell_type": "code",
   "execution_count": 1,
   "metadata": {
    "execution": {
     "iopub.execute_input": "2020-09-08T13:58:46.193221Z",
     "iopub.status.busy": "2020-09-08T13:58:46.192262Z",
     "iopub.status.idle": "2020-09-08T13:58:47.177283Z",
     "shell.execute_reply": "2020-09-08T13:58:47.176008Z"
    },
    "papermill": {
     "duration": 0.998011,
     "end_time": "2020-09-08T13:58:47.177459",
     "exception": false,
     "start_time": "2020-09-08T13:58:46.179448",
     "status": "completed"
    },
    "tags": []
   },
   "outputs": [],
   "source": [
    "import sys\n",
    "sys.path.append('../input/iterative-stratification/iterative-stratification-master')\n",
    "from iterstrat.ml_stratifiers import MultilabelStratifiedKFold"
   ]
  },
  {
   "cell_type": "code",
   "execution_count": 2,
   "metadata": {
    "_cell_guid": "b1076dfc-b9ad-4769-8c92-a6c4dae69d19",
    "_uuid": "8f2839f25d086af736a60e9eeb907d3b93b6e0e5",
    "execution": {
     "iopub.execute_input": "2020-09-08T13:58:47.202786Z",
     "iopub.status.busy": "2020-09-08T13:58:47.201985Z",
     "iopub.status.idle": "2020-09-08T13:58:49.136558Z",
     "shell.execute_reply": "2020-09-08T13:58:49.135637Z"
    },
    "papermill": {
     "duration": 1.950692,
     "end_time": "2020-09-08T13:58:49.136686",
     "exception": false,
     "start_time": "2020-09-08T13:58:47.185994",
     "status": "completed"
    },
    "tags": []
   },
   "outputs": [],
   "source": [
    "import os\n",
    "import gc\n",
    "import random\n",
    "import math\n",
    "import time\n",
    "from collections import defaultdict\n",
    "\n",
    "import numpy as np\n",
    "import pandas as pd\n",
    "\n",
    "from sklearn.model_selection import StratifiedKFold, GroupKFold, KFold\n",
    "from sklearn.metrics import log_loss\n",
    "\n",
    "import category_encoders as ce\n",
    "\n",
    "import torch\n",
    "import torch.nn as nn\n",
    "from torch.utils.data import DataLoader, Dataset\n",
    "import torch.optim as optim\n",
    "import torch.nn.functional as F\n",
    "\n",
    "import warnings\n",
    "warnings.filterwarnings(\"ignore\")\n",
    "\n",
    "device = torch.device('cuda' if torch.cuda.is_available() else 'cpu')\n",
    "\n",
    "import common as com\n",
    "from MLP_Dataset import TrainDataset, TestDataset\n",
    "from MLP_Model import FCBlock, TabularNN\n",
    "from trainer import train_fn, validate_fn, inference_fn, AverageMeter\n",
    "from config import CFG"
   ]
  },
  {
   "cell_type": "markdown",
   "metadata": {
    "papermill": {
     "duration": 0.007314,
     "end_time": "2020-09-08T13:58:49.151697",
     "exception": false,
     "start_time": "2020-09-08T13:58:49.144383",
     "status": "completed"
    },
    "tags": []
   },
   "source": [
    "# Utils"
   ]
  },
  {
   "cell_type": "code",
   "execution_count": 3,
   "metadata": {},
   "outputs": [],
   "source": [
    "out_base_path = \"/media/hiroki/working/kaggle/Mechanisms-of-Action-Prediction/result/MLP/max_out\"\n",
    "model_out_path = out_base_path + '/model'\n",
    "os.makedirs(out_base_path, exist_ok=True)\n",
    "os.makedirs(model_out_path, exist_ok=True)"
   ]
  },
  {
   "cell_type": "code",
   "execution_count": 4,
   "metadata": {
    "execution": {
     "iopub.execute_input": "2020-09-08T13:58:49.177284Z",
     "iopub.status.busy": "2020-09-08T13:58:49.176543Z",
     "iopub.status.idle": "2020-09-08T13:58:49.189249Z",
     "shell.execute_reply": "2020-09-08T13:58:49.188704Z"
    },
    "papermill": {
     "duration": 0.030233,
     "end_time": "2020-09-08T13:58:49.189342",
     "exception": false,
     "start_time": "2020-09-08T13:58:49.159109",
     "status": "completed"
    },
    "tags": []
   },
   "outputs": [],
   "source": [
    "logger = com.get_logger(out_base_path+'/max_out')\n",
    "com.seed_everything(seed=42)"
   ]
  },
  {
   "cell_type": "markdown",
   "metadata": {
    "papermill": {
     "duration": 0.007091,
     "end_time": "2020-09-08T13:58:49.204038",
     "exception": false,
     "start_time": "2020-09-08T13:58:49.196947",
     "status": "completed"
    },
    "tags": []
   },
   "source": [
    "# Data Loading"
   ]
  },
  {
   "cell_type": "code",
   "execution_count": 5,
   "metadata": {
    "execution": {
     "iopub.execute_input": "2020-09-08T13:58:49.222867Z",
     "iopub.status.busy": "2020-09-08T13:58:49.222260Z",
     "iopub.status.idle": "2020-09-08T13:58:49.230823Z",
     "shell.execute_reply": "2020-09-08T13:58:49.231354Z"
    },
    "papermill": {
     "duration": 0.020131,
     "end_time": "2020-09-08T13:58:49.231518",
     "exception": false,
     "start_time": "2020-09-08T13:58:49.211387",
     "status": "completed"
    },
    "tags": []
   },
   "outputs": [
    {
     "data": {
      "text/plain": [
       "['sample_submission.csv',\n",
       " 'test_features.csv',\n",
       " 'train_features.csv',\n",
       " 'train_targets_nonscored.csv',\n",
       " 'train_targets_scored.csv']"
      ]
     },
     "execution_count": 5,
     "metadata": {},
     "output_type": "execute_result"
    }
   ],
   "source": [
    "base_dir = '/media/hiroki/working/kaggle/Mechanisms-of-Action-Prediction/datasets'\n",
    "#os.listdir('../input/lish-moa')\n",
    "os.listdir(base_dir)"
   ]
  },
  {
   "cell_type": "code",
   "execution_count": 6,
   "metadata": {
    "_cell_guid": "79c7e3d0-c299-4dcb-8224-4455121ee9b0",
    "_uuid": "d629ff2d2480ee46fbb7e2d37f6b5fab8052498a",
    "execution": {
     "iopub.execute_input": "2020-09-08T13:58:49.254972Z",
     "iopub.status.busy": "2020-09-08T13:58:49.253876Z",
     "iopub.status.idle": "2020-09-08T13:58:55.736099Z",
     "shell.execute_reply": "2020-09-08T13:58:55.734864Z"
    },
    "papermill": {
     "duration": 6.496887,
     "end_time": "2020-09-08T13:58:55.736222",
     "exception": false,
     "start_time": "2020-09-08T13:58:49.239335",
     "status": "completed"
    },
    "tags": []
   },
   "outputs": [],
   "source": [
    "train_features = pd.read_csv(base_dir + '/train_features.csv')\n",
    "train_targets_scored = pd.read_csv(base_dir + '/train_targets_scored.csv')\n",
    "train_targets_nonscored = pd.read_csv(base_dir + '/train_targets_nonscored.csv')\n",
    "test_features = pd.read_csv(base_dir + '/test_features.csv')\n",
    "submission = pd.read_csv(base_dir + '/sample_submission.csv')\n",
    "\n",
    "#train_features = pd.read_csv('../input/lish-moa/train_features.csv')\n",
    "#train_targets_scored = pd.read_csv('../input/lish-moa/train_targets_scored.csv')\n",
    "#train_targets_nonscored = pd.read_csv('../input/lish-moa/train_targets_nonscored.csv')\n",
    "#test_features = pd.read_csv('../input/lish-moa/test_features.csv')\n",
    "#submission = pd.read_csv('../input/lish-moa/sample_submission.csv')"
   ]
  },
  {
   "cell_type": "code",
   "execution_count": 7,
   "metadata": {
    "execution": {
     "iopub.execute_input": "2020-09-08T13:58:55.762981Z",
     "iopub.status.busy": "2020-09-08T13:58:55.761701Z",
     "iopub.status.idle": "2020-09-08T13:58:55.997813Z",
     "shell.execute_reply": "2020-09-08T13:58:55.998342Z"
    },
    "papermill": {
     "duration": 0.253831,
     "end_time": "2020-09-08T13:58:55.998511",
     "exception": false,
     "start_time": "2020-09-08T13:58:55.744680",
     "status": "completed"
    },
    "tags": []
   },
   "outputs": [
    {
     "data": {
      "text/plain": [
       "cp_type\n",
       "ctl_vehicle        0\n",
       "trt_cp         16844\n",
       "dtype: int64"
      ]
     },
     "execution_count": 7,
     "metadata": {},
     "output_type": "execute_result"
    }
   ],
   "source": [
    "# ref: https://www.kaggle.com/c/lish-moa/discussion/180165\n",
    "# check if labels for 'ctl_vehicle' are all 0.\n",
    "train = train_features.merge(train_targets_scored, on='sig_id')\n",
    "target_cols = [c for c in train_targets_scored.columns if c not in ['sig_id']]\n",
    "cols = target_cols + ['cp_type']\n",
    "train[cols].groupby('cp_type').sum().sum(1)"
   ]
  },
  {
   "cell_type": "markdown",
   "metadata": {
    "papermill": {
     "duration": 0.007676,
     "end_time": "2020-09-08T13:58:56.015585",
     "exception": false,
     "start_time": "2020-09-08T13:58:56.007909",
     "status": "completed"
    },
    "tags": []
   },
   "source": [
    "- labels for 'ctl_vehicle' are all 0."
   ]
  },
  {
   "cell_type": "code",
   "execution_count": 8,
   "metadata": {
    "execution": {
     "iopub.execute_input": "2020-09-08T13:58:56.043408Z",
     "iopub.status.busy": "2020-09-08T13:58:56.042271Z",
     "iopub.status.idle": "2020-09-08T13:58:56.208019Z",
     "shell.execute_reply": "2020-09-08T13:58:56.208600Z"
    },
    "papermill": {
     "duration": 0.184939,
     "end_time": "2020-09-08T13:58:56.208766",
     "exception": false,
     "start_time": "2020-09-08T13:58:56.023827",
     "status": "completed"
    },
    "tags": []
   },
   "outputs": [
    {
     "name": "stdout",
     "output_type": "stream",
     "text": [
      "(23814, 876) (3982, 876)\n",
      "(21948, 1082) (3624, 876)\n"
     ]
    }
   ],
   "source": [
    "# constrcut train&test except 'cp_type'=='ctl_vehicle' data\n",
    "print(train_features.shape, test_features.shape)\n",
    "train = train[train['cp_type']!='ctl_vehicle'].reset_index(drop=True)\n",
    "test = test_features[test_features['cp_type']!='ctl_vehicle'].reset_index(drop=True)\n",
    "print(train.shape, test.shape)"
   ]
  },
  {
   "cell_type": "markdown",
   "metadata": {
    "papermill": {
     "duration": 0.00855,
     "end_time": "2020-09-08T13:58:56.226376",
     "exception": false,
     "start_time": "2020-09-08T13:58:56.217826",
     "status": "completed"
    },
    "tags": []
   },
   "source": [
    "# CV split"
   ]
  },
  {
   "cell_type": "code",
   "execution_count": 9,
   "metadata": {
    "execution": {
     "iopub.execute_input": "2020-09-08T13:58:56.251981Z",
     "iopub.status.busy": "2020-09-08T13:58:56.250632Z",
     "iopub.status.idle": "2020-09-08T13:58:58.019641Z",
     "shell.execute_reply": "2020-09-08T13:58:58.020506Z"
    },
    "papermill": {
     "duration": 1.785415,
     "end_time": "2020-09-08T13:58:58.020651",
     "exception": false,
     "start_time": "2020-09-08T13:58:56.235236",
     "status": "completed"
    },
    "tags": []
   },
   "outputs": [
    {
     "ename": "KeyboardInterrupt",
     "evalue": "",
     "output_type": "error",
     "traceback": [
      "\u001b[0;31m---------------------------------------------------------------------------\u001b[0m",
      "\u001b[0;31mKeyboardInterrupt\u001b[0m                         Traceback (most recent call last)",
      "\u001b[0;32m<ipython-input-9-c906f1893b2d>\u001b[0m in \u001b[0;36m<module>\u001b[0;34m\u001b[0m\n\u001b[1;32m      1\u001b[0m \u001b[0mfolds\u001b[0m \u001b[0;34m=\u001b[0m \u001b[0mtrain\u001b[0m\u001b[0;34m.\u001b[0m\u001b[0mcopy\u001b[0m\u001b[0;34m(\u001b[0m\u001b[0;34m)\u001b[0m\u001b[0;34m\u001b[0m\u001b[0;34m\u001b[0m\u001b[0m\n\u001b[1;32m      2\u001b[0m \u001b[0mFold\u001b[0m \u001b[0;34m=\u001b[0m \u001b[0mMultilabelStratifiedKFold\u001b[0m\u001b[0;34m(\u001b[0m\u001b[0mn_splits\u001b[0m\u001b[0;34m=\u001b[0m\u001b[0;36m5\u001b[0m\u001b[0;34m,\u001b[0m \u001b[0mshuffle\u001b[0m\u001b[0;34m=\u001b[0m\u001b[0;32mTrue\u001b[0m\u001b[0;34m,\u001b[0m \u001b[0mrandom_state\u001b[0m\u001b[0;34m=\u001b[0m\u001b[0;36m42\u001b[0m\u001b[0;34m)\u001b[0m\u001b[0;34m\u001b[0m\u001b[0;34m\u001b[0m\u001b[0m\n\u001b[0;32m----> 3\u001b[0;31m \u001b[0;32mfor\u001b[0m \u001b[0mn\u001b[0m\u001b[0;34m,\u001b[0m \u001b[0;34m(\u001b[0m\u001b[0mtrain_index\u001b[0m\u001b[0;34m,\u001b[0m \u001b[0mval_index\u001b[0m\u001b[0;34m)\u001b[0m \u001b[0;32min\u001b[0m \u001b[0menumerate\u001b[0m\u001b[0;34m(\u001b[0m\u001b[0mFold\u001b[0m\u001b[0;34m.\u001b[0m\u001b[0msplit\u001b[0m\u001b[0;34m(\u001b[0m\u001b[0mfolds\u001b[0m\u001b[0;34m,\u001b[0m \u001b[0mfolds\u001b[0m\u001b[0;34m[\u001b[0m\u001b[0mtarget_cols\u001b[0m\u001b[0;34m]\u001b[0m\u001b[0;34m)\u001b[0m\u001b[0;34m)\u001b[0m\u001b[0;34m:\u001b[0m\u001b[0;34m\u001b[0m\u001b[0;34m\u001b[0m\u001b[0m\n\u001b[0m\u001b[1;32m      4\u001b[0m     \u001b[0mfolds\u001b[0m\u001b[0;34m.\u001b[0m\u001b[0mloc\u001b[0m\u001b[0;34m[\u001b[0m\u001b[0mval_index\u001b[0m\u001b[0;34m,\u001b[0m \u001b[0;34m'fold'\u001b[0m\u001b[0;34m]\u001b[0m \u001b[0;34m=\u001b[0m \u001b[0mint\u001b[0m\u001b[0;34m(\u001b[0m\u001b[0mn\u001b[0m\u001b[0;34m)\u001b[0m\u001b[0;34m\u001b[0m\u001b[0;34m\u001b[0m\u001b[0m\n\u001b[1;32m      5\u001b[0m \u001b[0mfolds\u001b[0m\u001b[0;34m[\u001b[0m\u001b[0;34m'fold'\u001b[0m\u001b[0;34m]\u001b[0m \u001b[0;34m=\u001b[0m \u001b[0mfolds\u001b[0m\u001b[0;34m[\u001b[0m\u001b[0;34m'fold'\u001b[0m\u001b[0;34m]\u001b[0m\u001b[0;34m.\u001b[0m\u001b[0mastype\u001b[0m\u001b[0;34m(\u001b[0m\u001b[0mint\u001b[0m\u001b[0;34m)\u001b[0m\u001b[0;34m\u001b[0m\u001b[0;34m\u001b[0m\u001b[0m\n",
      "\u001b[0;32m~/anaconda3/lib/python3.7/site-packages/sklearn/model_selection/_split.py\u001b[0m in \u001b[0;36msplit\u001b[0;34m(self, X, y, groups)\u001b[0m\n\u001b[1;32m    334\u001b[0m                 .format(self.n_splits, n_samples))\n\u001b[1;32m    335\u001b[0m \u001b[0;34m\u001b[0m\u001b[0m\n\u001b[0;32m--> 336\u001b[0;31m         \u001b[0;32mfor\u001b[0m \u001b[0mtrain\u001b[0m\u001b[0;34m,\u001b[0m \u001b[0mtest\u001b[0m \u001b[0;32min\u001b[0m \u001b[0msuper\u001b[0m\u001b[0;34m(\u001b[0m\u001b[0;34m)\u001b[0m\u001b[0;34m.\u001b[0m\u001b[0msplit\u001b[0m\u001b[0;34m(\u001b[0m\u001b[0mX\u001b[0m\u001b[0;34m,\u001b[0m \u001b[0my\u001b[0m\u001b[0;34m,\u001b[0m \u001b[0mgroups\u001b[0m\u001b[0;34m)\u001b[0m\u001b[0;34m:\u001b[0m\u001b[0;34m\u001b[0m\u001b[0;34m\u001b[0m\u001b[0m\n\u001b[0m\u001b[1;32m    337\u001b[0m             \u001b[0;32myield\u001b[0m \u001b[0mtrain\u001b[0m\u001b[0;34m,\u001b[0m \u001b[0mtest\u001b[0m\u001b[0;34m\u001b[0m\u001b[0;34m\u001b[0m\u001b[0m\n\u001b[1;32m    338\u001b[0m \u001b[0;34m\u001b[0m\u001b[0m\n",
      "\u001b[0;32m~/anaconda3/lib/python3.7/site-packages/sklearn/model_selection/_split.py\u001b[0m in \u001b[0;36msplit\u001b[0;34m(self, X, y, groups)\u001b[0m\n\u001b[1;32m     78\u001b[0m         \u001b[0mX\u001b[0m\u001b[0;34m,\u001b[0m \u001b[0my\u001b[0m\u001b[0;34m,\u001b[0m \u001b[0mgroups\u001b[0m \u001b[0;34m=\u001b[0m \u001b[0mindexable\u001b[0m\u001b[0;34m(\u001b[0m\u001b[0mX\u001b[0m\u001b[0;34m,\u001b[0m \u001b[0my\u001b[0m\u001b[0;34m,\u001b[0m \u001b[0mgroups\u001b[0m\u001b[0;34m)\u001b[0m\u001b[0;34m\u001b[0m\u001b[0;34m\u001b[0m\u001b[0m\n\u001b[1;32m     79\u001b[0m         \u001b[0mindices\u001b[0m \u001b[0;34m=\u001b[0m \u001b[0mnp\u001b[0m\u001b[0;34m.\u001b[0m\u001b[0marange\u001b[0m\u001b[0;34m(\u001b[0m\u001b[0m_num_samples\u001b[0m\u001b[0;34m(\u001b[0m\u001b[0mX\u001b[0m\u001b[0;34m)\u001b[0m\u001b[0;34m)\u001b[0m\u001b[0;34m\u001b[0m\u001b[0;34m\u001b[0m\u001b[0m\n\u001b[0;32m---> 80\u001b[0;31m         \u001b[0;32mfor\u001b[0m \u001b[0mtest_index\u001b[0m \u001b[0;32min\u001b[0m \u001b[0mself\u001b[0m\u001b[0;34m.\u001b[0m\u001b[0m_iter_test_masks\u001b[0m\u001b[0;34m(\u001b[0m\u001b[0mX\u001b[0m\u001b[0;34m,\u001b[0m \u001b[0my\u001b[0m\u001b[0;34m,\u001b[0m \u001b[0mgroups\u001b[0m\u001b[0;34m)\u001b[0m\u001b[0;34m:\u001b[0m\u001b[0;34m\u001b[0m\u001b[0;34m\u001b[0m\u001b[0m\n\u001b[0m\u001b[1;32m     81\u001b[0m             \u001b[0mtrain_index\u001b[0m \u001b[0;34m=\u001b[0m \u001b[0mindices\u001b[0m\u001b[0;34m[\u001b[0m\u001b[0mnp\u001b[0m\u001b[0;34m.\u001b[0m\u001b[0mlogical_not\u001b[0m\u001b[0;34m(\u001b[0m\u001b[0mtest_index\u001b[0m\u001b[0;34m)\u001b[0m\u001b[0;34m]\u001b[0m\u001b[0;34m\u001b[0m\u001b[0;34m\u001b[0m\u001b[0m\n\u001b[1;32m     82\u001b[0m             \u001b[0mtest_index\u001b[0m \u001b[0;34m=\u001b[0m \u001b[0mindices\u001b[0m\u001b[0;34m[\u001b[0m\u001b[0mtest_index\u001b[0m\u001b[0;34m]\u001b[0m\u001b[0;34m\u001b[0m\u001b[0;34m\u001b[0m\u001b[0m\n",
      "\u001b[0;32m~/anaconda3/lib/python3.7/site-packages/iterstrat/ml_stratifiers.py\u001b[0m in \u001b[0;36m_iter_test_masks\u001b[0;34m(self, X, y, groups)\u001b[0m\n\u001b[1;32m    181\u001b[0m \u001b[0;34m\u001b[0m\u001b[0m\n\u001b[1;32m    182\u001b[0m     \u001b[0;32mdef\u001b[0m \u001b[0m_iter_test_masks\u001b[0m\u001b[0;34m(\u001b[0m\u001b[0mself\u001b[0m\u001b[0;34m,\u001b[0m \u001b[0mX\u001b[0m\u001b[0;34m=\u001b[0m\u001b[0;32mNone\u001b[0m\u001b[0;34m,\u001b[0m \u001b[0my\u001b[0m\u001b[0;34m=\u001b[0m\u001b[0;32mNone\u001b[0m\u001b[0;34m,\u001b[0m \u001b[0mgroups\u001b[0m\u001b[0;34m=\u001b[0m\u001b[0;32mNone\u001b[0m\u001b[0;34m)\u001b[0m\u001b[0;34m:\u001b[0m\u001b[0;34m\u001b[0m\u001b[0;34m\u001b[0m\u001b[0m\n\u001b[0;32m--> 183\u001b[0;31m         \u001b[0mtest_folds\u001b[0m \u001b[0;34m=\u001b[0m \u001b[0mself\u001b[0m\u001b[0;34m.\u001b[0m\u001b[0m_make_test_folds\u001b[0m\u001b[0;34m(\u001b[0m\u001b[0mX\u001b[0m\u001b[0;34m,\u001b[0m \u001b[0my\u001b[0m\u001b[0;34m)\u001b[0m\u001b[0;34m\u001b[0m\u001b[0;34m\u001b[0m\u001b[0m\n\u001b[0m\u001b[1;32m    184\u001b[0m         \u001b[0;32mfor\u001b[0m \u001b[0mi\u001b[0m \u001b[0;32min\u001b[0m \u001b[0mrange\u001b[0m\u001b[0;34m(\u001b[0m\u001b[0mself\u001b[0m\u001b[0;34m.\u001b[0m\u001b[0mn_splits\u001b[0m\u001b[0;34m)\u001b[0m\u001b[0;34m:\u001b[0m\u001b[0;34m\u001b[0m\u001b[0;34m\u001b[0m\u001b[0m\n\u001b[1;32m    185\u001b[0m             \u001b[0;32myield\u001b[0m \u001b[0mtest_folds\u001b[0m \u001b[0;34m==\u001b[0m \u001b[0mi\u001b[0m\u001b[0;34m\u001b[0m\u001b[0;34m\u001b[0m\u001b[0m\n",
      "\u001b[0;32m~/anaconda3/lib/python3.7/site-packages/iterstrat/ml_stratifiers.py\u001b[0m in \u001b[0;36m_make_test_folds\u001b[0;34m(self, X, y)\u001b[0m\n\u001b[1;32m    176\u001b[0m         \u001b[0mr\u001b[0m \u001b[0;34m=\u001b[0m \u001b[0mnp\u001b[0m\u001b[0;34m.\u001b[0m\u001b[0masarray\u001b[0m\u001b[0;34m(\u001b[0m\u001b[0;34m[\u001b[0m\u001b[0;36m1\u001b[0m \u001b[0;34m/\u001b[0m \u001b[0mself\u001b[0m\u001b[0;34m.\u001b[0m\u001b[0mn_splits\u001b[0m\u001b[0;34m]\u001b[0m \u001b[0;34m*\u001b[0m \u001b[0mself\u001b[0m\u001b[0;34m.\u001b[0m\u001b[0mn_splits\u001b[0m\u001b[0;34m)\u001b[0m\u001b[0;34m\u001b[0m\u001b[0;34m\u001b[0m\u001b[0m\n\u001b[1;32m    177\u001b[0m \u001b[0;34m\u001b[0m\u001b[0m\n\u001b[0;32m--> 178\u001b[0;31m         \u001b[0mtest_folds\u001b[0m \u001b[0;34m=\u001b[0m \u001b[0mIterativeStratification\u001b[0m\u001b[0;34m(\u001b[0m\u001b[0mlabels\u001b[0m\u001b[0;34m=\u001b[0m\u001b[0my\u001b[0m\u001b[0;34m,\u001b[0m \u001b[0mr\u001b[0m\u001b[0;34m=\u001b[0m\u001b[0mr\u001b[0m\u001b[0;34m,\u001b[0m \u001b[0mrandom_state\u001b[0m\u001b[0;34m=\u001b[0m\u001b[0mrng\u001b[0m\u001b[0;34m)\u001b[0m\u001b[0;34m\u001b[0m\u001b[0;34m\u001b[0m\u001b[0m\n\u001b[0m\u001b[1;32m    179\u001b[0m \u001b[0;34m\u001b[0m\u001b[0m\n\u001b[1;32m    180\u001b[0m         \u001b[0;32mreturn\u001b[0m \u001b[0mtest_folds\u001b[0m\u001b[0;34m[\u001b[0m\u001b[0mnp\u001b[0m\u001b[0;34m.\u001b[0m\u001b[0margsort\u001b[0m\u001b[0;34m(\u001b[0m\u001b[0mindices\u001b[0m\u001b[0;34m)\u001b[0m\u001b[0;34m]\u001b[0m\u001b[0;34m\u001b[0m\u001b[0;34m\u001b[0m\u001b[0m\n",
      "\u001b[0;32m~/anaconda3/lib/python3.7/site-packages/iterstrat/ml_stratifiers.py\u001b[0m in \u001b[0;36mIterativeStratification\u001b[0;34m(labels, r, random_state)\u001b[0m\n\u001b[1;32m     54\u001b[0m         \u001b[0;31m# Find the label with the fewest (but at least one) remaining examples,\u001b[0m\u001b[0;34m\u001b[0m\u001b[0;34m\u001b[0m\u001b[0;34m\u001b[0m\u001b[0m\n\u001b[1;32m     55\u001b[0m         \u001b[0;31m# breaking ties randomly\u001b[0m\u001b[0;34m\u001b[0m\u001b[0;34m\u001b[0m\u001b[0;34m\u001b[0m\u001b[0m\n\u001b[0;32m---> 56\u001b[0;31m         \u001b[0mnum_labels\u001b[0m \u001b[0;34m=\u001b[0m \u001b[0mlabels\u001b[0m\u001b[0;34m[\u001b[0m\u001b[0mlabels_not_processed_mask\u001b[0m\u001b[0;34m]\u001b[0m\u001b[0;34m.\u001b[0m\u001b[0msum\u001b[0m\u001b[0;34m(\u001b[0m\u001b[0maxis\u001b[0m\u001b[0;34m=\u001b[0m\u001b[0;36m0\u001b[0m\u001b[0;34m)\u001b[0m\u001b[0;34m\u001b[0m\u001b[0;34m\u001b[0m\u001b[0m\n\u001b[0m\u001b[1;32m     57\u001b[0m \u001b[0;34m\u001b[0m\u001b[0m\n\u001b[1;32m     58\u001b[0m         \u001b[0;31m# Handle case where only all-zero labels are left by distributing\u001b[0m\u001b[0;34m\u001b[0m\u001b[0;34m\u001b[0m\u001b[0;34m\u001b[0m\u001b[0m\n",
      "\u001b[0;32m~/anaconda3/lib/python3.7/site-packages/numpy/core/_methods.py\u001b[0m in \u001b[0;36m_sum\u001b[0;34m(a, axis, dtype, out, keepdims, initial, where)\u001b[0m\n\u001b[1;32m     45\u001b[0m def _sum(a, axis=None, dtype=None, out=None, keepdims=False,\n\u001b[1;32m     46\u001b[0m          initial=_NoValue, where=True):\n\u001b[0;32m---> 47\u001b[0;31m     \u001b[0;32mreturn\u001b[0m \u001b[0mumr_sum\u001b[0m\u001b[0;34m(\u001b[0m\u001b[0ma\u001b[0m\u001b[0;34m,\u001b[0m \u001b[0maxis\u001b[0m\u001b[0;34m,\u001b[0m \u001b[0mdtype\u001b[0m\u001b[0;34m,\u001b[0m \u001b[0mout\u001b[0m\u001b[0;34m,\u001b[0m \u001b[0mkeepdims\u001b[0m\u001b[0;34m,\u001b[0m \u001b[0minitial\u001b[0m\u001b[0;34m,\u001b[0m \u001b[0mwhere\u001b[0m\u001b[0;34m)\u001b[0m\u001b[0;34m\u001b[0m\u001b[0;34m\u001b[0m\u001b[0m\n\u001b[0m\u001b[1;32m     48\u001b[0m \u001b[0;34m\u001b[0m\u001b[0m\n\u001b[1;32m     49\u001b[0m def _prod(a, axis=None, dtype=None, out=None, keepdims=False,\n",
      "\u001b[0;31mKeyboardInterrupt\u001b[0m: "
     ]
    }
   ],
   "source": [
    "folds = train.copy()\n",
    "Fold = MultilabelStratifiedKFold(n_splits=5, shuffle=True, random_state=42)\n",
    "for n, (train_index, val_index) in enumerate(Fold.split(folds, folds[target_cols])):\n",
    "    folds.loc[val_index, 'fold'] = int(n)\n",
    "folds['fold'] = folds['fold'].astype(int)\n",
    "print(folds.shape)"
   ]
  },
  {
   "cell_type": "markdown",
   "metadata": {
    "papermill": {
     "duration": 0.007618,
     "end_time": "2020-09-08T13:58:58.036180",
     "exception": false,
     "start_time": "2020-09-08T13:58:58.028562",
     "status": "completed"
    },
    "tags": []
   },
   "source": [
    "# Dataset"
   ]
  },
  {
   "cell_type": "code",
   "execution_count": null,
   "metadata": {
    "execution": {
     "iopub.execute_input": "2020-09-08T13:58:58.091211Z",
     "iopub.status.busy": "2020-09-08T13:58:58.090254Z",
     "iopub.status.idle": "2020-09-08T13:58:58.255818Z",
     "shell.execute_reply": "2020-09-08T13:58:58.255246Z"
    },
    "papermill": {
     "duration": 0.181326,
     "end_time": "2020-09-08T13:58:58.255956",
     "exception": false,
     "start_time": "2020-09-08T13:58:58.074630",
     "status": "completed"
    },
    "tags": []
   },
   "outputs": [],
   "source": [
    "cat_features = ['cp_time', 'cp_dose']\n",
    "num_features = [c for c in train.columns if train.dtypes[c] != 'object']\n",
    "num_features = [c for c in num_features if c not in cat_features]\n",
    "num_features = [c for c in num_features if c not in target_cols]\n",
    "target = train[target_cols].values\n",
    "\n",
    "def cate2num(df):\n",
    "    df['cp_time'] = df['cp_time'].map({24: 0, 48: 1, 72: 2})\n",
    "    df['cp_dose'] = df['cp_dose'].map({'D1': 3, 'D2': 4})\n",
    "    return df\n",
    "\n",
    "train = cate2num(train)\n",
    "test = cate2num(test)"
   ]
  },
  {
   "cell_type": "markdown",
   "metadata": {
    "papermill": {
     "duration": 0.009087,
     "end_time": "2020-09-08T13:58:58.272946",
     "exception": false,
     "start_time": "2020-09-08T13:58:58.263859",
     "status": "completed"
    },
    "tags": []
   },
   "source": [
    "# MODEL"
   ]
  },
  {
   "cell_type": "code",
   "execution_count": null,
   "metadata": {
    "execution": {
     "iopub.execute_input": "2020-09-08T13:58:58.459240Z",
     "iopub.status.busy": "2020-09-08T13:58:58.458364Z",
     "iopub.status.idle": "2020-09-08T13:58:58.492244Z",
     "shell.execute_reply": "2020-09-08T13:58:58.493256Z"
    },
    "papermill": {
     "duration": 0.055118,
     "end_time": "2020-09-08T13:58:58.493441",
     "exception": false,
     "start_time": "2020-09-08T13:58:58.438323",
     "status": "completed"
    },
    "tags": []
   },
   "outputs": [],
   "source": [
    "def run_single_nn(cfg, train, test, folds, num_features, cat_features, target, target_cols, device, model_out_path, fold_num=0, seed=42):\n",
    "    \n",
    "    # Set seed\n",
    "    logger.info(f'Set seed {seed}')\n",
    "    com.seed_everything(seed=seed)\n",
    "\n",
    "    # loader\n",
    "    trn_idx = folds[folds['fold'] != fold_num].index\n",
    "    val_idx = folds[folds['fold'] == fold_num].index\n",
    "    train_folds = train.loc[trn_idx].reset_index(drop=True)\n",
    "    valid_folds = train.loc[val_idx].reset_index(drop=True)\n",
    "    train_target = target[trn_idx]\n",
    "    valid_target = target[val_idx]\n",
    "    train_dataset = TrainDataset(train_folds, num_features, cat_features, train_target)\n",
    "    valid_dataset = TrainDataset(valid_folds, num_features, cat_features, valid_target)\n",
    "    train_loader = DataLoader(train_dataset, batch_size=cfg.batch_size, shuffle=True, \n",
    "                              num_workers=4, pin_memory=True, drop_last=True)\n",
    "    valid_loader = DataLoader(valid_dataset, batch_size=cfg.batch_size, shuffle=False, \n",
    "                              num_workers=4, pin_memory=True, drop_last=False)\n",
    "\n",
    "    # model\n",
    "    model = TabularNN(cfg, num_features, target_cols)\n",
    "    model.to(device)\n",
    "    optimizer = optim.Adam(model.parameters(), lr=cfg.lr, weight_decay=cfg.weight_decay)\n",
    "    scheduler = optim.lr_scheduler.OneCycleLR(optimizer=optimizer, pct_start=0.1, div_factor=1e3, \n",
    "                                              max_lr=1e-2, epochs=cfg.epochs, steps_per_epoch=len(train_loader))\n",
    "\n",
    "    # log\n",
    "    log_df = pd.DataFrame(columns=(['EPOCH']+['TRAIN_LOSS']+['VALID_LOSS']) )\n",
    "\n",
    "    # train & validate\n",
    "    best_loss = np.inf\n",
    "    early_stopping_cnt = 0\n",
    "    for epoch in range(cfg.epochs):\n",
    "        train_loss = train_fn(train_loader, model, optimizer, epoch, scheduler, device)\n",
    "        valid_loss, val_preds = validate_fn(valid_loader, model, device)\n",
    "        log_row = {'EPOCH': epoch, \n",
    "                   'TRAIN_LOSS': train_loss,\n",
    "                   'VALID_LOSS': valid_loss,\n",
    "                  }\n",
    "        log_df = log_df.append(pd.DataFrame(log_row, index=[0]), sort=False)\n",
    "        #logger.info(log_df.tail(1))\n",
    "        if valid_loss < best_loss:\n",
    "            logger.info(f'epoch{epoch} save best model... tr_loss:{train_loss}, val_loss{valid_loss}')\n",
    "            best_loss = valid_loss\n",
    "            oof = np.zeros((len(train), len(target_cols)))\n",
    "            oof[val_idx] = val_preds\n",
    "            torch.save(model.state_dict(), model_out_path + f\"/fold{fold_num}_seed{seed}.pth\")\n",
    "            best_epoch = epoch\n",
    "            early_stopping_cnt = 0\n",
    "        else:\n",
    "            early_stopping_cnt += 1\n",
    "            if early_stopping_cnt == cfg.early_stopping_rounds:\n",
    "                logger.info(f'best epoch: epoch{best_epoch}')\n",
    "                break\n",
    "\n",
    "    # predictions\n",
    "    test_dataset = TestDataset(test, num_features, cat_features)\n",
    "    test_loader = DataLoader(test_dataset, batch_size=cfg.batch_size, shuffle=False, \n",
    "                             num_workers=4, pin_memory=True)\n",
    "    model = TabularNN(cfg, num_features, target_cols)\n",
    "    model.load_state_dict(torch.load(model_out_path + f\"/fold{fold_num}_seed{seed}.pth\"))\n",
    "    model.to(device)\n",
    "    predictions = inference_fn(test_loader, model, device)\n",
    "    \n",
    "    # del\n",
    "    torch.cuda.empty_cache()\n",
    "\n",
    "    return oof, predictions, log_df\n",
    "\n",
    "\n",
    "def run_kfold_nn(cfg, train, test, folds, num_features, cat_features, target, target_cols, device, model_out_path, n_fold=5, seed=42):\n",
    "\n",
    "    oof = np.zeros((len(train), len(target_cols)))\n",
    "    predictions = np.zeros((len(test), len(target_cols)))\n",
    "    log_dfs = []\n",
    "    for _fold in range(n_fold):\n",
    "        logger.info(\"Fold {}\".format(_fold))\n",
    "        _oof, _predictions, log_df = run_single_nn(cfg,\n",
    "                                                   train,\n",
    "                                                   test,\n",
    "                                                   folds,\n",
    "                                                   num_features, \n",
    "                                                   cat_features,\n",
    "                                                   target,\n",
    "                                                   target_cols,\n",
    "                                                   device,\n",
    "                                                   model_out_path,\n",
    "                                                   fold_num=_fold,\n",
    "                                                   seed=seed)\n",
    "        oof += _oof\n",
    "        predictions += _predictions / n_fold\n",
    "        log_dfs.append(log_df)\n",
    "\n",
    "    score = 0\n",
    "    for i in range(target.shape[1]):\n",
    "        _score = log_loss(target[:,i], oof[:,i])\n",
    "        score += _score / target.shape[1]\n",
    "    logger.info(f\"CV score: {score}\")\n",
    "    \n",
    "    return oof, predictions, log_dfs"
   ]
  },
  {
   "cell_type": "code",
   "execution_count": null,
   "metadata": {
    "execution": {
     "iopub.execute_input": "2020-09-08T13:58:58.526361Z",
     "iopub.status.busy": "2020-09-08T13:58:58.525507Z",
     "iopub.status.idle": "2020-09-08T14:25:57.161365Z",
     "shell.execute_reply": "2020-09-08T14:25:57.161997Z"
    },
    "papermill": {
     "duration": 1618.657617,
     "end_time": "2020-09-08T14:25:57.162167",
     "exception": false,
     "start_time": "2020-09-08T13:58:58.504550",
     "status": "completed"
    },
    "tags": []
   },
   "outputs": [],
   "source": [
    "# Seed Averaging for solid result\n",
    "oof = np.zeros((len(train), len(target_cols)))\n",
    "predictions = np.zeros((len(test), len(target_cols)))\n",
    "\n",
    "#SEED = [0, 1, 2]\n",
    "#for seed in SEED:\n",
    "oof, predictions, log_dfs = run_kfold_nn(CFG,\n",
    "                                         train, test, folds, \n",
    "                                         num_features, cat_features, target, target_cols,\n",
    "                                         device,\n",
    "                                         model_out_path=model_out_path,\n",
    "                                         n_fold=5, seed=42)\n",
    "score = 0\n",
    "for i in range(target.shape[1]):\n",
    "    _score = log_loss(target[:,i], oof[:,i])\n",
    "    score += _score / target.shape[1]\n",
    "#logger.info(f\"Seed Averaged CV score: {score}\")"
   ]
  },
  {
   "cell_type": "code",
   "execution_count": null,
   "metadata": {
    "execution": {
     "iopub.execute_input": "2020-09-08T14:25:57.419903Z",
     "iopub.status.busy": "2020-09-08T14:25:57.417895Z",
     "iopub.status.idle": "2020-09-08T14:26:13.655921Z",
     "shell.execute_reply": "2020-09-08T14:26:13.655097Z"
    },
    "papermill": {
     "duration": 16.472358,
     "end_time": "2020-09-08T14:26:13.656055",
     "exception": false,
     "start_time": "2020-09-08T14:25:57.183697",
     "status": "completed"
    },
    "tags": []
   },
   "outputs": [],
   "source": [
    "train[target_cols] = oof\n",
    "train[['sig_id']+target_cols].to_csv(out_base_path + '/oof.csv', index=False)\n",
    "\n",
    "test[target_cols] = predictions\n",
    "test[['sig_id']+target_cols].to_csv(out_base_path + '/pred.csv', index=False)"
   ]
  },
  {
   "cell_type": "code",
   "execution_count": null,
   "metadata": {
    "execution": {
     "iopub.execute_input": "2020-09-08T14:26:13.719342Z",
     "iopub.status.busy": "2020-09-08T14:26:13.718015Z",
     "iopub.status.idle": "2020-09-08T14:26:14.715044Z",
     "shell.execute_reply": "2020-09-08T14:26:14.715537Z"
    },
    "papermill": {
     "duration": 1.037984,
     "end_time": "2020-09-08T14:26:14.715697",
     "exception": false,
     "start_time": "2020-09-08T14:26:13.677713",
     "status": "completed"
    },
    "tags": []
   },
   "outputs": [],
   "source": [
    "# Final result with 'cp_type'=='ctl_vehicle' data\n",
    "result = train_targets_scored.drop(columns=target_cols)\\\n",
    "            .merge(train[['sig_id']+target_cols], on='sig_id', how='left').fillna(0)\n",
    "y_true = train_targets_scored[target_cols].values\n",
    "y_pred = result[target_cols].values\n",
    "score = 0\n",
    "for i in range(y_true.shape[1]):\n",
    "    _score = log_loss(y_true[:,i], y_pred[:,i])\n",
    "    score += _score / y_true.shape[1]\n",
    "logger.info(f\"Final result: {score}\")"
   ]
  },
  {
   "cell_type": "markdown",
   "metadata": {},
   "source": [
    "# eval"
   ]
  },
  {
   "cell_type": "code",
   "execution_count": null,
   "metadata": {},
   "outputs": [],
   "source": [
    "#model_path='/media/hiroki/working/kaggle/Mechanisms-of-Action-Prediction/working/experiment/MLP/baseline2/fold0_seed0.pth'"
   ]
  },
  {
   "cell_type": "code",
   "execution_count": null,
   "metadata": {},
   "outputs": [],
   "source": [
    "def run_single_nn_evaluation(cfg, model_path, test, num_features, cat_features, target, device):\n",
    "    # predictions\n",
    "    test_dataset = TestDataset(test, num_features, cat_features)\n",
    "    test_loader = DataLoader(test_dataset, batch_size=cfg.batch_size, shuffle=False, \n",
    "                             num_workers=4, pin_memory=True)\n",
    "    model = TabularNN(cfg)\n",
    "    model.load_state_dict(torch.load(model_path))\n",
    "    model.to(device)\n",
    "    predictions = inference_fn(test_loader, model, device)\n",
    "    \n",
    "    # del\n",
    "    torch.cuda.empty_cache()\n",
    "    return predictions"
   ]
  },
  {
   "cell_type": "code",
   "execution_count": null,
   "metadata": {},
   "outputs": [],
   "source": [
    "# Seed Averaging for solid result\n",
    "#oof = np.zeros((len(train), len(CFG.target_cols)))\n",
    "\n",
    "prediction = run_single_nn_evaluation(cfg=CFG,\n",
    "                                      model_path=model_path,\n",
    "                                      test=test,\n",
    "                                      num_features=num_features,\n",
    "                                      cat_features=cat_features,\n",
    "                                      target=target,\n",
    "                                      device='cpu')"
   ]
  },
  {
   "cell_type": "code",
   "execution_count": null,
   "metadata": {},
   "outputs": [],
   "source": [
    "test[target_cols] = predictions\n",
    "test[['sig_id']+target_cols].to_csv('pred.csv', index=False)"
   ]
  },
  {
   "cell_type": "markdown",
   "metadata": {
    "papermill": {
     "duration": 0.021095,
     "end_time": "2020-09-08T14:26:14.759501",
     "exception": false,
     "start_time": "2020-09-08T14:26:14.738406",
     "status": "completed"
    },
    "tags": []
   },
   "source": [
    "# Submit"
   ]
  },
  {
   "cell_type": "code",
   "execution_count": null,
   "metadata": {
    "execution": {
     "iopub.execute_input": "2020-09-08T14:26:14.813973Z",
     "iopub.status.busy": "2020-09-08T14:26:14.812453Z",
     "iopub.status.idle": "2020-09-08T14:26:16.901077Z",
     "shell.execute_reply": "2020-09-08T14:26:16.901622Z"
    },
    "papermill": {
     "duration": 2.121174,
     "end_time": "2020-09-08T14:26:16.901761",
     "exception": false,
     "start_time": "2020-09-08T14:26:14.780587",
     "status": "completed"
    },
    "tags": []
   },
   "outputs": [],
   "source": [
    "sub = submission.drop(columns=target_cols).merge(test[['sig_id']+target_cols], on='sig_id', how='left').fillna(0)\n",
    "sub.to_csv('submission.csv', index=False)\n",
    "sub.head()"
   ]
  },
  {
   "cell_type": "code",
   "execution_count": null,
   "metadata": {},
   "outputs": [],
   "source": []
  }
 ],
 "metadata": {
  "kernelspec": {
   "display_name": "Python 3",
   "language": "python",
   "name": "python3"
  },
  "language_info": {
   "codemirror_mode": {
    "name": "ipython",
    "version": 3
   },
   "file_extension": ".py",
   "mimetype": "text/x-python",
   "name": "python",
   "nbconvert_exporter": "python",
   "pygments_lexer": "ipython3",
   "version": "3.7.7"
  },
  "papermill": {
   "duration": 1656.681383,
   "end_time": "2020-09-08T14:26:18.104016",
   "environment_variables": {},
   "exception": null,
   "input_path": "__notebook__.ipynb",
   "output_path": "__notebook__.ipynb",
   "parameters": {},
   "start_time": "2020-09-08T13:58:41.422633",
   "version": "2.1.0"
  },
  "toc": {
   "base_numbering": 1,
   "nav_menu": {},
   "number_sections": true,
   "sideBar": true,
   "skip_h1_title": false,
   "title_cell": "Table of Contents",
   "title_sidebar": "Contents",
   "toc_cell": false,
   "toc_position": {},
   "toc_section_display": true,
   "toc_window_display": false
  }
 },
 "nbformat": 4,
 "nbformat_minor": 4
}
