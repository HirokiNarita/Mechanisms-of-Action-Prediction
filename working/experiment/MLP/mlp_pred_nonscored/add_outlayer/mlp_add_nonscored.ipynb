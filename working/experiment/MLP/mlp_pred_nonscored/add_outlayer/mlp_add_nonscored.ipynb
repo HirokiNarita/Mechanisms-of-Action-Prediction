{
 "cells": [
  {
   "cell_type": "markdown",
   "metadata": {
    "papermill": {
     "duration": 0.009121,
     "end_time": "2020-09-08T13:58:46.154904",
     "exception": false,
     "start_time": "2020-09-08T13:58:46.145783",
     "status": "completed"
    },
    "tags": []
   },
   "source": [
    "# About this notebook\n",
    "\n",
    "- PyTorch NN starter code\n",
    "- MultilabelStratifiedKFold 5 folds \n",
    "\n",
    "If this notebook is helpful, feel free to upvote :)"
   ]
  },
  {
   "cell_type": "markdown",
   "metadata": {
    "papermill": {
     "duration": 0.008966,
     "end_time": "2020-09-08T13:58:46.171673",
     "exception": false,
     "start_time": "2020-09-08T13:58:46.162707",
     "status": "completed"
    },
    "tags": []
   },
   "source": [
    "# Library"
   ]
  },
  {
   "cell_type": "code",
   "execution_count": 1,
   "metadata": {
    "execution": {
     "iopub.execute_input": "2020-09-08T13:58:46.193221Z",
     "iopub.status.busy": "2020-09-08T13:58:46.192262Z",
     "iopub.status.idle": "2020-09-08T13:58:47.177283Z",
     "shell.execute_reply": "2020-09-08T13:58:47.176008Z"
    },
    "papermill": {
     "duration": 0.998011,
     "end_time": "2020-09-08T13:58:47.177459",
     "exception": false,
     "start_time": "2020-09-08T13:58:46.179448",
     "status": "completed"
    },
    "tags": []
   },
   "outputs": [],
   "source": [
    "#import sys\n",
    "#sys.path.append('../input/iterative-stratification/iterative-stratification-master')\n",
    "from iterstrat.ml_stratifiers import MultilabelStratifiedKFold"
   ]
  },
  {
   "cell_type": "code",
   "execution_count": 2,
   "metadata": {
    "_cell_guid": "b1076dfc-b9ad-4769-8c92-a6c4dae69d19",
    "_uuid": "8f2839f25d086af736a60e9eeb907d3b93b6e0e5",
    "execution": {
     "iopub.execute_input": "2020-09-08T13:58:47.202786Z",
     "iopub.status.busy": "2020-09-08T13:58:47.201985Z",
     "iopub.status.idle": "2020-09-08T13:58:49.136558Z",
     "shell.execute_reply": "2020-09-08T13:58:49.135637Z"
    },
    "papermill": {
     "duration": 1.950692,
     "end_time": "2020-09-08T13:58:49.136686",
     "exception": false,
     "start_time": "2020-09-08T13:58:47.185994",
     "status": "completed"
    },
    "tags": []
   },
   "outputs": [],
   "source": [
    "import os\n",
    "import gc\n",
    "import random\n",
    "import math\n",
    "import time\n",
    "from collections import defaultdict\n",
    "\n",
    "import numpy as np\n",
    "import pandas as pd\n",
    "\n",
    "from sklearn.model_selection import StratifiedKFold, GroupKFold, KFold\n",
    "from sklearn.metrics import log_loss\n",
    "\n",
    "import category_encoders as ce\n",
    "\n",
    "import torch\n",
    "import torch.nn as nn\n",
    "from torch.utils.data import DataLoader, Dataset\n",
    "import torch.optim as optim\n",
    "import torch.nn.functional as F\n",
    "\n",
    "import warnings\n",
    "warnings.filterwarnings(\"ignore\")\n",
    "\n",
    "device = torch.device('cuda' if torch.cuda.is_available() else 'cpu')\n",
    "\n",
    "import common as com\n",
    "from MLP_Dataset import TrainDataset, TestDataset\n",
    "from MLP_Model import FCBlock, TabularNN\n",
    "from trainer import train_fn, validate_fn, inference_fn, AverageMeter\n",
    "from config import CFG"
   ]
  },
  {
   "cell_type": "markdown",
   "metadata": {
    "papermill": {
     "duration": 0.007314,
     "end_time": "2020-09-08T13:58:49.151697",
     "exception": false,
     "start_time": "2020-09-08T13:58:49.144383",
     "status": "completed"
    },
    "tags": []
   },
   "source": [
    "# Utils"
   ]
  },
  {
   "cell_type": "code",
   "execution_count": 3,
   "metadata": {},
   "outputs": [],
   "source": [
    "out_base_path = \"./result\"\n",
    "model_path = out_base_path + '/model'\n",
    "os.makedirs(out_base_path, exist_ok=True)\n",
    "os.makedirs(model_path, exist_ok=True)"
   ]
  },
  {
   "cell_type": "code",
   "execution_count": 4,
   "metadata": {
    "execution": {
     "iopub.execute_input": "2020-09-08T13:58:49.177284Z",
     "iopub.status.busy": "2020-09-08T13:58:49.176543Z",
     "iopub.status.idle": "2020-09-08T13:58:49.189249Z",
     "shell.execute_reply": "2020-09-08T13:58:49.188704Z"
    },
    "papermill": {
     "duration": 0.030233,
     "end_time": "2020-09-08T13:58:49.189342",
     "exception": false,
     "start_time": "2020-09-08T13:58:49.159109",
     "status": "completed"
    },
    "tags": []
   },
   "outputs": [],
   "source": [
    "logger = com.get_logger(out_base_path+'/mlp_baseline')\n",
    "com.seed_everything(seed=42)"
   ]
  },
  {
   "cell_type": "markdown",
   "metadata": {
    "papermill": {
     "duration": 0.007091,
     "end_time": "2020-09-08T13:58:49.204038",
     "exception": false,
     "start_time": "2020-09-08T13:58:49.196947",
     "status": "completed"
    },
    "tags": []
   },
   "source": [
    "# Data Loading"
   ]
  },
  {
   "cell_type": "code",
   "execution_count": 5,
   "metadata": {
    "execution": {
     "iopub.execute_input": "2020-09-08T13:58:49.222867Z",
     "iopub.status.busy": "2020-09-08T13:58:49.222260Z",
     "iopub.status.idle": "2020-09-08T13:58:49.230823Z",
     "shell.execute_reply": "2020-09-08T13:58:49.231354Z"
    },
    "papermill": {
     "duration": 0.020131,
     "end_time": "2020-09-08T13:58:49.231518",
     "exception": false,
     "start_time": "2020-09-08T13:58:49.211387",
     "status": "completed"
    },
    "tags": []
   },
   "outputs": [
    {
     "data": {
      "text/plain": [
       "['sample_submission.csv',\n",
       " 'test_features.csv',\n",
       " 'train_features.csv',\n",
       " 'train_targets_nonscored.csv',\n",
       " 'train_targets_scored.csv']"
      ]
     },
     "execution_count": 5,
     "metadata": {},
     "output_type": "execute_result"
    }
   ],
   "source": [
    "base_dir = '/media/hiroki/working/kaggle/Mechanisms-of-Action-Prediction/datasets'\n",
    "#os.listdir('../input/lish-moa')\n",
    "os.listdir(base_dir)"
   ]
  },
  {
   "cell_type": "code",
   "execution_count": 6,
   "metadata": {
    "_cell_guid": "79c7e3d0-c299-4dcb-8224-4455121ee9b0",
    "_uuid": "d629ff2d2480ee46fbb7e2d37f6b5fab8052498a",
    "execution": {
     "iopub.execute_input": "2020-09-08T13:58:49.254972Z",
     "iopub.status.busy": "2020-09-08T13:58:49.253876Z",
     "iopub.status.idle": "2020-09-08T13:58:55.736099Z",
     "shell.execute_reply": "2020-09-08T13:58:55.734864Z"
    },
    "papermill": {
     "duration": 6.496887,
     "end_time": "2020-09-08T13:58:55.736222",
     "exception": false,
     "start_time": "2020-09-08T13:58:49.239335",
     "status": "completed"
    },
    "tags": []
   },
   "outputs": [],
   "source": [
    "train_features = pd.read_csv(base_dir + '/train_features.csv')\n",
    "train_targets_scored = pd.read_csv(base_dir + '/train_targets_scored.csv')\n",
    "train_targets_nonscored = pd.read_csv(base_dir + '/train_targets_nonscored.csv')\n",
    "test_features = pd.read_csv(base_dir + '/test_features.csv')\n",
    "submission = pd.read_csv(base_dir + '/sample_submission.csv')\n",
    "\n",
    "#train_features = pd.read_csv('../input/lish-moa/train_features.csv')\n",
    "#train_targets_scored = pd.read_csv('../input/lish-moa/train_targets_scored.csv')\n",
    "#train_targets_nonscored = pd.read_csv('../input/lish-moa/train_targets_nonscored.csv')\n",
    "#test_features = pd.read_csv('../input/lish-moa/test_features.csv')\n",
    "#submission = pd.read_csv('../input/lish-moa/sample_submission.csv')"
   ]
  },
  {
   "cell_type": "code",
   "execution_count": 7,
   "metadata": {
    "execution": {
     "iopub.execute_input": "2020-09-08T13:58:55.762981Z",
     "iopub.status.busy": "2020-09-08T13:58:55.761701Z",
     "iopub.status.idle": "2020-09-08T13:58:55.997813Z",
     "shell.execute_reply": "2020-09-08T13:58:55.998342Z"
    },
    "papermill": {
     "duration": 0.253831,
     "end_time": "2020-09-08T13:58:55.998511",
     "exception": false,
     "start_time": "2020-09-08T13:58:55.744680",
     "status": "completed"
    },
    "tags": []
   },
   "outputs": [
    {
     "data": {
      "text/plain": [
       "cp_type\n",
       "ctl_vehicle        0\n",
       "trt_cp         16844\n",
       "dtype: int64"
      ]
     },
     "execution_count": 7,
     "metadata": {},
     "output_type": "execute_result"
    }
   ],
   "source": [
    "# ref: https://www.kaggle.com/c/lish-moa/discussion/180165\n",
    "# check if labels for 'ctl_vehicle' are all 0.\n",
    "train = train_features.merge(train_targets_scored, on='sig_id')\n",
    "target_cols = [c for c in train_targets_scored.columns if c not in ['sig_id']]\n",
    "cols = target_cols + ['cp_type']\n",
    "train[cols].groupby('cp_type').sum().sum(1)"
   ]
  },
  {
   "cell_type": "markdown",
   "metadata": {
    "papermill": {
     "duration": 0.007676,
     "end_time": "2020-09-08T13:58:56.015585",
     "exception": false,
     "start_time": "2020-09-08T13:58:56.007909",
     "status": "completed"
    },
    "tags": []
   },
   "source": [
    "- labels for 'ctl_vehicle' are all 0."
   ]
  },
  {
   "cell_type": "code",
   "execution_count": 8,
   "metadata": {
    "execution": {
     "iopub.execute_input": "2020-09-08T13:58:56.043408Z",
     "iopub.status.busy": "2020-09-08T13:58:56.042271Z",
     "iopub.status.idle": "2020-09-08T13:58:56.208019Z",
     "shell.execute_reply": "2020-09-08T13:58:56.208600Z"
    },
    "papermill": {
     "duration": 0.184939,
     "end_time": "2020-09-08T13:58:56.208766",
     "exception": false,
     "start_time": "2020-09-08T13:58:56.023827",
     "status": "completed"
    },
    "tags": []
   },
   "outputs": [
    {
     "name": "stdout",
     "output_type": "stream",
     "text": [
      "(23814, 876) (3982, 876)\n",
      "(21948, 1082) (3624, 876)\n"
     ]
    }
   ],
   "source": [
    "# constrcut train&test except 'cp_type'=='ctl_vehicle' data\n",
    "print(train_features.shape, test_features.shape)\n",
    "train = train[train['cp_type']!='ctl_vehicle'].reset_index(drop=True)\n",
    "test = test_features[test_features['cp_type']!='ctl_vehicle'].reset_index(drop=True)\n",
    "print(train.shape, test.shape)"
   ]
  },
  {
   "cell_type": "code",
   "execution_count": 59,
   "metadata": {},
   "outputs": [],
   "source": [
    "# nonscored drop all zero column\n",
    "train_targets_nonscored_all_zero = train_targets_nonscored.sum() == 0\n",
    "all_zero_column = train_targets_nonscored_all_zero[train_targets_nonscored_all_zero].index"
   ]
  },
  {
   "cell_type": "code",
   "execution_count": 9,
   "metadata": {},
   "outputs": [],
   "source": [
    "train = train.merge(train_targets_nonscored, on='sig_id')\n",
    "scored_target_cols = target_cols\n",
    "nonscored_target_cols = [c for c in train_targets_nonscored.columns if c not in ['sig_id']]\n",
    "target_cols = target_cols + nonscored_target_cols"
   ]
  },
  {
   "cell_type": "code",
   "execution_count": 37,
   "metadata": {},
   "outputs": [
    {
     "name": "stdout",
     "output_type": "stream",
     "text": [
      "scored 206\n",
      "nonscored 402\n",
      "target 608\n"
     ]
    }
   ],
   "source": [
    "print(\"scored\",len(scored_target_cols))\n",
    "print(\"nonscored\", len(nonscored_target_cols))\n",
    "print(\"target\", len(target_cols))"
   ]
  },
  {
   "cell_type": "code",
   "execution_count": null,
   "metadata": {},
   "outputs": [],
   "source": []
  },
  {
   "cell_type": "markdown",
   "metadata": {
    "papermill": {
     "duration": 0.00855,
     "end_time": "2020-09-08T13:58:56.226376",
     "exception": false,
     "start_time": "2020-09-08T13:58:56.217826",
     "status": "completed"
    },
    "tags": []
   },
   "source": [
    "# CV split"
   ]
  },
  {
   "cell_type": "code",
   "execution_count": 10,
   "metadata": {
    "execution": {
     "iopub.execute_input": "2020-09-08T13:58:56.251981Z",
     "iopub.status.busy": "2020-09-08T13:58:56.250632Z",
     "iopub.status.idle": "2020-09-08T13:58:58.019641Z",
     "shell.execute_reply": "2020-09-08T13:58:58.020506Z"
    },
    "papermill": {
     "duration": 1.785415,
     "end_time": "2020-09-08T13:58:58.020651",
     "exception": false,
     "start_time": "2020-09-08T13:58:56.235236",
     "status": "completed"
    },
    "tags": []
   },
   "outputs": [
    {
     "name": "stdout",
     "output_type": "stream",
     "text": [
      "(21948, 1485)\n"
     ]
    }
   ],
   "source": [
    "folds = train.copy()\n",
    "Fold = MultilabelStratifiedKFold(n_splits=5, shuffle=True, random_state=42)\n",
    "for n, (train_index, val_index) in enumerate(Fold.split(folds, folds[scored_target_cols])):\n",
    "    folds.loc[val_index, 'fold'] = int(n)\n",
    "folds['fold'] = folds['fold'].astype(int)\n",
    "print(folds.shape)"
   ]
  },
  {
   "cell_type": "markdown",
   "metadata": {
    "papermill": {
     "duration": 0.007618,
     "end_time": "2020-09-08T13:58:58.036180",
     "exception": false,
     "start_time": "2020-09-08T13:58:58.028562",
     "status": "completed"
    },
    "tags": []
   },
   "source": [
    "# Dataset"
   ]
  },
  {
   "cell_type": "code",
   "execution_count": 11,
   "metadata": {
    "execution": {
     "iopub.execute_input": "2020-09-08T13:58:58.091211Z",
     "iopub.status.busy": "2020-09-08T13:58:58.090254Z",
     "iopub.status.idle": "2020-09-08T13:58:58.255818Z",
     "shell.execute_reply": "2020-09-08T13:58:58.255246Z"
    },
    "papermill": {
     "duration": 0.181326,
     "end_time": "2020-09-08T13:58:58.255956",
     "exception": false,
     "start_time": "2020-09-08T13:58:58.074630",
     "status": "completed"
    },
    "tags": []
   },
   "outputs": [],
   "source": [
    "cat_features = ['cp_time', 'cp_dose']\n",
    "num_features = [c for c in train.columns if train.dtypes[c] != 'object']\n",
    "num_features = [c for c in num_features if c not in cat_features]\n",
    "num_features = [c for c in num_features if c not in target_cols]\n",
    "target = train[target_cols].values\n",
    "\n",
    "def cate2num(df):\n",
    "    df['cp_time'] = df['cp_time'].map({24: 0, 48: 1, 72: 2})\n",
    "    df['cp_dose'] = df['cp_dose'].map({'D1': 3, 'D2': 4})\n",
    "    return df\n",
    "\n",
    "train = cate2num(train)\n",
    "test = cate2num(test)"
   ]
  },
  {
   "cell_type": "markdown",
   "metadata": {
    "papermill": {
     "duration": 0.009087,
     "end_time": "2020-09-08T13:58:58.272946",
     "exception": false,
     "start_time": "2020-09-08T13:58:58.263859",
     "status": "completed"
    },
    "tags": []
   },
   "source": [
    "# MODEL"
   ]
  },
  {
   "cell_type": "code",
   "execution_count": 12,
   "metadata": {
    "execution": {
     "iopub.execute_input": "2020-09-08T13:58:58.459240Z",
     "iopub.status.busy": "2020-09-08T13:58:58.458364Z",
     "iopub.status.idle": "2020-09-08T13:58:58.492244Z",
     "shell.execute_reply": "2020-09-08T13:58:58.493256Z"
    },
    "papermill": {
     "duration": 0.055118,
     "end_time": "2020-09-08T13:58:58.493441",
     "exception": false,
     "start_time": "2020-09-08T13:58:58.438323",
     "status": "completed"
    },
    "tags": []
   },
   "outputs": [],
   "source": [
    "def run_single_nn(cfg, train, test, folds, num_features, cat_features, target, target_cols, device, model_path, fold_num=0, seed=42):\n",
    "    \n",
    "    # Set seed\n",
    "    logger.info(f'Set seed {seed}')\n",
    "    com.seed_everything(seed=seed)\n",
    "\n",
    "    # loader\n",
    "    trn_idx = folds[folds['fold'] != fold_num].index\n",
    "    val_idx = folds[folds['fold'] == fold_num].index\n",
    "    train_folds = train.loc[trn_idx].reset_index(drop=True)\n",
    "    valid_folds = train.loc[val_idx].reset_index(drop=True)\n",
    "    train_target = target[trn_idx]\n",
    "    valid_target = target[val_idx]\n",
    "    train_dataset = TrainDataset(train_folds, num_features, cat_features, train_target)\n",
    "    valid_dataset = TrainDataset(valid_folds, num_features, cat_features, valid_target)\n",
    "    train_loader = DataLoader(train_dataset, batch_size=cfg.batch_size, shuffle=True, \n",
    "                              num_workers=4, pin_memory=True, drop_last=True)\n",
    "    valid_loader = DataLoader(valid_dataset, batch_size=cfg.batch_size, shuffle=False, \n",
    "                              num_workers=4, pin_memory=True, drop_last=False)\n",
    "\n",
    "    # model\n",
    "    model = TabularNN(cfg, num_features, target_cols)\n",
    "    model.to(device)\n",
    "    optimizer = optim.Adam(model.parameters(), lr=cfg.lr, weight_decay=cfg.weight_decay)\n",
    "    scheduler = optim.lr_scheduler.OneCycleLR(optimizer=optimizer, pct_start=0.1, div_factor=1e3, \n",
    "                                              max_lr=1e-2, epochs=cfg.epochs, steps_per_epoch=len(train_loader))\n",
    "\n",
    "    # log\n",
    "    log_df = pd.DataFrame(columns=(['EPOCH']+['TRAIN_LOSS']+['VALID_LOSS']) )\n",
    "\n",
    "    # train & validate\n",
    "    best_loss = np.inf\n",
    "    early_stopping_cnt = 0\n",
    "    for epoch in range(cfg.epochs):\n",
    "        train_loss = train_fn(train_loader, model, optimizer, epoch, scheduler, device)\n",
    "        valid_loss, val_preds = validate_fn(valid_loader, model, device)\n",
    "        log_row = {'EPOCH': epoch, \n",
    "                   'TRAIN_LOSS': train_loss,\n",
    "                   'VALID_LOSS': valid_loss,\n",
    "                  }\n",
    "        log_df = log_df.append(pd.DataFrame(log_row, index=[0]), sort=False)\n",
    "        #logger.info(log_df.tail(1))\n",
    "        if valid_loss < best_loss:\n",
    "            logger.info(f'epoch{epoch} save best model... tr_loss:{train_loss}, val_loss{valid_loss}')\n",
    "            best_loss = valid_loss\n",
    "            oof = np.zeros((len(train), len(target_cols)))\n",
    "            oof[val_idx] = val_preds\n",
    "            torch.save(model.state_dict(), model_path + f\"/fold{fold_num}_seed{seed}.pth\")\n",
    "            best_epoch = epoch\n",
    "            early_stopping_cnt = 0\n",
    "        else:\n",
    "            early_stopping_cnt += 1\n",
    "            if early_stopping_cnt == cfg.early_stopping_rounds:\n",
    "                logger.info(f'best epoch: epoch{best_epoch}')\n",
    "                break\n",
    "\n",
    "    # predictions\n",
    "    test_dataset = TestDataset(test, num_features, cat_features)\n",
    "    test_loader = DataLoader(test_dataset, batch_size=cfg.batch_size, shuffle=False, \n",
    "                             num_workers=4, pin_memory=True)\n",
    "    model = TabularNN(cfg, num_features, target_cols)\n",
    "    model.load_state_dict(torch.load(model_path + f\"/fold{fold_num}_seed{seed}.pth\"))\n",
    "    model.to(device)\n",
    "    predictions = inference_fn(test_loader, model, device)\n",
    "    \n",
    "    # del\n",
    "    torch.cuda.empty_cache()\n",
    "\n",
    "    return oof, predictions, log_df\n",
    "\n",
    "\n",
    "def run_kfold_nn(cfg, train, test, folds, num_features, cat_features, target, target_cols, device, model_path, n_fold=5, seed=42):\n",
    "\n",
    "    oof = np.zeros((len(train), len(target_cols)))\n",
    "    predictions = np.zeros((len(test), len(target_cols)))\n",
    "    log_dfs = []\n",
    "    for _fold in range(n_fold):\n",
    "        logger.info(\"Fold {}\".format(_fold))\n",
    "        _oof, _predictions, log_df = run_single_nn(cfg,\n",
    "                                                   train,\n",
    "                                                   test,\n",
    "                                                   folds,\n",
    "                                                   num_features, \n",
    "                                                   cat_features,\n",
    "                                                   target,\n",
    "                                                   target_cols,\n",
    "                                                   device,\n",
    "                                                   model_path,\n",
    "                                                   fold_num=_fold,\n",
    "                                                   seed=seed)\n",
    "        oof += _oof\n",
    "        predictions += _predictions / n_fold\n",
    "        log_dfs.append(log_df)\n",
    "\n",
    "    score = 0\n",
    "    for i in range(target.shape[1]):\n",
    "        _score = log_loss(target[:,i], oof[:,i])\n",
    "        score += _score / target.shape[1]\n",
    "    logger.info(f\"CV score: {score}\")\n",
    "    \n",
    "    return oof, predictions, log_dfs"
   ]
  },
  {
   "cell_type": "code",
   "execution_count": 49,
   "metadata": {},
   "outputs": [
    {
     "data": {
      "text/plain": [
       "608"
      ]
     },
     "execution_count": 49,
     "metadata": {},
     "output_type": "execute_result"
    }
   ],
   "source": [
    "len(target_cols)"
   ]
  },
  {
   "cell_type": "code",
   "execution_count": 13,
   "metadata": {
    "execution": {
     "iopub.execute_input": "2020-09-08T13:58:58.526361Z",
     "iopub.status.busy": "2020-09-08T13:58:58.525507Z",
     "iopub.status.idle": "2020-09-08T14:25:57.161365Z",
     "shell.execute_reply": "2020-09-08T14:25:57.161997Z"
    },
    "papermill": {
     "duration": 1618.657617,
     "end_time": "2020-09-08T14:25:57.162167",
     "exception": false,
     "start_time": "2020-09-08T13:58:58.504550",
     "status": "completed"
    },
    "tags": []
   },
   "outputs": [
    {
     "name": "stderr",
     "output_type": "stream",
     "text": [
      "Fold 0\n",
      "Set seed 42\n",
      "epoch0 save best model... tr_loss:0.5707114813101553, val_loss0.5034225237939787\n",
      "epoch1 save best model... tr_loss:0.33735543027193876, val_loss0.3601081656839418\n",
      "epoch2 save best model... tr_loss:0.20523390473022948, val_loss0.26882318080422\n",
      "epoch3 save best model... tr_loss:0.13083243493779298, val_loss0.19782382885931837\n",
      "epoch4 save best model... tr_loss:0.08745044579960569, val_loss0.15546585834650894\n",
      "epoch5 save best model... tr_loss:0.060994403192052876, val_loss0.12071375731115733\n",
      "epoch6 save best model... tr_loss:0.0444098531003416, val_loss0.09686234960659218\n",
      "epoch7 save best model... tr_loss:0.03323702918651113, val_loss0.07931060891827581\n",
      "epoch8 save best model... tr_loss:0.02605218276802967, val_loss0.06336923855142604\n",
      "epoch9 save best model... tr_loss:0.02112015485967489, val_loss0.051988163783908706\n",
      "epoch10 save best model... tr_loss:0.017717104583611563, val_loss0.043814782609904276\n",
      "epoch11 save best model... tr_loss:0.015427728904152874, val_loss0.03702030558996157\n",
      "epoch12 save best model... tr_loss:0.013830785821429896, val_loss0.03109717301447326\n",
      "epoch13 save best model... tr_loss:0.012671049465051425, val_loss0.027225284563517516\n",
      "epoch14 save best model... tr_loss:0.011887920340591104, val_loss0.02386629108874157\n",
      "epoch15 save best model... tr_loss:0.011337000756001058, val_loss0.021717026872997404\n",
      "epoch16 save best model... tr_loss:0.01092867122922283, val_loss0.0192171791946019\n",
      "epoch17 save best model... tr_loss:0.010641578202523346, val_loss0.01786388815815533\n",
      "epoch18 save best model... tr_loss:0.010396727798404648, val_loss0.016452583937071993\n",
      "epoch19 save best model... tr_loss:0.01021143008978616, val_loss0.015311415451907623\n",
      "epoch20 save best model... tr_loss:0.010054716611804482, val_loss0.014539005185195282\n",
      "epoch21 save best model... tr_loss:0.009926119771697661, val_loss0.013779519936218348\n",
      "epoch22 save best model... tr_loss:0.009782599629392427, val_loss0.013507341950758443\n",
      "epoch23 save best model... tr_loss:0.009685113990380273, val_loss0.01277010089766599\n",
      "epoch24 save best model... tr_loss:0.009584195075733383, val_loss0.01236129896566781\n",
      "epoch25 save best model... tr_loss:0.009479052251218444, val_loss0.011943454770604678\n",
      "epoch26 save best model... tr_loss:0.009401951023431863, val_loss0.011804994375599816\n",
      "epoch28 save best model... tr_loss:0.009240557672455907, val_loss0.011356113288033931\n",
      "epoch29 save best model... tr_loss:0.009148975082224465, val_loss0.010964416680276258\n",
      "epoch31 save best model... tr_loss:0.009011965843230269, val_loss0.010679495153876535\n",
      "epoch32 save best model... tr_loss:0.008924175776969506, val_loss0.01067135172529074\n",
      "epoch33 save best model... tr_loss:0.008850354819395409, val_loss0.01058934754087401\n",
      "epoch34 save best model... tr_loss:0.008768788388467999, val_loss0.010521764176259144\n",
      "epoch35 save best model... tr_loss:0.00870903046635136, val_loss0.010234515184371101\n",
      "epoch36 save best model... tr_loss:0.008634476076104562, val_loss0.01006379033309452\n",
      "epoch37 save best model... tr_loss:0.008556307597684056, val_loss0.00999275290052956\n",
      "epoch40 save best model... tr_loss:0.008340894519079503, val_loss0.009770900045430334\n",
      "epoch42 save best model... tr_loss:0.0081916393705365, val_loss0.009694912596467823\n",
      "epoch43 save best model... tr_loss:0.008143379081917559, val_loss0.009493069852233476\n",
      "epoch44 save best model... tr_loss:0.00806649015998862, val_loss0.009453243335840507\n",
      "epoch45 save best model... tr_loss:0.008005417115224974, val_loss0.009356250793827965\n",
      "epoch46 save best model... tr_loss:0.007906913701240924, val_loss0.009246398717300767\n",
      "epoch48 save best model... tr_loss:0.007776932094932744, val_loss0.00913972096403123\n",
      "epoch50 save best model... tr_loss:0.007628063121504647, val_loss0.008981455831973047\n",
      "epoch51 save best model... tr_loss:0.007531427785951345, val_loss0.008929173571772551\n",
      "epoch52 save best model... tr_loss:0.007465257370558968, val_loss0.008899373725133022\n",
      "epoch54 save best model... tr_loss:0.007313036119368226, val_loss0.0088149299344434\n",
      "epoch55 save best model... tr_loss:0.007253483506293464, val_loss0.008808935390560461\n",
      "epoch56 save best model... tr_loss:0.0071778443130413, val_loss0.008681447943778611\n",
      "epoch59 save best model... tr_loss:0.006931034501397261, val_loss0.008625968856469712\n",
      "epoch60 save best model... tr_loss:0.006838953728366126, val_loss0.00859183182935644\n",
      "epoch61 save best model... tr_loss:0.006783039292089478, val_loss0.008527600037141921\n",
      "epoch63 save best model... tr_loss:0.0066352394446866575, val_loss0.008464281704989612\n",
      "epoch64 save best model... tr_loss:0.006577121439716187, val_loss0.008412591381961636\n",
      "epoch65 save best model... tr_loss:0.006492762059061686, val_loss0.008395915959615913\n",
      "epoch67 save best model... tr_loss:0.006342144203746188, val_loss0.008390924080586854\n",
      "epoch68 save best model... tr_loss:0.006284943157229165, val_loss0.008363703739084728\n",
      "epoch70 save best model... tr_loss:0.006141043252848687, val_loss0.008339219647491508\n",
      "epoch72 save best model... tr_loss:0.006020800528340858, val_loss0.008310770239163368\n",
      "best epoch: epoch72\n",
      "Fold 1\n",
      "Set seed 42\n",
      "epoch0 save best model... tr_loss:0.5709404494531833, val_loss0.5018679631598175\n",
      "epoch1 save best model... tr_loss:0.3382731107519056, val_loss0.358310194520581\n",
      "epoch2 save best model... tr_loss:0.20540709703834387, val_loss0.2682519235073298\n",
      "epoch3 save best model... tr_loss:0.13095958409898908, val_loss0.20073366850818208\n",
      "epoch4 save best model... tr_loss:0.08776216487651758, val_loss0.15374285633716062\n",
      "epoch5 save best model... tr_loss:0.06120695610850179, val_loss0.12272763499366396\n",
      "epoch6 save best model... tr_loss:0.04451570940632237, val_loss0.0989972382716003\n",
      "epoch7 save best model... tr_loss:0.03332008880624262, val_loss0.07843971564720867\n",
      "epoch8 save best model... tr_loss:0.02604893002536719, val_loss0.0615421446960988\n",
      "epoch9 save best model... tr_loss:0.021085035456956305, val_loss0.05148230223557944\n",
      "epoch10 save best model... tr_loss:0.017674727769854078, val_loss0.04370291104247467\n",
      "epoch11 save best model... tr_loss:0.01541357500016363, val_loss0.037609124215901034\n",
      "epoch12 save best model... tr_loss:0.013740216150716708, val_loss0.030858340438514743\n",
      "epoch13 save best model... tr_loss:0.012678278001691521, val_loss0.027460548865496433\n",
      "epoch14 save best model... tr_loss:0.011848690215987664, val_loss0.02406062157506416\n",
      "epoch15 save best model... tr_loss:0.01127420415605561, val_loss0.02137344388337912\n",
      "epoch16 save best model... tr_loss:0.010902072434707878, val_loss0.019389639881382228\n",
      "epoch17 save best model... tr_loss:0.010587604790348152, val_loss0.017372186710222164\n",
      "epoch18 save best model... tr_loss:0.010358946108986643, val_loss0.01659667756586656\n",
      "epoch19 save best model... tr_loss:0.010161903963838943, val_loss0.015400036297110599\n",
      "epoch20 save best model... tr_loss:0.010006460630552449, val_loss0.014421570709225529\n",
      "epoch21 save best model... tr_loss:0.009889920866694709, val_loss0.013698060414276524\n",
      "epoch22 save best model... tr_loss:0.0097385053072519, val_loss0.013502231933566866\n",
      "epoch23 save best model... tr_loss:0.009618536341445941, val_loss0.012906821347043292\n",
      "epoch24 save best model... tr_loss:0.009525871155851514, val_loss0.012619927702874692\n",
      "epoch25 save best model... tr_loss:0.009438530349063884, val_loss0.012315794570129662\n",
      "epoch26 save best model... tr_loss:0.009320372043442606, val_loss0.012034952927355343\n",
      "epoch27 save best model... tr_loss:0.009242763537165783, val_loss0.011877605779805053\n",
      "epoch28 save best model... tr_loss:0.009173992866595839, val_loss0.01149347497612781\n",
      "epoch29 save best model... tr_loss:0.009085689780954951, val_loss0.011313776267111166\n",
      "epoch30 save best model... tr_loss:0.009018146655569872, val_loss0.011115944716901197\n",
      "epoch31 save best model... tr_loss:0.008944089975663509, val_loss0.011052547024821774\n",
      "epoch32 save best model... tr_loss:0.00885449094446308, val_loss0.01081386513728012\n",
      "epoch33 save best model... tr_loss:0.00878501677780283, val_loss0.01076680544152822\n",
      "epoch34 save best model... tr_loss:0.008713862584244433, val_loss0.010640755002567193\n",
      "epoch36 save best model... tr_loss:0.008578921347027169, val_loss0.010255552227513393\n",
      "epoch38 save best model... tr_loss:0.00841238821455597, val_loss0.010247034569756725\n"
     ]
    },
    {
     "name": "stderr",
     "output_type": "stream",
     "text": [
      "epoch39 save best model... tr_loss:0.008350281914981612, val_loss0.01014173019651943\n",
      "epoch40 save best model... tr_loss:0.008270231432478577, val_loss0.010071582743868334\n",
      "epoch41 save best model... tr_loss:0.008201961284911219, val_loss0.009892506054804103\n",
      "epoch42 save best model... tr_loss:0.00815207601684642, val_loss0.00985159734624665\n",
      "epoch43 save best model... tr_loss:0.008064210561892684, val_loss0.009824991678068062\n",
      "epoch44 save best model... tr_loss:0.00799133027240933, val_loss0.009692038679262093\n",
      "epoch45 save best model... tr_loss:0.007930375945781542, val_loss0.009593168445831008\n",
      "epoch46 save best model... tr_loss:0.007852840449756189, val_loss0.009529144200655485\n",
      "epoch47 save best model... tr_loss:0.007772593000176342, val_loss0.00948336385360204\n",
      "epoch48 save best model... tr_loss:0.007704967265799098, val_loss0.009469711201388498\n",
      "epoch49 save best model... tr_loss:0.0076237925817768505, val_loss0.009350383110293495\n",
      "epoch50 save best model... tr_loss:0.007569748846249804, val_loss0.009239198436752675\n",
      "epoch51 save best model... tr_loss:0.007474142816733488, val_loss0.009192901969821551\n",
      "epoch52 save best model... tr_loss:0.007405623090861325, val_loss0.009170716651768374\n",
      "epoch53 save best model... tr_loss:0.007350434450582213, val_loss0.009113893418621637\n",
      "epoch54 save best model... tr_loss:0.007261411162827463, val_loss0.008963677415238154\n",
      "epoch56 save best model... tr_loss:0.007091422800661275, val_loss0.008942902118290068\n",
      "epoch58 save best model... tr_loss:0.006943961240038494, val_loss0.00883813411515028\n",
      "epoch59 save best model... tr_loss:0.006882714813347416, val_loss0.008786685645139028\n",
      "epoch62 save best model... tr_loss:0.006663681342721964, val_loss0.008735482923364042\n",
      "epoch63 save best model... tr_loss:0.0065869808776548855, val_loss0.008683503589726527\n",
      "epoch64 save best model... tr_loss:0.006514799220310728, val_loss0.008657879418436785\n",
      "epoch66 save best model... tr_loss:0.006348510780099807, val_loss0.008630391135217796\n",
      "epoch67 save best model... tr_loss:0.0062833957749684035, val_loss0.008627418723542897\n",
      "epoch69 save best model... tr_loss:0.006171337962337518, val_loss0.008545415040215897\n",
      "best epoch: epoch69\n",
      "Fold 2\n",
      "Set seed 42\n",
      "epoch0 save best model... tr_loss:0.5710987253998318, val_loss0.5000619446601159\n",
      "epoch1 save best model... tr_loss:0.33822313924557973, val_loss0.35537110015454554\n",
      "epoch2 save best model... tr_loss:0.20550648963255605, val_loss0.26458596185742655\n",
      "epoch3 save best model... tr_loss:0.13108893857765808, val_loss0.20165697723375853\n",
      "epoch4 save best model... tr_loss:0.08754326117626071, val_loss0.15783456755230382\n",
      "epoch5 save best model... tr_loss:0.06112747497339971, val_loss0.11955863756833628\n",
      "epoch6 save best model... tr_loss:0.04445460234789082, val_loss0.09614766363158914\n",
      "epoch7 save best model... tr_loss:0.03334191184912393, val_loss0.07787448616465395\n",
      "epoch8 save best model... tr_loss:0.026090058634044046, val_loss0.06400516051030915\n",
      "epoch9 save best model... tr_loss:0.021209649024463265, val_loss0.052263389177931066\n",
      "epoch10 save best model... tr_loss:0.017756860439808373, val_loss0.04332675513471686\n",
      "epoch11 save best model... tr_loss:0.015443411421193912, val_loss0.0367179362047748\n",
      "epoch12 save best model... tr_loss:0.013829966719826534, val_loss0.03159419015155183\n",
      "epoch13 save best model... tr_loss:0.012670011203532127, val_loss0.027947546676986172\n",
      "epoch14 save best model... tr_loss:0.01188755283526478, val_loss0.02403283875039211\n",
      "epoch15 save best model... tr_loss:0.011323910518413423, val_loss0.02144321505006638\n",
      "epoch16 save best model... tr_loss:0.010951018120658441, val_loss0.019126874933477197\n",
      "epoch17 save best model... tr_loss:0.010635809613439342, val_loss0.017895151111115882\n",
      "epoch18 save best model... tr_loss:0.010412419270927998, val_loss0.01664714104591218\n",
      "epoch19 save best model... tr_loss:0.01022813225804019, val_loss0.01557963451391392\n",
      "epoch20 save best model... tr_loss:0.010066090089636073, val_loss0.014539415023136205\n",
      "epoch21 save best model... tr_loss:0.009926317341245003, val_loss0.013967259035217216\n",
      "epoch22 save best model... tr_loss:0.009804470337125181, val_loss0.01344037521248575\n",
      "epoch23 save best model... tr_loss:0.00969408815097825, val_loss0.012869510962824108\n",
      "epoch24 save best model... tr_loss:0.009582108340436851, val_loss0.012505033057277242\n",
      "epoch25 save best model... tr_loss:0.009490307141775197, val_loss0.012117825327774242\n",
      "epoch26 save best model... tr_loss:0.009390866106892697, val_loss0.011887561576133248\n",
      "epoch27 save best model... tr_loss:0.00930893055696965, val_loss0.011508285572998926\n",
      "epoch28 save best model... tr_loss:0.00924405563082274, val_loss0.011424834264739822\n",
      "epoch29 save best model... tr_loss:0.00916821479348697, val_loss0.011155371299562232\n",
      "epoch30 save best model... tr_loss:0.00909289233233562, val_loss0.011096876769015338\n",
      "epoch31 save best model... tr_loss:0.009025039688350946, val_loss0.010873682416277801\n",
      "epoch32 save best model... tr_loss:0.008947376858606174, val_loss0.0105250449702619\n",
      "epoch33 save best model... tr_loss:0.00888554095358581, val_loss0.010448977494420088\n",
      "epoch35 save best model... tr_loss:0.008734698623187678, val_loss0.010280508639265041\n",
      "epoch36 save best model... tr_loss:0.00864765904656863, val_loss0.010161271645148759\n",
      "epoch37 save best model... tr_loss:0.008589066822510077, val_loss0.010134981336688725\n",
      "epoch38 save best model... tr_loss:0.008516954060943022, val_loss0.009972837189262096\n",
      "epoch39 save best model... tr_loss:0.008431569837122121, val_loss0.009879034259232424\n",
      "epoch40 save best model... tr_loss:0.008356502568553182, val_loss0.009713593508185016\n",
      "epoch41 save best model... tr_loss:0.008300385442154523, val_loss0.009622147749013661\n",
      "epoch42 save best model... tr_loss:0.008212857979968407, val_loss0.009464921390072894\n",
      "epoch46 save best model... tr_loss:0.007938479363959092, val_loss0.009435436546617488\n",
      "epoch47 save best model... tr_loss:0.007869741284580779, val_loss0.009318729050607712\n",
      "epoch48 save best model... tr_loss:0.007807090176595715, val_loss0.009312275640316788\n",
      "epoch49 save best model... tr_loss:0.007736116820218952, val_loss0.00915796132633065\n",
      "epoch50 save best model... tr_loss:0.0076585568667790534, val_loss0.009002292879506366\n",
      "epoch51 save best model... tr_loss:0.0075791814988207095, val_loss0.00898793548168171\n",
      "epoch52 save best model... tr_loss:0.007480680211753088, val_loss0.008938780626633065\n",
      "epoch53 save best model... tr_loss:0.007447776862209404, val_loss0.008822188490594735\n",
      "epoch54 save best model... tr_loss:0.00738737835586207, val_loss0.008795651187918661\n",
      "epoch55 save best model... tr_loss:0.007282766042766671, val_loss0.008775447174655492\n",
      "epoch56 save best model... tr_loss:0.007218142961199484, val_loss0.008707612296377515\n",
      "epoch59 save best model... tr_loss:0.007005459538076317, val_loss0.008505942263570652\n",
      "epoch60 save best model... tr_loss:0.0069123435872572945, val_loss0.00845226401000142\n",
      "epoch61 save best model... tr_loss:0.006840832143117858, val_loss0.0084347248485443\n",
      "epoch63 save best model... tr_loss:0.006702116818887854, val_loss0.008414396368443294\n",
      "epoch64 save best model... tr_loss:0.006599494841554794, val_loss0.008385953899132591\n",
      "epoch66 save best model... tr_loss:0.006488786606682315, val_loss0.008346085175324387\n",
      "epoch67 save best model... tr_loss:0.006408983767610451, val_loss0.0082708177044071\n",
      "epoch68 save best model... tr_loss:0.006308691574423744, val_loss0.008258477122009167\n",
      "epoch72 save best model... tr_loss:0.00606236914869561, val_loss0.008258064073657095\n",
      "epoch74 save best model... tr_loss:0.0059227783795459754, val_loss0.008222980482797024\n",
      "epoch76 save best model... tr_loss:0.005850386755697321, val_loss0.008199812634641169\n",
      "epoch78 save best model... tr_loss:0.005678054713049265, val_loss0.008185437019688614\n",
      "best epoch: epoch78\n",
      "Fold 3\n",
      "Set seed 42\n",
      "epoch0 save best model... tr_loss:0.5711500806203724, val_loss0.5017181111631198\n",
      "epoch1 save best model... tr_loss:0.33792382837647067, val_loss0.36073783101144846\n",
      "epoch2 save best model... tr_loss:0.2053871488973607, val_loss0.2774448220849309\n",
      "epoch3 save best model... tr_loss:0.13138490860914662, val_loss0.2030132100291567\n",
      "epoch4 save best model... tr_loss:0.08763432128857958, val_loss0.15810937987373197\n",
      "epoch5 save best model... tr_loss:0.06129530795516759, val_loss0.12400174923325998\n"
     ]
    },
    {
     "name": "stderr",
     "output_type": "stream",
     "text": [
      "epoch6 save best model... tr_loss:0.04447261248137394, val_loss0.09700529870995085\n",
      "epoch7 save best model... tr_loss:0.03343374826639456, val_loss0.0804451860029225\n",
      "epoch8 save best model... tr_loss:0.026053297387803123, val_loss0.06336974604458363\n",
      "epoch9 save best model... tr_loss:0.021141251542326742, val_loss0.05248457340689075\n",
      "epoch10 save best model... tr_loss:0.017750273764568524, val_loss0.04345115219202563\n",
      "epoch11 save best model... tr_loss:0.015423573162678603, val_loss0.03826363347555619\n",
      "epoch12 save best model... tr_loss:0.013804578127162735, val_loss0.031060486058609088\n",
      "epoch13 save best model... tr_loss:0.012691630427827583, val_loss0.027410512673827672\n",
      "epoch14 save best model... tr_loss:0.011869525246281367, val_loss0.023521469483376908\n",
      "epoch15 save best model... tr_loss:0.011333050736545646, val_loss0.021370658491460227\n",
      "epoch16 save best model... tr_loss:0.010926684051119878, val_loss0.019881740122914722\n",
      "epoch17 save best model... tr_loss:0.010613576104578963, val_loss0.0178809824202354\n",
      "epoch18 save best model... tr_loss:0.010398737300207744, val_loss0.016541604865724244\n",
      "epoch19 save best model... tr_loss:0.010202555228058711, val_loss0.015187518492527731\n",
      "epoch20 save best model... tr_loss:0.010062011887564113, val_loss0.014641438621034791\n",
      "epoch21 save best model... tr_loss:0.009912834895339652, val_loss0.01387263730142885\n",
      "epoch22 save best model... tr_loss:0.00979391038485796, val_loss0.013227247161226419\n",
      "epoch23 save best model... tr_loss:0.009663465457465364, val_loss0.012782259393644631\n",
      "epoch24 save best model... tr_loss:0.00954694585555172, val_loss0.012466430213675751\n",
      "epoch25 save best model... tr_loss:0.009479141093103936, val_loss0.012206055600501614\n",
      "epoch26 save best model... tr_loss:0.009392634573746065, val_loss0.011946434865372599\n",
      "epoch27 save best model... tr_loss:0.009306421401455019, val_loss0.011753576475668673\n",
      "epoch28 save best model... tr_loss:0.009212318896214022, val_loss0.011431459523100991\n",
      "epoch29 save best model... tr_loss:0.009141725426825294, val_loss0.011224520825706677\n",
      "epoch30 save best model... tr_loss:0.00906949392078023, val_loss0.011045819564440324\n",
      "epoch31 save best model... tr_loss:0.008993739859595297, val_loss0.011040882519096271\n",
      "epoch32 save best model... tr_loss:0.008916519351990173, val_loss0.010649570227645185\n",
      "epoch33 save best model... tr_loss:0.008856991034028304, val_loss0.010618546471245808\n",
      "epoch34 save best model... tr_loss:0.00878248006669655, val_loss0.010451543388850053\n",
      "epoch35 save best model... tr_loss:0.008688451090902362, val_loss0.010326025026568248\n",
      "epoch37 save best model... tr_loss:0.008536384418015333, val_loss0.010101743237007249\n",
      "epoch38 save best model... tr_loss:0.008491055611656965, val_loss0.010068306169877835\n",
      "epoch39 save best model... tr_loss:0.00843498111620926, val_loss0.00999587319562199\n",
      "epoch40 save best model... tr_loss:0.008350471586131756, val_loss0.00972607130044753\n",
      "epoch43 save best model... tr_loss:0.008119587936051135, val_loss0.009667133761608044\n",
      "epoch44 save best model... tr_loss:0.008064525258849735, val_loss0.009443755538238887\n",
      "epoch46 save best model... tr_loss:0.007921442826258113, val_loss0.009308936620228723\n",
      "epoch48 save best model... tr_loss:0.007794986864769437, val_loss0.009253065509759822\n",
      "epoch49 save best model... tr_loss:0.007716370592689155, val_loss0.009150251223873305\n",
      "epoch50 save best model... tr_loss:0.007634543018401974, val_loss0.009062314572572233\n",
      "epoch51 save best model... tr_loss:0.007568328636256556, val_loss0.009001772067083177\n",
      "epoch52 save best model... tr_loss:0.007487795151681741, val_loss0.00897165708591767\n",
      "epoch53 save best model... tr_loss:0.007407780978012911, val_loss0.008863136397594064\n",
      "epoch54 save best model... tr_loss:0.007326146696497054, val_loss0.008731826475624139\n",
      "epoch59 save best model... tr_loss:0.00696507376707057, val_loss0.008687871926865097\n",
      "epoch60 save best model... tr_loss:0.006896979661563235, val_loss0.008621123624256979\n",
      "epoch61 save best model... tr_loss:0.00680885709529865, val_loss0.008544190626820563\n",
      "epoch62 save best model... tr_loss:0.0067343571330386685, val_loss0.008492373799637876\n",
      "epoch63 save best model... tr_loss:0.006632449689158069, val_loss0.008468222753664559\n",
      "epoch64 save best model... tr_loss:0.006603400614690443, val_loss0.008462700144449303\n",
      "epoch65 save best model... tr_loss:0.006497319163176755, val_loss0.008379973409430109\n",
      "epoch68 save best model... tr_loss:0.006283872688178952, val_loss0.008375289770382072\n",
      "epoch70 save best model... tr_loss:0.006158240805685955, val_loss0.008365781240776216\n",
      "epoch72 save best model... tr_loss:0.006044868503469484, val_loss0.008351627798594009\n",
      "epoch73 save best model... tr_loss:0.005961990661164542, val_loss0.008335588280332184\n",
      "epoch74 save best model... tr_loss:0.005946298358013622, val_loss0.008308538368951894\n",
      "best epoch: epoch74\n",
      "Fold 4\n",
      "Set seed 42\n",
      "epoch0 save best model... tr_loss:0.5711345724815869, val_loss0.5031985529980862\n",
      "epoch1 save best model... tr_loss:0.3379572135036009, val_loss0.36015237804343525\n",
      "epoch2 save best model... tr_loss:0.20516906346935426, val_loss0.2672388959335667\n",
      "epoch3 save best model... tr_loss:0.13125084513240923, val_loss0.2045449494405661\n",
      "epoch4 save best model... tr_loss:0.08779828201462753, val_loss0.15648700234748203\n",
      "epoch5 save best model... tr_loss:0.061261050654643205, val_loss0.12189826761930672\n",
      "epoch6 save best model... tr_loss:0.044408822806049, val_loss0.09730574966841826\n",
      "epoch7 save best model... tr_loss:0.03337362369549644, val_loss0.0793588945044149\n",
      "epoch8 save best model... tr_loss:0.02607287385630129, val_loss0.06413266321274544\n",
      "epoch9 save best model... tr_loss:0.021158664711635477, val_loss0.05233607035215989\n",
      "epoch10 save best model... tr_loss:0.01770011592404849, val_loss0.04464549184232563\n",
      "epoch11 save best model... tr_loss:0.015451531615924009, val_loss0.03609135988942717\n",
      "epoch12 save best model... tr_loss:0.013831788165848295, val_loss0.031232884589147258\n",
      "epoch13 save best model... tr_loss:0.012678688230591208, val_loss0.026667052447052336\n",
      "epoch14 save best model... tr_loss:0.011880055697036594, val_loss0.024285756012072158\n",
      "epoch15 save best model... tr_loss:0.01134134213487706, val_loss0.02118813589946926\n",
      "epoch16 save best model... tr_loss:0.010930045429671551, val_loss0.019598076734110445\n",
      "epoch17 save best model... tr_loss:0.01061935940448086, val_loss0.017814627524968648\n",
      "epoch18 save best model... tr_loss:0.01039180210043751, val_loss0.016823602262498183\n",
      "epoch19 save best model... tr_loss:0.010206567979227399, val_loss0.015477288739938661\n",
      "epoch20 save best model... tr_loss:0.010038213143261136, val_loss0.014744176702498779\n",
      "epoch21 save best model... tr_loss:0.00989612278419744, val_loss0.013975450433374783\n",
      "epoch22 save best model... tr_loss:0.009788095687658791, val_loss0.013295586980152752\n",
      "epoch23 save best model... tr_loss:0.009668561744666829, val_loss0.01285091434760534\n",
      "epoch24 save best model... tr_loss:0.009555607633053386, val_loss0.012465501368159543\n",
      "epoch25 save best model... tr_loss:0.009483894489596795, val_loss0.012425318022302505\n",
      "epoch26 save best model... tr_loss:0.00938220661605987, val_loss0.01181276572440019\n",
      "epoch27 save best model... tr_loss:0.009311258836214288, val_loss0.01178764021497302\n",
      "epoch28 save best model... tr_loss:0.00920161586016906, val_loss0.011502056024305728\n",
      "epoch29 save best model... tr_loss:0.009125290054447241, val_loss0.011365084714426195\n",
      "epoch30 save best model... tr_loss:0.009038780503192522, val_loss0.010887292185516068\n",
      "epoch31 save best model... tr_loss:0.008969225258783974, val_loss0.010821281076831403\n",
      "epoch32 save best model... tr_loss:0.008907605005924447, val_loss0.01062867520410991\n",
      "epoch33 save best model... tr_loss:0.008828747805112796, val_loss0.010613082260263485\n",
      "epoch34 save best model... tr_loss:0.008753463943713229, val_loss0.01058937459428684\n",
      "epoch35 save best model... tr_loss:0.008668726192868865, val_loss0.01043484306793026\n",
      "epoch36 save best model... tr_loss:0.008599488770786375, val_loss0.01026479779515822\n",
      "epoch37 save best model... tr_loss:0.0085328291459213, val_loss0.010237335451401382\n",
      "epoch38 save best model... tr_loss:0.008474490009622145, val_loss0.010064441196244455\n",
      "epoch39 save best model... tr_loss:0.008382027995956205, val_loss0.010029247280156783\n"
     ]
    },
    {
     "name": "stderr",
     "output_type": "stream",
     "text": [
      "epoch40 save best model... tr_loss:0.00833410248466271, val_loss0.009791003255499071\n",
      "epoch43 save best model... tr_loss:0.008131498046029006, val_loss0.009688765022120257\n",
      "epoch45 save best model... tr_loss:0.007971368859229732, val_loss0.009458972000992055\n",
      "epoch46 save best model... tr_loss:0.007898897947199697, val_loss0.009375519762153057\n",
      "epoch47 save best model... tr_loss:0.007835178012300256, val_loss0.009345778608709526\n",
      "epoch49 save best model... tr_loss:0.0076460554697856745, val_loss0.009262802439626568\n",
      "epoch50 save best model... tr_loss:0.007596215615592842, val_loss0.009166241057325764\n",
      "epoch51 save best model... tr_loss:0.007534089119234768, val_loss0.00909156708460998\n",
      "epoch53 save best model... tr_loss:0.007383594060840126, val_loss0.009051101563078657\n",
      "epoch54 save best model... tr_loss:0.007290739956121538, val_loss0.008876483282042503\n",
      "epoch55 save best model... tr_loss:0.007214549130141517, val_loss0.008871993477551547\n",
      "epoch56 save best model... tr_loss:0.007169963713789726, val_loss0.0088286133565596\n",
      "epoch57 save best model... tr_loss:0.007057686154492689, val_loss0.008794930761102413\n",
      "epoch58 save best model... tr_loss:0.006996953890091284, val_loss0.008687451307395103\n",
      "epoch60 save best model... tr_loss:0.00684869691073541, val_loss0.008653361778719044\n",
      "epoch61 save best model... tr_loss:0.0067927940837005625, val_loss0.00864668924916993\n",
      "epoch62 save best model... tr_loss:0.006701777790278795, val_loss0.008596047001202691\n",
      "epoch63 save best model... tr_loss:0.006626951245652226, val_loss0.00855557115841466\n",
      "epoch65 save best model... tr_loss:0.006470613379582056, val_loss0.008548960098277419\n",
      "epoch66 save best model... tr_loss:0.006420959641198444, val_loss0.008520797015659852\n",
      "epoch67 save best model... tr_loss:0.00635169494139153, val_loss0.008474509773267093\n",
      "epoch69 save best model... tr_loss:0.006208394748417076, val_loss0.00846716147317199\n",
      "epoch70 save best model... tr_loss:0.006141287001040187, val_loss0.008450567814200866\n",
      "epoch72 save best model... tr_loss:0.006035253480348709, val_loss0.00844226221868666\n",
      "epoch75 save best model... tr_loss:0.00585454529283881, val_loss0.00842489684458952\n",
      "epoch78 save best model... tr_loss:0.005634898624474686, val_loss0.008419843201412409\n",
      "best epoch: epoch78\n"
     ]
    },
    {
     "ename": "ValueError",
     "evalue": "y_true contains only one label (0). Please provide the true labels explicitly through the labels argument.",
     "output_type": "error",
     "traceback": [
      "\u001b[0;31m---------------------------------------------------------------------------\u001b[0m",
      "\u001b[0;31mValueError\u001b[0m                                Traceback (most recent call last)",
      "\u001b[0;32m<ipython-input-13-2fc4e172a4c1>\u001b[0m in \u001b[0;36m<module>\u001b[0;34m\u001b[0m\n\u001b[1;32m     10\u001b[0m                                          \u001b[0mdevice\u001b[0m\u001b[0;34m,\u001b[0m\u001b[0;34m\u001b[0m\u001b[0;34m\u001b[0m\u001b[0m\n\u001b[1;32m     11\u001b[0m                                          \u001b[0mmodel_path\u001b[0m\u001b[0;34m=\u001b[0m\u001b[0mmodel_path\u001b[0m\u001b[0;34m,\u001b[0m\u001b[0;34m\u001b[0m\u001b[0;34m\u001b[0m\u001b[0m\n\u001b[0;32m---> 12\u001b[0;31m                                          n_fold=5, seed=42)\n\u001b[0m\u001b[1;32m     13\u001b[0m \u001b[0mscore\u001b[0m \u001b[0;34m=\u001b[0m \u001b[0;36m0\u001b[0m\u001b[0;34m\u001b[0m\u001b[0;34m\u001b[0m\u001b[0m\n\u001b[1;32m     14\u001b[0m \u001b[0;32mfor\u001b[0m \u001b[0mi\u001b[0m \u001b[0;32min\u001b[0m \u001b[0mrange\u001b[0m\u001b[0;34m(\u001b[0m\u001b[0mtarget\u001b[0m\u001b[0;34m.\u001b[0m\u001b[0mshape\u001b[0m\u001b[0;34m[\u001b[0m\u001b[0;36m1\u001b[0m\u001b[0;34m]\u001b[0m\u001b[0;34m)\u001b[0m\u001b[0;34m:\u001b[0m\u001b[0;34m\u001b[0m\u001b[0;34m\u001b[0m\u001b[0m\n",
      "\u001b[0;32m<ipython-input-12-127c7ee138b7>\u001b[0m in \u001b[0;36mrun_kfold_nn\u001b[0;34m(cfg, train, test, folds, num_features, cat_features, target, target_cols, device, model_path, n_fold, seed)\u001b[0m\n\u001b[1;32m     95\u001b[0m     \u001b[0mscore\u001b[0m \u001b[0;34m=\u001b[0m \u001b[0;36m0\u001b[0m\u001b[0;34m\u001b[0m\u001b[0;34m\u001b[0m\u001b[0m\n\u001b[1;32m     96\u001b[0m     \u001b[0;32mfor\u001b[0m \u001b[0mi\u001b[0m \u001b[0;32min\u001b[0m \u001b[0mrange\u001b[0m\u001b[0;34m(\u001b[0m\u001b[0mtarget\u001b[0m\u001b[0;34m.\u001b[0m\u001b[0mshape\u001b[0m\u001b[0;34m[\u001b[0m\u001b[0;36m1\u001b[0m\u001b[0;34m]\u001b[0m\u001b[0;34m)\u001b[0m\u001b[0;34m:\u001b[0m\u001b[0;34m\u001b[0m\u001b[0;34m\u001b[0m\u001b[0m\n\u001b[0;32m---> 97\u001b[0;31m         \u001b[0m_score\u001b[0m \u001b[0;34m=\u001b[0m \u001b[0mlog_loss\u001b[0m\u001b[0;34m(\u001b[0m\u001b[0mtarget\u001b[0m\u001b[0;34m[\u001b[0m\u001b[0;34m:\u001b[0m\u001b[0;34m,\u001b[0m\u001b[0mi\u001b[0m\u001b[0;34m]\u001b[0m\u001b[0;34m,\u001b[0m \u001b[0moof\u001b[0m\u001b[0;34m[\u001b[0m\u001b[0;34m:\u001b[0m\u001b[0;34m,\u001b[0m\u001b[0mi\u001b[0m\u001b[0;34m]\u001b[0m\u001b[0;34m)\u001b[0m\u001b[0;34m\u001b[0m\u001b[0;34m\u001b[0m\u001b[0m\n\u001b[0m\u001b[1;32m     98\u001b[0m         \u001b[0mscore\u001b[0m \u001b[0;34m+=\u001b[0m \u001b[0m_score\u001b[0m \u001b[0;34m/\u001b[0m \u001b[0mtarget\u001b[0m\u001b[0;34m.\u001b[0m\u001b[0mshape\u001b[0m\u001b[0;34m[\u001b[0m\u001b[0;36m1\u001b[0m\u001b[0;34m]\u001b[0m\u001b[0;34m\u001b[0m\u001b[0;34m\u001b[0m\u001b[0m\n\u001b[1;32m     99\u001b[0m     \u001b[0mlogger\u001b[0m\u001b[0;34m.\u001b[0m\u001b[0minfo\u001b[0m\u001b[0;34m(\u001b[0m\u001b[0;34mf\"CV score: {score}\"\u001b[0m\u001b[0;34m)\u001b[0m\u001b[0;34m\u001b[0m\u001b[0;34m\u001b[0m\u001b[0m\n",
      "\u001b[0;32m~/anaconda3/lib/python3.7/site-packages/sklearn/utils/validation.py\u001b[0m in \u001b[0;36minner_f\u001b[0;34m(*args, **kwargs)\u001b[0m\n\u001b[1;32m     70\u001b[0m                           FutureWarning)\n\u001b[1;32m     71\u001b[0m         \u001b[0mkwargs\u001b[0m\u001b[0;34m.\u001b[0m\u001b[0mupdate\u001b[0m\u001b[0;34m(\u001b[0m\u001b[0;34m{\u001b[0m\u001b[0mk\u001b[0m\u001b[0;34m:\u001b[0m \u001b[0marg\u001b[0m \u001b[0;32mfor\u001b[0m \u001b[0mk\u001b[0m\u001b[0;34m,\u001b[0m \u001b[0marg\u001b[0m \u001b[0;32min\u001b[0m \u001b[0mzip\u001b[0m\u001b[0;34m(\u001b[0m\u001b[0msig\u001b[0m\u001b[0;34m.\u001b[0m\u001b[0mparameters\u001b[0m\u001b[0;34m,\u001b[0m \u001b[0margs\u001b[0m\u001b[0;34m)\u001b[0m\u001b[0;34m}\u001b[0m\u001b[0;34m)\u001b[0m\u001b[0;34m\u001b[0m\u001b[0;34m\u001b[0m\u001b[0m\n\u001b[0;32m---> 72\u001b[0;31m         \u001b[0;32mreturn\u001b[0m \u001b[0mf\u001b[0m\u001b[0;34m(\u001b[0m\u001b[0;34m**\u001b[0m\u001b[0mkwargs\u001b[0m\u001b[0;34m)\u001b[0m\u001b[0;34m\u001b[0m\u001b[0;34m\u001b[0m\u001b[0m\n\u001b[0m\u001b[1;32m     73\u001b[0m     \u001b[0;32mreturn\u001b[0m \u001b[0minner_f\u001b[0m\u001b[0;34m\u001b[0m\u001b[0;34m\u001b[0m\u001b[0m\n\u001b[1;32m     74\u001b[0m \u001b[0;34m\u001b[0m\u001b[0m\n",
      "\u001b[0;32m~/anaconda3/lib/python3.7/site-packages/sklearn/metrics/_classification.py\u001b[0m in \u001b[0;36mlog_loss\u001b[0;34m(y_true, y_pred, eps, normalize, sample_weight, labels)\u001b[0m\n\u001b[1;32m   2198\u001b[0m             raise ValueError('y_true contains only one label ({0}). Please '\n\u001b[1;32m   2199\u001b[0m                              \u001b[0;34m'provide the true labels explicitly through the '\u001b[0m\u001b[0;34m\u001b[0m\u001b[0;34m\u001b[0m\u001b[0m\n\u001b[0;32m-> 2200\u001b[0;31m                              'labels argument.'.format(lb.classes_[0]))\n\u001b[0m\u001b[1;32m   2201\u001b[0m         \u001b[0;32melse\u001b[0m\u001b[0;34m:\u001b[0m\u001b[0;34m\u001b[0m\u001b[0;34m\u001b[0m\u001b[0m\n\u001b[1;32m   2202\u001b[0m             raise ValueError('The labels array needs to contain at least two '\n",
      "\u001b[0;31mValueError\u001b[0m: y_true contains only one label (0). Please provide the true labels explicitly through the labels argument."
     ]
    }
   ],
   "source": [
    "# Seed Averaging for solid result\n",
    "oof = np.zeros((len(train), len(target_cols)))\n",
    "predictions = np.zeros((len(test), len(target_cols)))\n",
    "\n",
    "#SEED = [0, 1, 2]\n",
    "#for seed in SEED:\n",
    "oof, predictions, log_dfs = run_kfold_nn(CFG,\n",
    "                                         train, test, folds, \n",
    "                                         num_features, cat_features, target, target_cols,\n",
    "                                         device,\n",
    "                                         model_path=model_path,\n",
    "                                         n_fold=5, seed=42)"
   ]
  },
  {
   "cell_type": "code",
   "execution_count": null,
   "metadata": {
    "execution": {
     "iopub.execute_input": "2020-09-08T14:25:57.419903Z",
     "iopub.status.busy": "2020-09-08T14:25:57.417895Z",
     "iopub.status.idle": "2020-09-08T14:26:13.655921Z",
     "shell.execute_reply": "2020-09-08T14:26:13.655097Z"
    },
    "papermill": {
     "duration": 16.472358,
     "end_time": "2020-09-08T14:26:13.656055",
     "exception": false,
     "start_time": "2020-09-08T14:25:57.183697",
     "status": "completed"
    },
    "tags": []
   },
   "outputs": [],
   "source": [
    "train[target_cols] = oof\n",
    "train[['sig_id']+target_cols].to_csv(out_base_path + '/oof.csv', index=False)\n",
    "\n",
    "test[target_cols] = predictions\n",
    "test[['sig_id']+target_cols].to_csv(out_base_path + '/pred.csv', index=False)"
   ]
  },
  {
   "cell_type": "code",
   "execution_count": null,
   "metadata": {
    "execution": {
     "iopub.execute_input": "2020-09-08T14:26:13.719342Z",
     "iopub.status.busy": "2020-09-08T14:26:13.718015Z",
     "iopub.status.idle": "2020-09-08T14:26:14.715044Z",
     "shell.execute_reply": "2020-09-08T14:26:14.715537Z"
    },
    "papermill": {
     "duration": 1.037984,
     "end_time": "2020-09-08T14:26:14.715697",
     "exception": false,
     "start_time": "2020-09-08T14:26:13.677713",
     "status": "completed"
    },
    "tags": []
   },
   "outputs": [],
   "source": [
    "# Final result with 'cp_type'=='ctl_vehicle' data\n",
    "result = train_targets_scored.drop(columns=target_cols)\\\n",
    "            .merge(train[['sig_id']+target_cols], on='sig_id', how='left').fillna(0)\n",
    "y_true = train_targets_scored[target_cols].values\n",
    "y_pred = result[target_cols].values\n",
    "score = 0\n",
    "for i in range(y_true.shape[1]):\n",
    "    _score = log_loss(y_true[:,i], y_pred[:,i])\n",
    "    score += _score / y_true.shape[1]\n",
    "logger.info(f\"Final result: {score}\")"
   ]
  },
  {
   "cell_type": "markdown",
   "metadata": {},
   "source": [
    "# eval"
   ]
  },
  {
   "cell_type": "code",
   "execution_count": null,
   "metadata": {},
   "outputs": [],
   "source": [
    "#model_path='/media/hiroki/working/kaggle/Mechanisms-of-Action-Prediction/working/experiment/MLP/baseline2/fold0_seed0.pth'"
   ]
  },
  {
   "cell_type": "code",
   "execution_count": null,
   "metadata": {},
   "outputs": [],
   "source": [
    "def run_single_nn_evaluation(cfg, model_path, test, num_features, cat_features, target, device):\n",
    "    # predictions\n",
    "    test_dataset = TestDataset(test, num_features, cat_features)\n",
    "    test_loader = DataLoader(test_dataset, batch_size=cfg.batch_size, shuffle=False, \n",
    "                             num_workers=4, pin_memory=True)\n",
    "    model = TabularNN(cfg)\n",
    "    model.load_state_dict(torch.load(model_path))\n",
    "    model.to(device)\n",
    "    predictions = inference_fn(test_loader, model, device)\n",
    "    \n",
    "    # del\n",
    "    torch.cuda.empty_cache()\n",
    "    return predictions"
   ]
  },
  {
   "cell_type": "code",
   "execution_count": null,
   "metadata": {},
   "outputs": [],
   "source": [
    "# Seed Averaging for solid result\n",
    "#oof = np.zeros((len(train), len(CFG.target_cols)))\n",
    "\n",
    "prediction = run_single_nn_evaluation(cfg=CFG,\n",
    "                                      model_path=model_path,\n",
    "                                      test=test,\n",
    "                                      num_features=num_features,\n",
    "                                      cat_features=cat_features,\n",
    "                                      target=target,\n",
    "                                      device='cpu')"
   ]
  },
  {
   "cell_type": "code",
   "execution_count": null,
   "metadata": {},
   "outputs": [],
   "source": [
    "test[target_cols] = predictions\n",
    "test[['sig_id']+target_cols].to_csv('pred.csv', index=False)"
   ]
  },
  {
   "cell_type": "markdown",
   "metadata": {
    "papermill": {
     "duration": 0.021095,
     "end_time": "2020-09-08T14:26:14.759501",
     "exception": false,
     "start_time": "2020-09-08T14:26:14.738406",
     "status": "completed"
    },
    "tags": []
   },
   "source": [
    "# Submit"
   ]
  },
  {
   "cell_type": "code",
   "execution_count": null,
   "metadata": {
    "execution": {
     "iopub.execute_input": "2020-09-08T14:26:14.813973Z",
     "iopub.status.busy": "2020-09-08T14:26:14.812453Z",
     "iopub.status.idle": "2020-09-08T14:26:16.901077Z",
     "shell.execute_reply": "2020-09-08T14:26:16.901622Z"
    },
    "papermill": {
     "duration": 2.121174,
     "end_time": "2020-09-08T14:26:16.901761",
     "exception": false,
     "start_time": "2020-09-08T14:26:14.780587",
     "status": "completed"
    },
    "tags": []
   },
   "outputs": [],
   "source": [
    "sub = submission.drop(columns=target_cols).merge(test[['sig_id']+target_cols], on='sig_id', how='left').fillna(0)\n",
    "sub.to_csv('submission.csv', index=False)\n",
    "sub.head()"
   ]
  },
  {
   "cell_type": "code",
   "execution_count": null,
   "metadata": {},
   "outputs": [],
   "source": []
  }
 ],
 "metadata": {
  "kernelspec": {
   "display_name": "Python 3",
   "language": "python",
   "name": "python3"
  },
  "language_info": {
   "codemirror_mode": {
    "name": "ipython",
    "version": 3
   },
   "file_extension": ".py",
   "mimetype": "text/x-python",
   "name": "python",
   "nbconvert_exporter": "python",
   "pygments_lexer": "ipython3",
   "version": "3.7.7"
  },
  "papermill": {
   "duration": 1656.681383,
   "end_time": "2020-09-08T14:26:18.104016",
   "environment_variables": {},
   "exception": null,
   "input_path": "__notebook__.ipynb",
   "output_path": "__notebook__.ipynb",
   "parameters": {},
   "start_time": "2020-09-08T13:58:41.422633",
   "version": "2.1.0"
  },
  "toc": {
   "base_numbering": 1,
   "nav_menu": {},
   "number_sections": true,
   "sideBar": true,
   "skip_h1_title": false,
   "title_cell": "Table of Contents",
   "title_sidebar": "Contents",
   "toc_cell": false,
   "toc_position": {},
   "toc_section_display": true,
   "toc_window_display": false
  }
 },
 "nbformat": 4,
 "nbformat_minor": 4
}
