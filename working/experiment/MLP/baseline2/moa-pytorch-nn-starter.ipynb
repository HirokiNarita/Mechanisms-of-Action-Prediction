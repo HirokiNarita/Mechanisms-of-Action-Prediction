{
 "cells": [
  {
   "cell_type": "markdown",
   "metadata": {
    "papermill": {
     "duration": 0.009121,
     "end_time": "2020-09-08T13:58:46.154904",
     "exception": false,
     "start_time": "2020-09-08T13:58:46.145783",
     "status": "completed"
    },
    "tags": []
   },
   "source": [
    "# About this notebook\n",
    "\n",
    "- PyTorch NN starter code\n",
    "- MultilabelStratifiedKFold 5 folds \n",
    "\n",
    "If this notebook is helpful, feel free to upvote :)"
   ]
  },
  {
   "cell_type": "markdown",
   "metadata": {
    "papermill": {
     "duration": 0.008966,
     "end_time": "2020-09-08T13:58:46.171673",
     "exception": false,
     "start_time": "2020-09-08T13:58:46.162707",
     "status": "completed"
    },
    "tags": []
   },
   "source": [
    "# Library"
   ]
  },
  {
   "cell_type": "code",
   "execution_count": 1,
   "metadata": {
    "execution": {
     "iopub.execute_input": "2020-09-08T13:58:46.193221Z",
     "iopub.status.busy": "2020-09-08T13:58:46.192262Z",
     "iopub.status.idle": "2020-09-08T13:58:47.177283Z",
     "shell.execute_reply": "2020-09-08T13:58:47.176008Z"
    },
    "papermill": {
     "duration": 0.998011,
     "end_time": "2020-09-08T13:58:47.177459",
     "exception": false,
     "start_time": "2020-09-08T13:58:46.179448",
     "status": "completed"
    },
    "tags": []
   },
   "outputs": [],
   "source": [
    "import sys\n",
    "sys.path.append('../input/iterative-stratification/iterative-stratification-master')\n",
    "from iterstrat.ml_stratifiers import MultilabelStratifiedKFold"
   ]
  },
  {
   "cell_type": "code",
   "execution_count": 2,
   "metadata": {
    "_cell_guid": "b1076dfc-b9ad-4769-8c92-a6c4dae69d19",
    "_uuid": "8f2839f25d086af736a60e9eeb907d3b93b6e0e5",
    "execution": {
     "iopub.execute_input": "2020-09-08T13:58:47.202786Z",
     "iopub.status.busy": "2020-09-08T13:58:47.201985Z",
     "iopub.status.idle": "2020-09-08T13:58:49.136558Z",
     "shell.execute_reply": "2020-09-08T13:58:49.135637Z"
    },
    "papermill": {
     "duration": 1.950692,
     "end_time": "2020-09-08T13:58:49.136686",
     "exception": false,
     "start_time": "2020-09-08T13:58:47.185994",
     "status": "completed"
    },
    "tags": []
   },
   "outputs": [],
   "source": [
    "import os\n",
    "import gc\n",
    "import random\n",
    "import math\n",
    "import time\n",
    "\n",
    "import numpy as np\n",
    "import pandas as pd\n",
    "\n",
    "from sklearn.model_selection import StratifiedKFold, GroupKFold, KFold\n",
    "from sklearn.metrics import log_loss\n",
    "\n",
    "import category_encoders as ce\n",
    "\n",
    "import torch\n",
    "import torch.nn as nn\n",
    "from torch.utils.data import DataLoader, Dataset\n",
    "import torch.optim as optim\n",
    "import torch.nn.functional as F\n",
    "\n",
    "import warnings\n",
    "warnings.filterwarnings(\"ignore\")\n",
    "\n",
    "device = torch.device('cuda' if torch.cuda.is_available() else 'cpu')"
   ]
  },
  {
   "cell_type": "markdown",
   "metadata": {
    "papermill": {
     "duration": 0.007314,
     "end_time": "2020-09-08T13:58:49.151697",
     "exception": false,
     "start_time": "2020-09-08T13:58:49.144383",
     "status": "completed"
    },
    "tags": []
   },
   "source": [
    "# Utils"
   ]
  },
  {
   "cell_type": "code",
   "execution_count": 3,
   "metadata": {
    "execution": {
     "iopub.execute_input": "2020-09-08T13:58:49.177284Z",
     "iopub.status.busy": "2020-09-08T13:58:49.176543Z",
     "iopub.status.idle": "2020-09-08T13:58:49.189249Z",
     "shell.execute_reply": "2020-09-08T13:58:49.188704Z"
    },
    "papermill": {
     "duration": 0.030233,
     "end_time": "2020-09-08T13:58:49.189342",
     "exception": false,
     "start_time": "2020-09-08T13:58:49.159109",
     "status": "completed"
    },
    "tags": []
   },
   "outputs": [],
   "source": [
    "def get_logger(filename='log'):\n",
    "    from logging import getLogger, INFO, StreamHandler, FileHandler, Formatter\n",
    "    logger = getLogger(__name__)\n",
    "    logger.setLevel(INFO)\n",
    "    handler1 = StreamHandler()\n",
    "    handler1.setFormatter(Formatter(\"%(message)s\"))\n",
    "    handler2 = FileHandler(filename=f\"{filename}.log\")\n",
    "    handler2.setFormatter(Formatter(\"%(message)s\"))\n",
    "    logger.addHandler(handler1)\n",
    "    logger.addHandler(handler2)\n",
    "    return logger\n",
    "\n",
    "logger = get_logger()\n",
    "\n",
    "\n",
    "def seed_everything(seed=42):\n",
    "    random.seed(seed)\n",
    "    os.environ['PYTHONHASHSEED'] = str(seed)\n",
    "    np.random.seed(seed)\n",
    "    torch.manual_seed(seed)\n",
    "    torch.cuda.manual_seed(seed)\n",
    "    torch.backends.cudnn.deterministic = True\n",
    "    \n",
    "seed_everything(seed=42)"
   ]
  },
  {
   "cell_type": "markdown",
   "metadata": {
    "papermill": {
     "duration": 0.007091,
     "end_time": "2020-09-08T13:58:49.204038",
     "exception": false,
     "start_time": "2020-09-08T13:58:49.196947",
     "status": "completed"
    },
    "tags": []
   },
   "source": [
    "# Data Loading"
   ]
  },
  {
   "cell_type": "code",
   "execution_count": 5,
   "metadata": {
    "execution": {
     "iopub.execute_input": "2020-09-08T13:58:49.222867Z",
     "iopub.status.busy": "2020-09-08T13:58:49.222260Z",
     "iopub.status.idle": "2020-09-08T13:58:49.230823Z",
     "shell.execute_reply": "2020-09-08T13:58:49.231354Z"
    },
    "papermill": {
     "duration": 0.020131,
     "end_time": "2020-09-08T13:58:49.231518",
     "exception": false,
     "start_time": "2020-09-08T13:58:49.211387",
     "status": "completed"
    },
    "tags": []
   },
   "outputs": [
    {
     "data": {
      "text/plain": [
       "['.fuse_hidden00000d3800000001',\n",
       " 'sample_submission.csv',\n",
       " 'test_features.csv',\n",
       " 'train_features.csv',\n",
       " 'train_targets_nonscored.csv',\n",
       " 'train_targets_scored.csv']"
      ]
     },
     "execution_count": 5,
     "metadata": {},
     "output_type": "execute_result"
    }
   ],
   "source": [
    "base_dir = '/media/hiroki/working/kaggle/Mechanisms-of-Action-Prediction/datasets'\n",
    "#os.listdir('../input/lish-moa')\n",
    "os.listdir(base_dir)"
   ]
  },
  {
   "cell_type": "code",
   "execution_count": 7,
   "metadata": {
    "_cell_guid": "79c7e3d0-c299-4dcb-8224-4455121ee9b0",
    "_uuid": "d629ff2d2480ee46fbb7e2d37f6b5fab8052498a",
    "execution": {
     "iopub.execute_input": "2020-09-08T13:58:49.254972Z",
     "iopub.status.busy": "2020-09-08T13:58:49.253876Z",
     "iopub.status.idle": "2020-09-08T13:58:55.736099Z",
     "shell.execute_reply": "2020-09-08T13:58:55.734864Z"
    },
    "papermill": {
     "duration": 6.496887,
     "end_time": "2020-09-08T13:58:55.736222",
     "exception": false,
     "start_time": "2020-09-08T13:58:49.239335",
     "status": "completed"
    },
    "tags": []
   },
   "outputs": [],
   "source": [
    "train_features = pd.read_csv(base_dir + '/train_features.csv')\n",
    "train_targets_scored = pd.read_csv(base_dir + '/train_targets_scored.csv')\n",
    "train_targets_nonscored = pd.read_csv(base_dir + '/train_targets_nonscored.csv')\n",
    "test_features = pd.read_csv(base_dir + '/test_features.csv')\n",
    "submission = pd.read_csv(base_dir + '/sample_submission.csv')\n",
    "\n",
    "#train_features = pd.read_csv('../input/lish-moa/train_features.csv')\n",
    "#train_targets_scored = pd.read_csv('../input/lish-moa/train_targets_scored.csv')\n",
    "#train_targets_nonscored = pd.read_csv('../input/lish-moa/train_targets_nonscored.csv')\n",
    "#test_features = pd.read_csv('../input/lish-moa/test_features.csv')\n",
    "#submission = pd.read_csv('../input/lish-moa/sample_submission.csv')"
   ]
  },
  {
   "cell_type": "code",
   "execution_count": 8,
   "metadata": {
    "execution": {
     "iopub.execute_input": "2020-09-08T13:58:55.762981Z",
     "iopub.status.busy": "2020-09-08T13:58:55.761701Z",
     "iopub.status.idle": "2020-09-08T13:58:55.997813Z",
     "shell.execute_reply": "2020-09-08T13:58:55.998342Z"
    },
    "papermill": {
     "duration": 0.253831,
     "end_time": "2020-09-08T13:58:55.998511",
     "exception": false,
     "start_time": "2020-09-08T13:58:55.744680",
     "status": "completed"
    },
    "tags": []
   },
   "outputs": [
    {
     "data": {
      "text/plain": [
       "cp_type\n",
       "ctl_vehicle        0\n",
       "trt_cp         16844\n",
       "dtype: int64"
      ]
     },
     "execution_count": 8,
     "metadata": {},
     "output_type": "execute_result"
    }
   ],
   "source": [
    "# ref: https://www.kaggle.com/c/lish-moa/discussion/180165\n",
    "# check if labels for 'ctl_vehicle' are all 0.\n",
    "train = train_features.merge(train_targets_scored, on='sig_id')\n",
    "target_cols = [c for c in train_targets_scored.columns if c not in ['sig_id']]\n",
    "cols = target_cols + ['cp_type']\n",
    "train[cols].groupby('cp_type').sum().sum(1)"
   ]
  },
  {
   "cell_type": "markdown",
   "metadata": {
    "papermill": {
     "duration": 0.007676,
     "end_time": "2020-09-08T13:58:56.015585",
     "exception": false,
     "start_time": "2020-09-08T13:58:56.007909",
     "status": "completed"
    },
    "tags": []
   },
   "source": [
    "- labels for 'ctl_vehicle' are all 0."
   ]
  },
  {
   "cell_type": "code",
   "execution_count": 9,
   "metadata": {
    "execution": {
     "iopub.execute_input": "2020-09-08T13:58:56.043408Z",
     "iopub.status.busy": "2020-09-08T13:58:56.042271Z",
     "iopub.status.idle": "2020-09-08T13:58:56.208019Z",
     "shell.execute_reply": "2020-09-08T13:58:56.208600Z"
    },
    "papermill": {
     "duration": 0.184939,
     "end_time": "2020-09-08T13:58:56.208766",
     "exception": false,
     "start_time": "2020-09-08T13:58:56.023827",
     "status": "completed"
    },
    "tags": []
   },
   "outputs": [
    {
     "name": "stdout",
     "output_type": "stream",
     "text": [
      "(23814, 876) (3982, 876)\n",
      "(21948, 1082) (3624, 876)\n"
     ]
    }
   ],
   "source": [
    "# constrcut train&test except 'cp_type'=='ctl_vehicle' data\n",
    "print(train_features.shape, test_features.shape)\n",
    "train = train[train['cp_type']!='ctl_vehicle'].reset_index(drop=True)\n",
    "test = test_features[test_features['cp_type']!='ctl_vehicle'].reset_index(drop=True)\n",
    "print(train.shape, test.shape)"
   ]
  },
  {
   "cell_type": "markdown",
   "metadata": {
    "papermill": {
     "duration": 0.00855,
     "end_time": "2020-09-08T13:58:56.226376",
     "exception": false,
     "start_time": "2020-09-08T13:58:56.217826",
     "status": "completed"
    },
    "tags": []
   },
   "source": [
    "# CV split"
   ]
  },
  {
   "cell_type": "code",
   "execution_count": 10,
   "metadata": {
    "execution": {
     "iopub.execute_input": "2020-09-08T13:58:56.251981Z",
     "iopub.status.busy": "2020-09-08T13:58:56.250632Z",
     "iopub.status.idle": "2020-09-08T13:58:58.019641Z",
     "shell.execute_reply": "2020-09-08T13:58:58.020506Z"
    },
    "papermill": {
     "duration": 1.785415,
     "end_time": "2020-09-08T13:58:58.020651",
     "exception": false,
     "start_time": "2020-09-08T13:58:56.235236",
     "status": "completed"
    },
    "tags": []
   },
   "outputs": [
    {
     "name": "stdout",
     "output_type": "stream",
     "text": [
      "(21948, 1083)\n"
     ]
    }
   ],
   "source": [
    "folds = train.copy()\n",
    "Fold = MultilabelStratifiedKFold(n_splits=5, shuffle=True, random_state=42)\n",
    "for n, (train_index, val_index) in enumerate(Fold.split(folds, folds[target_cols])):\n",
    "    folds.loc[val_index, 'fold'] = int(n)\n",
    "folds['fold'] = folds['fold'].astype(int)\n",
    "print(folds.shape)"
   ]
  },
  {
   "cell_type": "markdown",
   "metadata": {
    "papermill": {
     "duration": 0.007618,
     "end_time": "2020-09-08T13:58:58.036180",
     "exception": false,
     "start_time": "2020-09-08T13:58:58.028562",
     "status": "completed"
    },
    "tags": []
   },
   "source": [
    "# Dataset"
   ]
  },
  {
   "cell_type": "code",
   "execution_count": 11,
   "metadata": {
    "execution": {
     "iopub.execute_input": "2020-09-08T13:58:58.065233Z",
     "iopub.status.busy": "2020-09-08T13:58:58.063712Z",
     "iopub.status.idle": "2020-09-08T13:58:58.066385Z",
     "shell.execute_reply": "2020-09-08T13:58:58.066873Z"
    },
    "papermill": {
     "duration": 0.023106,
     "end_time": "2020-09-08T13:58:58.066983",
     "exception": false,
     "start_time": "2020-09-08T13:58:58.043877",
     "status": "completed"
    },
    "tags": []
   },
   "outputs": [],
   "source": [
    "class TrainDataset(Dataset):\n",
    "    def __init__(self, df, num_features, cat_features, labels):\n",
    "        self.cont_values = df[num_features].values\n",
    "        self.cate_values = df[cat_features].values\n",
    "        self.labels = labels\n",
    "        \n",
    "    def __len__(self):\n",
    "        return len(self.cont_values)\n",
    "\n",
    "    def __getitem__(self, idx):\n",
    "        cont_x = torch.FloatTensor(self.cont_values[idx])\n",
    "        cate_x = torch.LongTensor(self.cate_values[idx])\n",
    "        label = torch.tensor(self.labels[idx]).float()\n",
    "        \n",
    "        return cont_x, cate_x, label\n",
    "    \n",
    "\n",
    "class TestDataset(Dataset):\n",
    "    def __init__(self, df, num_features, cat_features):\n",
    "        self.cont_values = df[num_features].values\n",
    "        self.cate_values = df[cat_features].values\n",
    "        \n",
    "    def __len__(self):\n",
    "        return len(self.cont_values)\n",
    "\n",
    "    def __getitem__(self, idx):\n",
    "        cont_x = torch.FloatTensor(self.cont_values[idx])\n",
    "        cate_x = torch.LongTensor(self.cate_values[idx])\n",
    "        \n",
    "        return cont_x, cate_x"
   ]
  },
  {
   "cell_type": "code",
   "execution_count": 12,
   "metadata": {
    "execution": {
     "iopub.execute_input": "2020-09-08T13:58:58.091211Z",
     "iopub.status.busy": "2020-09-08T13:58:58.090254Z",
     "iopub.status.idle": "2020-09-08T13:58:58.255818Z",
     "shell.execute_reply": "2020-09-08T13:58:58.255246Z"
    },
    "papermill": {
     "duration": 0.181326,
     "end_time": "2020-09-08T13:58:58.255956",
     "exception": false,
     "start_time": "2020-09-08T13:58:58.074630",
     "status": "completed"
    },
    "tags": []
   },
   "outputs": [],
   "source": [
    "cat_features = ['cp_time', 'cp_dose']\n",
    "num_features = [c for c in train.columns if train.dtypes[c] != 'object']\n",
    "num_features = [c for c in num_features if c not in cat_features]\n",
    "num_features = [c for c in num_features if c not in target_cols]\n",
    "target = train[target_cols].values\n",
    "\n",
    "def cate2num(df):\n",
    "    df['cp_time'] = df['cp_time'].map({24: 0, 48: 1, 72: 2})\n",
    "    df['cp_dose'] = df['cp_dose'].map({'D1': 3, 'D2': 4})\n",
    "    return df\n",
    "\n",
    "train = cate2num(train)\n",
    "test = cate2num(test)"
   ]
  },
  {
   "cell_type": "markdown",
   "metadata": {
    "papermill": {
     "duration": 0.009087,
     "end_time": "2020-09-08T13:58:58.272946",
     "exception": false,
     "start_time": "2020-09-08T13:58:58.263859",
     "status": "completed"
    },
    "tags": []
   },
   "source": [
    "# MODEL"
   ]
  },
  {
   "cell_type": "code",
   "execution_count": 13,
   "metadata": {
    "execution": {
     "iopub.execute_input": "2020-09-08T13:58:58.304610Z",
     "iopub.status.busy": "2020-09-08T13:58:58.303602Z",
     "iopub.status.idle": "2020-09-08T13:58:58.309328Z",
     "shell.execute_reply": "2020-09-08T13:58:58.310065Z"
    },
    "papermill": {
     "duration": 0.02611,
     "end_time": "2020-09-08T13:58:58.310265",
     "exception": false,
     "start_time": "2020-09-08T13:58:58.284155",
     "status": "completed"
    },
    "tags": []
   },
   "outputs": [],
   "source": [
    "class CFG:\n",
    "    max_grad_norm=1000\n",
    "    gradient_accumulation_steps=1\n",
    "    hidden_size=512\n",
    "    dropout=0.5\n",
    "    lr=1e-2\n",
    "    weight_decay=1e-6\n",
    "    batch_size=32\n",
    "    epochs=20\n",
    "    #total_cate_size=5\n",
    "    #emb_size=4\n",
    "    num_features=num_features\n",
    "    cat_features=cat_features\n",
    "    target_cols=target_cols"
   ]
  },
  {
   "cell_type": "code",
   "execution_count": 14,
   "metadata": {
    "execution": {
     "iopub.execute_input": "2020-09-08T13:58:58.346209Z",
     "iopub.status.busy": "2020-09-08T13:58:58.344092Z",
     "iopub.status.idle": "2020-09-08T13:58:58.351934Z",
     "shell.execute_reply": "2020-09-08T13:58:58.353533Z"
    },
    "papermill": {
     "duration": 0.031826,
     "end_time": "2020-09-08T13:58:58.353723",
     "exception": false,
     "start_time": "2020-09-08T13:58:58.321897",
     "status": "completed"
    },
    "tags": []
   },
   "outputs": [],
   "source": [
    "class TabularNN(nn.Module):\n",
    "    def __init__(self, cfg):\n",
    "        super().__init__()\n",
    "        self.mlp = nn.Sequential(\n",
    "                          nn.Linear(len(cfg.num_features), cfg.hidden_size),\n",
    "                          nn.BatchNorm1d(cfg.hidden_size),\n",
    "                          nn.Dropout(cfg.dropout),\n",
    "                          nn.PReLU(),\n",
    "                          nn.Linear(cfg.hidden_size, cfg.hidden_size),\n",
    "                          nn.BatchNorm1d(cfg.hidden_size),\n",
    "                          nn.Dropout(cfg.dropout),\n",
    "                          nn.PReLU(),\n",
    "                          nn.Linear(cfg.hidden_size, len(cfg.target_cols)),\n",
    "                          )\n",
    "\n",
    "    def forward(self, cont_x, cate_x):\n",
    "        # no use of cate_x yet\n",
    "        x = self.mlp(cont_x)\n",
    "        return x"
   ]
  },
  {
   "cell_type": "code",
   "execution_count": 15,
   "metadata": {
    "execution": {
     "iopub.execute_input": "2020-09-08T13:58:58.389602Z",
     "iopub.status.busy": "2020-09-08T13:58:58.388737Z",
     "iopub.status.idle": "2020-09-08T13:58:58.422648Z",
     "shell.execute_reply": "2020-09-08T13:58:58.426337Z"
    },
    "papermill": {
     "duration": 0.060161,
     "end_time": "2020-09-08T13:58:58.426537",
     "exception": false,
     "start_time": "2020-09-08T13:58:58.366376",
     "status": "completed"
    },
    "tags": []
   },
   "outputs": [],
   "source": [
    "def train_fn(train_loader, model, optimizer, epoch, scheduler, device):\n",
    "    \n",
    "    losses = AverageMeter()\n",
    "\n",
    "    model.train()\n",
    "\n",
    "    for step, (cont_x, cate_x, y) in enumerate(train_loader):\n",
    "        \n",
    "        cont_x, cate_x, y = cont_x.to(device), cate_x.to(device), y.to(device)\n",
    "        batch_size = cont_x.size(0)\n",
    "\n",
    "        pred = model(cont_x, cate_x)\n",
    "        \n",
    "        loss = nn.BCEWithLogitsLoss()(pred, y)\n",
    "        losses.update(loss.item(), batch_size)\n",
    "\n",
    "        if CFG.gradient_accumulation_steps > 1:\n",
    "            loss = loss / CFG.gradient_accumulation_steps\n",
    "\n",
    "        loss.backward()\n",
    "        \n",
    "        grad_norm = torch.nn.utils.clip_grad_norm_(model.parameters(), CFG.max_grad_norm)\n",
    "\n",
    "        if (step + 1) % CFG.gradient_accumulation_steps == 0:\n",
    "            scheduler.step()\n",
    "            optimizer.step()\n",
    "            optimizer.zero_grad()\n",
    "        \n",
    "    return losses.avg\n",
    "\n",
    "\n",
    "def validate_fn(valid_loader, model, device):\n",
    "    \n",
    "    losses = AverageMeter()\n",
    "\n",
    "    model.eval()\n",
    "    val_preds = []\n",
    "\n",
    "    for step, (cont_x, cate_x, y) in enumerate(valid_loader):\n",
    "        \n",
    "        cont_x, cate_x, y = cont_x.to(device), cate_x.to(device), y.to(device)\n",
    "        batch_size = cont_x.size(0)\n",
    "\n",
    "        with torch.no_grad():\n",
    "            pred = model(cont_x, cate_x)\n",
    "            \n",
    "        loss = nn.BCEWithLogitsLoss()(pred, y)\n",
    "        losses.update(loss.item(), batch_size)\n",
    "\n",
    "        val_preds.append(pred.sigmoid().detach().cpu().numpy())\n",
    "\n",
    "        if CFG.gradient_accumulation_steps > 1:\n",
    "            loss = loss / CFG.gradient_accumulation_steps\n",
    "\n",
    "    val_preds = np.concatenate(val_preds)\n",
    "        \n",
    "    return losses.avg, val_preds\n",
    "\n",
    "\n",
    "def inference_fn(test_loader, model, device):\n",
    "\n",
    "    model.eval()\n",
    "    preds = []\n",
    "\n",
    "    for step, (cont_x, cate_x) in enumerate(test_loader):\n",
    "\n",
    "        cont_x,  cate_x = cont_x.to(device), cate_x.to(device)\n",
    "\n",
    "        with torch.no_grad():\n",
    "            pred = model(cont_x, cate_x)\n",
    "\n",
    "        preds.append(pred.sigmoid().detach().cpu().numpy())\n",
    "\n",
    "    preds = np.concatenate(preds)\n",
    "\n",
    "    return preds\n",
    "\n",
    "\n",
    "class AverageMeter(object):\n",
    "    \"\"\"Computes and stores the average and current value\"\"\"\n",
    "    def __init__(self):\n",
    "        self.reset()\n",
    "\n",
    "    def reset(self):\n",
    "        self.val = 0\n",
    "        self.avg = 0\n",
    "        self.sum = 0\n",
    "        self.count = 0\n",
    "\n",
    "    def update(self, val, n=1):\n",
    "        self.val = val\n",
    "        self.sum += val * n\n",
    "        self.count += n\n",
    "        self.avg = self.sum / self.count"
   ]
  },
  {
   "cell_type": "code",
   "execution_count": 16,
   "metadata": {
    "execution": {
     "iopub.execute_input": "2020-09-08T13:58:58.459240Z",
     "iopub.status.busy": "2020-09-08T13:58:58.458364Z",
     "iopub.status.idle": "2020-09-08T13:58:58.492244Z",
     "shell.execute_reply": "2020-09-08T13:58:58.493256Z"
    },
    "papermill": {
     "duration": 0.055118,
     "end_time": "2020-09-08T13:58:58.493441",
     "exception": false,
     "start_time": "2020-09-08T13:58:58.438323",
     "status": "completed"
    },
    "tags": []
   },
   "outputs": [],
   "source": [
    "def run_single_nn(cfg, train, test, folds, num_features, cat_features, target, device, fold_num=0, seed=42):\n",
    "    \n",
    "    # Set seed\n",
    "    logger.info(f'Set seed {seed}')\n",
    "    seed_everything(seed=seed)\n",
    "\n",
    "    # loader\n",
    "    trn_idx = folds[folds['fold'] != fold_num].index\n",
    "    val_idx = folds[folds['fold'] == fold_num].index\n",
    "    train_folds = train.loc[trn_idx].reset_index(drop=True)\n",
    "    valid_folds = train.loc[val_idx].reset_index(drop=True)\n",
    "    train_target = target[trn_idx]\n",
    "    valid_target = target[val_idx]\n",
    "    train_dataset = TrainDataset(train_folds, num_features, cat_features, train_target)\n",
    "    valid_dataset = TrainDataset(valid_folds, num_features, cat_features, valid_target)\n",
    "    train_loader = DataLoader(train_dataset, batch_size=cfg.batch_size, shuffle=True, \n",
    "                              num_workers=4, pin_memory=True, drop_last=True)\n",
    "    valid_loader = DataLoader(valid_dataset, batch_size=cfg.batch_size, shuffle=False, \n",
    "                              num_workers=4, pin_memory=True, drop_last=False)\n",
    "\n",
    "    # model\n",
    "    model = TabularNN(cfg)\n",
    "    model.to(device)\n",
    "    optimizer = optim.Adam(model.parameters(), lr=cfg.lr, weight_decay=cfg.weight_decay)\n",
    "    scheduler = optim.lr_scheduler.OneCycleLR(optimizer=optimizer, pct_start=0.1, div_factor=1e3, \n",
    "                                              max_lr=1e-2, epochs=cfg.epochs, steps_per_epoch=len(train_loader))\n",
    "\n",
    "    # log\n",
    "    log_df = pd.DataFrame(columns=(['EPOCH']+['TRAIN_LOSS']+['VALID_LOSS']) )\n",
    "\n",
    "    # train & validate\n",
    "    best_loss = np.inf\n",
    "    for epoch in range(cfg.epochs):\n",
    "        train_loss = train_fn(train_loader, model, optimizer, epoch, scheduler, device)\n",
    "        valid_loss, val_preds = validate_fn(valid_loader, model, device)\n",
    "        log_row = {'EPOCH': epoch, \n",
    "                   'TRAIN_LOSS': train_loss,\n",
    "                   'VALID_LOSS': valid_loss,\n",
    "                  }\n",
    "        log_df = log_df.append(pd.DataFrame(log_row, index=[0]), sort=False)\n",
    "        #logger.info(log_df.tail(1))\n",
    "        if valid_loss < best_loss:\n",
    "            logger.info(f'epoch{epoch} save best model... {valid_loss}')\n",
    "            best_loss = valid_loss\n",
    "            oof = np.zeros((len(train), len(cfg.target_cols)))\n",
    "            oof[val_idx] = val_preds\n",
    "            torch.save(model.state_dict(), f\"fold{fold_num}_seed{seed}.pth\")\n",
    "\n",
    "    # predictions\n",
    "    test_dataset = TestDataset(test, num_features, cat_features)\n",
    "    test_loader = DataLoader(test_dataset, batch_size=cfg.batch_size, shuffle=False, \n",
    "                             num_workers=4, pin_memory=True)\n",
    "    model = TabularNN(cfg)\n",
    "    model.load_state_dict(torch.load(f\"fold{fold_num}_seed{seed}.pth\"))\n",
    "    model.to(device)\n",
    "    predictions = inference_fn(test_loader, model, device)\n",
    "    \n",
    "    # del\n",
    "    torch.cuda.empty_cache()\n",
    "\n",
    "    return oof, predictions\n",
    "\n",
    "\n",
    "def run_kfold_nn(cfg, train, test, folds, num_features, cat_features, target, device, n_fold=5, seed=42):\n",
    "\n",
    "    oof = np.zeros((len(train), len(cfg.target_cols)))\n",
    "    predictions = np.zeros((len(test), len(cfg.target_cols)))\n",
    "\n",
    "    for _fold in range(n_fold):\n",
    "        logger.info(\"Fold {}\".format(_fold))\n",
    "        _oof, _predictions = run_single_nn(cfg,\n",
    "                                           train,\n",
    "                                           test,\n",
    "                                           folds,\n",
    "                                           num_features, \n",
    "                                           cat_features,\n",
    "                                           target, \n",
    "                                           device,\n",
    "                                           fold_num=_fold,\n",
    "                                           seed=seed)\n",
    "        oof += _oof\n",
    "        predictions += _predictions / n_fold\n",
    "\n",
    "    score = 0\n",
    "    for i in range(target.shape[1]):\n",
    "        _score = log_loss(target[:,i], oof[:,i])\n",
    "        score += _score / target.shape[1]\n",
    "    logger.info(f\"CV score: {score}\")\n",
    "    \n",
    "    return oof, predictions"
   ]
  },
  {
   "cell_type": "code",
   "execution_count": 17,
   "metadata": {
    "execution": {
     "iopub.execute_input": "2020-09-08T13:58:58.526361Z",
     "iopub.status.busy": "2020-09-08T13:58:58.525507Z",
     "iopub.status.idle": "2020-09-08T14:25:57.161365Z",
     "shell.execute_reply": "2020-09-08T14:25:57.161997Z"
    },
    "papermill": {
     "duration": 1618.657617,
     "end_time": "2020-09-08T14:25:57.162167",
     "exception": false,
     "start_time": "2020-09-08T13:58:58.504550",
     "status": "completed"
    },
    "tags": []
   },
   "outputs": [
    {
     "name": "stderr",
     "output_type": "stream",
     "text": [
      "Fold 0\n",
      "Set seed 0\n",
      "epoch0 save best model... 0.020932637995155635\n",
      "epoch1 save best model... 0.018820307481024152\n",
      "epoch2 save best model... 0.018154521185081613\n",
      "epoch3 save best model... 0.017682247374690475\n",
      "epoch5 save best model... 0.017219796780165886\n",
      "epoch10 save best model... 0.017118015102532975\n",
      "epoch11 save best model... 0.01694158597261664\n",
      "epoch13 save best model... 0.01666934386124847\n",
      "epoch14 save best model... 0.016664944916267736\n",
      "epoch15 save best model... 0.016439915026680213\n",
      "epoch16 save best model... 0.016345628836788324\n",
      "epoch17 save best model... 0.016341631905364556\n",
      "epoch18 save best model... 0.01630931063884008\n",
      "Fold 1\n",
      "Set seed 0\n",
      "epoch0 save best model... 0.020805866281440426\n",
      "epoch2 save best model... 0.01789195195672045\n",
      "epoch3 save best model... 0.017703492835096184\n",
      "epoch4 save best model... 0.017445604518429293\n",
      "epoch5 save best model... 0.017417834189154022\n",
      "epoch6 save best model... 0.01734974902878454\n",
      "epoch9 save best model... 0.017278669931520635\n",
      "epoch10 save best model... 0.01727085130581959\n",
      "epoch11 save best model... 0.01708090861661016\n",
      "epoch12 save best model... 0.01697202018527887\n",
      "epoch13 save best model... 0.016780781913081987\n",
      "epoch14 save best model... 0.016759934082016315\n",
      "epoch15 save best model... 0.016623842095901047\n",
      "epoch16 save best model... 0.01651861912365112\n",
      "epoch17 save best model... 0.01651092978079797\n",
      "epoch18 save best model... 0.016499799979608803\n",
      "Fold 2\n",
      "Set seed 0\n",
      "epoch0 save best model... 0.020856669966889407\n",
      "epoch1 save best model... 0.01858685382379367\n",
      "epoch2 save best model... 0.017937828287377014\n",
      "epoch3 save best model... 0.017352718370589968\n",
      "epoch4 save best model... 0.017285940898117632\n",
      "epoch5 save best model... 0.0169490154757909\n",
      "epoch9 save best model... 0.016783979644977264\n",
      "epoch11 save best model... 0.016742096741094517\n",
      "epoch12 save best model... 0.016442065130589042\n",
      "epoch13 save best model... 0.016346734424335357\n",
      "epoch14 save best model... 0.016240913355771828\n",
      "epoch15 save best model... 0.0160761084687665\n",
      "epoch16 save best model... 0.015918765073409995\n",
      "epoch17 save best model... 0.015851244609654425\n",
      "epoch18 save best model... 0.01585043943556071\n",
      "epoch19 save best model... 0.01583387188279845\n",
      "Fold 3\n",
      "Set seed 0\n",
      "epoch0 save best model... 0.020120219910063342\n",
      "epoch1 save best model... 0.0192842580997523\n",
      "epoch2 save best model... 0.017925431449517845\n",
      "epoch3 save best model... 0.017521070310069515\n",
      "epoch4 save best model... 0.017446424470522817\n",
      "epoch5 save best model... 0.017370738204492253\n",
      "epoch7 save best model... 0.01730220761014348\n",
      "epoch8 save best model... 0.017248328962704857\n",
      "epoch9 save best model... 0.017035741627997036\n",
      "epoch10 save best model... 0.017017051294564794\n",
      "epoch11 save best model... 0.01677405509698907\n",
      "epoch12 save best model... 0.01668599674770935\n",
      "epoch13 save best model... 0.01657106629180338\n",
      "epoch14 save best model... 0.01643693139034075\n",
      "epoch15 save best model... 0.016308516722197956\n",
      "epoch16 save best model... 0.0161408385512226\n",
      "epoch17 save best model... 0.0161345452023564\n",
      "Fold 4\n",
      "Set seed 0\n",
      "epoch0 save best model... 0.02018627770054949\n",
      "epoch1 save best model... 0.01887310727985988\n",
      "epoch2 save best model... 0.01819663423379405\n",
      "epoch3 save best model... 0.01771355151861064\n",
      "epoch4 save best model... 0.01767779866818701\n",
      "epoch5 save best model... 0.017492720665438596\n",
      "epoch7 save best model... 0.017283018947065243\n",
      "epoch10 save best model... 0.017220885466761322\n",
      "epoch11 save best model... 0.017020858270000504\n",
      "epoch12 save best model... 0.016996865149092554\n",
      "epoch13 save best model... 0.016867779678476035\n",
      "epoch14 save best model... 0.016680076671859743\n",
      "epoch15 save best model... 0.01657240781856679\n",
      "epoch16 save best model... 0.016366834597571697\n",
      "CV score: 0.016228884300074107\n",
      "Fold 0\n",
      "Set seed 1\n",
      "epoch0 save best model... 0.022060864399227574\n",
      "epoch1 save best model... 0.018940565119028634\n",
      "epoch2 save best model... 0.01801903213041247\n",
      "epoch3 save best model... 0.017611182314727736\n",
      "epoch4 save best model... 0.017533162933326664\n",
      "epoch6 save best model... 0.0174157997105347\n",
      "epoch7 save best model... 0.017363191359084533\n",
      "epoch10 save best model... 0.01705960998595915\n",
      "epoch11 save best model... 0.01699293119735286\n",
      "epoch12 save best model... 0.016851482860285764\n",
      "epoch13 save best model... 0.016713280793372753\n",
      "epoch14 save best model... 0.016506641425599676\n",
      "epoch15 save best model... 0.01634859050027941\n",
      "epoch17 save best model... 0.01633365032197335\n",
      "epoch18 save best model... 0.016294121508887524\n",
      "Fold 1\n",
      "Set seed 1\n",
      "epoch0 save best model... 0.020717365592548408\n",
      "epoch1 save best model... 0.019672804937649155\n",
      "epoch2 save best model... 0.017983936798463922\n",
      "epoch3 save best model... 0.017653017004862732\n",
      "epoch4 save best model... 0.01754946019033772\n",
      "epoch5 save best model... 0.017430235738261413\n",
      "epoch6 save best model... 0.017366567324499062\n",
      "epoch7 save best model... 0.017221915793174492\n",
      "epoch10 save best model... 0.017205551790247475\n",
      "epoch11 save best model... 0.01700989592625231\n",
      "epoch12 save best model... 0.017007133895891945\n",
      "epoch14 save best model... 0.016723162878584753\n",
      "epoch15 save best model... 0.016578416393089674\n",
      "epoch16 save best model... 0.01644858305166414\n",
      "epoch17 save best model... 0.0164179498367945\n",
      "Fold 2\n",
      "Set seed 1\n",
      "epoch0 save best model... 0.02004342679550549\n",
      "epoch1 save best model... 0.01863456618229229\n",
      "epoch2 save best model... 0.017911644122211273\n",
      "epoch3 save best model... 0.017263022412270762\n",
      "epoch4 save best model... 0.017189351557890847\n",
      "epoch5 save best model... 0.0170905466112322\n",
      "epoch7 save best model... 0.01704482400484721\n",
      "epoch8 save best model... 0.017039289809619138\n",
      "epoch9 save best model... 0.016850972141774306\n",
      "epoch10 save best model... 0.016779523532549894\n",
      "epoch11 save best model... 0.01662771160678043\n",
      "epoch13 save best model... 0.01646212990380659\n",
      "epoch14 save best model... 0.016133082430919227\n",
      "epoch15 save best model... 0.01601292080324212\n",
      "epoch16 save best model... 0.015974476947696353\n",
      "epoch17 save best model... 0.015860918880028423\n",
      "epoch18 save best model... 0.015859467011793013\n",
      "epoch19 save best model... 0.01585307410808047\n",
      "Fold 3\n",
      "Set seed 1\n",
      "epoch0 save best model... 0.020619402517795836\n",
      "epoch1 save best model... 0.018609229891915255\n",
      "epoch2 save best model... 0.017997398780306678\n",
      "epoch3 save best model... 0.017539332605525003\n",
      "epoch4 save best model... 0.017356834713802387\n",
      "epoch5 save best model... 0.017166000010619673\n",
      "epoch9 save best model... 0.017052185078467622\n",
      "epoch11 save best model... 0.01696079243780676\n",
      "epoch12 save best model... 0.016834143659519987\n",
      "epoch13 save best model... 0.016769437014988724\n",
      "epoch14 save best model... 0.016508442586487274\n",
      "epoch15 save best model... 0.016277970595111338\n",
      "epoch16 save best model... 0.016172860861927745\n",
      "Fold 4\n",
      "Set seed 1\n",
      "epoch0 save best model... 0.019842212334339752\n",
      "epoch1 save best model... 0.019135838440700256\n",
      "epoch2 save best model... 0.018419496654168935\n",
      "epoch3 save best model... 0.017847390801281476\n",
      "epoch4 save best model... 0.017582633358371857\n",
      "epoch5 save best model... 0.017474524186629998\n",
      "epoch6 save best model... 0.01728573387968707\n",
      "epoch8 save best model... 0.01720501002502295\n",
      "epoch10 save best model... 0.01716847196887643\n",
      "epoch11 save best model... 0.017034428360313686\n",
      "epoch12 save best model... 0.016970418482309298\n",
      "epoch13 save best model... 0.016785129146150927\n",
      "epoch14 save best model... 0.016588811026739692\n",
      "epoch15 save best model... 0.016460155700472403\n",
      "epoch16 save best model... 0.016441623265028515\n",
      "epoch17 save best model... 0.016409069505951134\n",
      "CV score: 0.016229429212447608\n",
      "Fold 0\n",
      "Set seed 2\n",
      "epoch0 save best model... 0.01994596975844922\n",
      "epoch1 save best model... 0.019028779056457834\n",
      "epoch2 save best model... 0.01824362973570145\n",
      "epoch3 save best model... 0.01780496023951739\n",
      "epoch4 save best model... 0.017540473376394406\n",
      "epoch5 save best model... 0.01736558392677872\n",
      "epoch6 save best model... 0.017323906202471744\n",
      "epoch10 save best model... 0.017089584764678683\n",
      "epoch12 save best model... 0.016862192050318376\n",
      "epoch13 save best model... 0.01672486844971131\n",
      "epoch14 save best model... 0.01662056893237563\n",
      "epoch15 save best model... 0.016402898343165398\n",
      "epoch16 save best model... 0.0162500178577179\n",
      "epoch18 save best model... 0.016246783085048604\n",
      "epoch19 save best model... 0.016245321582807632\n",
      "Fold 1\n",
      "Set seed 2\n"
     ]
    },
    {
     "name": "stderr",
     "output_type": "stream",
     "text": [
      "epoch0 save best model... 0.020039145865717346\n",
      "epoch1 save best model... 0.018975702117373296\n",
      "epoch2 save best model... 0.01859338411335793\n",
      "epoch3 save best model... 0.01778820897951077\n",
      "epoch4 save best model... 0.01750262139242032\n",
      "epoch5 save best model... 0.01740122841573522\n",
      "epoch7 save best model... 0.017200552768037912\n",
      "epoch11 save best model... 0.017127470011931073\n",
      "epoch12 save best model... 0.017043378777751077\n",
      "epoch13 save best model... 0.016812597742995802\n",
      "epoch15 save best model... 0.016619177443529046\n",
      "epoch16 save best model... 0.01644533447632757\n",
      "Fold 2\n",
      "Set seed 2\n",
      "epoch0 save best model... 0.019401746935078075\n",
      "epoch1 save best model... 0.018881576260949464\n",
      "epoch2 save best model... 0.01778509757188899\n",
      "epoch3 save best model... 0.017737094308237982\n",
      "epoch4 save best model... 0.017115310669042073\n",
      "epoch6 save best model... 0.01702637330277325\n",
      "epoch7 save best model... 0.016968562766378262\n",
      "epoch8 save best model... 0.016859281327729073\n",
      "epoch9 save best model... 0.01680371876255163\n",
      "epoch10 save best model... 0.016773354895090384\n",
      "epoch11 save best model... 0.0167577027108314\n",
      "epoch12 save best model... 0.016465708923199963\n",
      "epoch13 save best model... 0.016327798292702873\n",
      "epoch14 save best model... 0.01613187657825786\n",
      "epoch15 save best model... 0.015998608766916837\n",
      "epoch16 save best model... 0.01588893148476862\n",
      "epoch17 save best model... 0.01582631080456572\n",
      "epoch18 save best model... 0.015812906800536066\n",
      "Fold 3\n",
      "Set seed 2\n",
      "epoch0 save best model... 0.0204872085863474\n",
      "epoch1 save best model... 0.018720573050252126\n",
      "epoch2 save best model... 0.01810577628128485\n",
      "epoch3 save best model... 0.01786234097593466\n",
      "epoch4 save best model... 0.01760617734987399\n",
      "epoch5 save best model... 0.01737966521097886\n",
      "epoch7 save best model... 0.01709492051621776\n",
      "epoch11 save best model... 0.016930655780797804\n",
      "epoch13 save best model... 0.016726722190653003\n",
      "epoch14 save best model... 0.016437612613132712\n",
      "epoch15 save best model... 0.016381484104621653\n",
      "epoch16 save best model... 0.016259321288241747\n",
      "epoch17 save best model... 0.01622379909572881\n",
      "Fold 4\n",
      "Set seed 2\n",
      "epoch0 save best model... 0.02142032545537782\n",
      "epoch1 save best model... 0.01921912410658716\n",
      "epoch2 save best model... 0.01827884350637452\n",
      "epoch3 save best model... 0.017773703519636024\n",
      "epoch4 save best model... 0.017600241169591486\n",
      "epoch5 save best model... 0.01742832796611223\n",
      "epoch9 save best model... 0.01722458765032922\n",
      "epoch11 save best model... 0.016949386746930518\n",
      "epoch13 save best model... 0.016758754582917347\n",
      "epoch14 save best model... 0.016631022515613565\n",
      "epoch15 save best model... 0.01649507479926779\n",
      "epoch16 save best model... 0.01648749009060796\n",
      "epoch17 save best model... 0.016433175660009455\n",
      "epoch19 save best model... 0.01643272296424321\n",
      "CV score: 0.016232027489009572\n",
      "Seed Averaged CV score: 0.01607438078533149\n"
     ]
    }
   ],
   "source": [
    "# Seed Averaging for solid result\n",
    "oof = np.zeros((len(train), len(CFG.target_cols)))\n",
    "predictions = np.zeros((len(test), len(CFG.target_cols)))\n",
    "\n",
    "SEED = [0, 1, 2]\n",
    "for seed in SEED:\n",
    "    _oof, _predictions = run_kfold_nn(CFG,\n",
    "                                      train, test, folds, \n",
    "                                      num_features, cat_features, target,\n",
    "                                      device,\n",
    "                                      n_fold=5, seed=seed)\n",
    "    oof += _oof / len(SEED)\n",
    "    predictions += _predictions / len(SEED)\n",
    "\n",
    "score = 0\n",
    "for i in range(target.shape[1]):\n",
    "    _score = log_loss(target[:,i], oof[:,i])\n",
    "    score += _score / target.shape[1]\n",
    "logger.info(f\"Seed Averaged CV score: {score}\")"
   ]
  },
  {
   "cell_type": "code",
   "execution_count": 16,
   "metadata": {
    "execution": {
     "iopub.execute_input": "2020-09-08T14:25:57.419903Z",
     "iopub.status.busy": "2020-09-08T14:25:57.417895Z",
     "iopub.status.idle": "2020-09-08T14:26:13.655921Z",
     "shell.execute_reply": "2020-09-08T14:26:13.655097Z"
    },
    "papermill": {
     "duration": 16.472358,
     "end_time": "2020-09-08T14:26:13.656055",
     "exception": false,
     "start_time": "2020-09-08T14:25:57.183697",
     "status": "completed"
    },
    "tags": []
   },
   "outputs": [],
   "source": [
    "train[target_cols] = oof\n",
    "train[['sig_id']+target_cols].to_csv('oof.csv', index=False)\n",
    "\n",
    "test[target_cols] = predictions\n",
    "test[['sig_id']+target_cols].to_csv('pred.csv', index=False)"
   ]
  },
  {
   "cell_type": "code",
   "execution_count": 17,
   "metadata": {
    "execution": {
     "iopub.execute_input": "2020-09-08T14:26:13.719342Z",
     "iopub.status.busy": "2020-09-08T14:26:13.718015Z",
     "iopub.status.idle": "2020-09-08T14:26:14.715044Z",
     "shell.execute_reply": "2020-09-08T14:26:14.715537Z"
    },
    "papermill": {
     "duration": 1.037984,
     "end_time": "2020-09-08T14:26:14.715697",
     "exception": false,
     "start_time": "2020-09-08T14:26:13.677713",
     "status": "completed"
    },
    "tags": []
   },
   "outputs": [
    {
     "name": "stderr",
     "output_type": "stream",
     "text": [
      "Final result: 0.014805003594543058\n"
     ]
    }
   ],
   "source": [
    "# Final result with 'cp_type'=='ctl_vehicle' data\n",
    "result = train_targets_scored.drop(columns=target_cols)\\\n",
    "            .merge(train[['sig_id']+target_cols], on='sig_id', how='left').fillna(0)\n",
    "y_true = train_targets_scored[target_cols].values\n",
    "y_pred = result[target_cols].values\n",
    "score = 0\n",
    "for i in range(y_true.shape[1]):\n",
    "    _score = log_loss(y_true[:,i], y_pred[:,i])\n",
    "    score += _score / y_true.shape[1]\n",
    "logger.info(f\"Final result: {score}\")"
   ]
  },
  {
   "cell_type": "markdown",
   "metadata": {},
   "source": [
    "# eval"
   ]
  },
  {
   "cell_type": "code",
   "execution_count": 19,
   "metadata": {},
   "outputs": [],
   "source": [
    "model_path='/media/hiroki/working/kaggle/Mechanisms-of-Action-Prediction/working/experiment/MLP/baseline2/fold0_seed0.pth'"
   ]
  },
  {
   "cell_type": "code",
   "execution_count": 20,
   "metadata": {},
   "outputs": [],
   "source": [
    "def run_single_nn_evaluation(cfg, model_path, test, num_features, cat_features, target, device):\n",
    "    # predictions\n",
    "    test_dataset = TestDataset(test, num_features, cat_features)\n",
    "    test_loader = DataLoader(test_dataset, batch_size=cfg.batch_size, shuffle=False, \n",
    "                             num_workers=4, pin_memory=True)\n",
    "    model = TabularNN(cfg)\n",
    "    model.load_state_dict(torch.load(model_path))\n",
    "    model.to(device)\n",
    "    predictions = inference_fn(test_loader, model, device)\n",
    "    \n",
    "    # del\n",
    "    torch.cuda.empty_cache()\n",
    "    return predictions"
   ]
  },
  {
   "cell_type": "code",
   "execution_count": 22,
   "metadata": {},
   "outputs": [],
   "source": [
    "# Seed Averaging for solid result\n",
    "#oof = np.zeros((len(train), len(CFG.target_cols)))\n",
    "\n",
    "prediction = run_single_nn_evaluation(cfg=CFG,\n",
    "                                      model_path=model_path,\n",
    "                                      test=test,\n",
    "                                      num_features=num_features,\n",
    "                                      cat_features=cat_features,\n",
    "                                      target=target,\n",
    "                                      device='cpu')"
   ]
  },
  {
   "cell_type": "code",
   "execution_count": 25,
   "metadata": {},
   "outputs": [],
   "source": [
    "test[target_cols] = predictions\n",
    "test[['sig_id']+target_cols].to_csv('pred.csv', index=False)"
   ]
  },
  {
   "cell_type": "markdown",
   "metadata": {
    "papermill": {
     "duration": 0.021095,
     "end_time": "2020-09-08T14:26:14.759501",
     "exception": false,
     "start_time": "2020-09-08T14:26:14.738406",
     "status": "completed"
    },
    "tags": []
   },
   "source": [
    "# Submit"
   ]
  },
  {
   "cell_type": "code",
   "execution_count": 26,
   "metadata": {
    "execution": {
     "iopub.execute_input": "2020-09-08T14:26:14.813973Z",
     "iopub.status.busy": "2020-09-08T14:26:14.812453Z",
     "iopub.status.idle": "2020-09-08T14:26:16.901077Z",
     "shell.execute_reply": "2020-09-08T14:26:16.901622Z"
    },
    "papermill": {
     "duration": 2.121174,
     "end_time": "2020-09-08T14:26:16.901761",
     "exception": false,
     "start_time": "2020-09-08T14:26:14.780587",
     "status": "completed"
    },
    "tags": []
   },
   "outputs": [
    {
     "data": {
      "text/html": [
       "<div>\n",
       "<style scoped>\n",
       "    .dataframe tbody tr th:only-of-type {\n",
       "        vertical-align: middle;\n",
       "    }\n",
       "\n",
       "    .dataframe tbody tr th {\n",
       "        vertical-align: top;\n",
       "    }\n",
       "\n",
       "    .dataframe thead th {\n",
       "        text-align: right;\n",
       "    }\n",
       "</style>\n",
       "<table border=\"1\" class=\"dataframe\">\n",
       "  <thead>\n",
       "    <tr style=\"text-align: right;\">\n",
       "      <th></th>\n",
       "      <th>sig_id</th>\n",
       "      <th>5-alpha_reductase_inhibitor</th>\n",
       "      <th>11-beta-hsd1_inhibitor</th>\n",
       "      <th>acat_inhibitor</th>\n",
       "      <th>acetylcholine_receptor_agonist</th>\n",
       "      <th>acetylcholine_receptor_antagonist</th>\n",
       "      <th>acetylcholinesterase_inhibitor</th>\n",
       "      <th>adenosine_receptor_agonist</th>\n",
       "      <th>adenosine_receptor_antagonist</th>\n",
       "      <th>adenylyl_cyclase_activator</th>\n",
       "      <th>...</th>\n",
       "      <th>tropomyosin_receptor_kinase_inhibitor</th>\n",
       "      <th>trpv_agonist</th>\n",
       "      <th>trpv_antagonist</th>\n",
       "      <th>tubulin_inhibitor</th>\n",
       "      <th>tyrosine_kinase_inhibitor</th>\n",
       "      <th>ubiquitin_specific_protease_inhibitor</th>\n",
       "      <th>vegfr_inhibitor</th>\n",
       "      <th>vitamin_b</th>\n",
       "      <th>vitamin_d_receptor_agonist</th>\n",
       "      <th>wnt_inhibitor</th>\n",
       "    </tr>\n",
       "  </thead>\n",
       "  <tbody>\n",
       "    <tr>\n",
       "      <th>0</th>\n",
       "      <td>id_0004d9e33</td>\n",
       "      <td>0.000808</td>\n",
       "      <td>0.001310</td>\n",
       "      <td>0.001778</td>\n",
       "      <td>0.011422</td>\n",
       "      <td>0.030831</td>\n",
       "      <td>0.005141</td>\n",
       "      <td>0.001142</td>\n",
       "      <td>0.007376</td>\n",
       "      <td>0.000083</td>\n",
       "      <td>...</td>\n",
       "      <td>0.000513</td>\n",
       "      <td>0.000799</td>\n",
       "      <td>0.003594</td>\n",
       "      <td>0.000181</td>\n",
       "      <td>0.000342</td>\n",
       "      <td>0.000596</td>\n",
       "      <td>0.000237</td>\n",
       "      <td>0.001667</td>\n",
       "      <td>0.003253</td>\n",
       "      <td>0.001222</td>\n",
       "    </tr>\n",
       "    <tr>\n",
       "      <th>1</th>\n",
       "      <td>id_001897cda</td>\n",
       "      <td>0.000343</td>\n",
       "      <td>0.000667</td>\n",
       "      <td>0.001801</td>\n",
       "      <td>0.001430</td>\n",
       "      <td>0.001374</td>\n",
       "      <td>0.001664</td>\n",
       "      <td>0.007242</td>\n",
       "      <td>0.009013</td>\n",
       "      <td>0.011787</td>\n",
       "      <td>...</td>\n",
       "      <td>0.000658</td>\n",
       "      <td>0.000381</td>\n",
       "      <td>0.005166</td>\n",
       "      <td>0.000089</td>\n",
       "      <td>0.009190</td>\n",
       "      <td>0.000389</td>\n",
       "      <td>0.004172</td>\n",
       "      <td>0.000672</td>\n",
       "      <td>0.001604</td>\n",
       "      <td>0.003016</td>\n",
       "    </tr>\n",
       "    <tr>\n",
       "      <th>2</th>\n",
       "      <td>id_002429b5b</td>\n",
       "      <td>0.000000</td>\n",
       "      <td>0.000000</td>\n",
       "      <td>0.000000</td>\n",
       "      <td>0.000000</td>\n",
       "      <td>0.000000</td>\n",
       "      <td>0.000000</td>\n",
       "      <td>0.000000</td>\n",
       "      <td>0.000000</td>\n",
       "      <td>0.000000</td>\n",
       "      <td>...</td>\n",
       "      <td>0.000000</td>\n",
       "      <td>0.000000</td>\n",
       "      <td>0.000000</td>\n",
       "      <td>0.000000</td>\n",
       "      <td>0.000000</td>\n",
       "      <td>0.000000</td>\n",
       "      <td>0.000000</td>\n",
       "      <td>0.000000</td>\n",
       "      <td>0.000000</td>\n",
       "      <td>0.000000</td>\n",
       "    </tr>\n",
       "    <tr>\n",
       "      <th>3</th>\n",
       "      <td>id_00276f245</td>\n",
       "      <td>0.001066</td>\n",
       "      <td>0.000535</td>\n",
       "      <td>0.002702</td>\n",
       "      <td>0.017918</td>\n",
       "      <td>0.015066</td>\n",
       "      <td>0.004992</td>\n",
       "      <td>0.003166</td>\n",
       "      <td>0.003499</td>\n",
       "      <td>0.000127</td>\n",
       "      <td>...</td>\n",
       "      <td>0.000706</td>\n",
       "      <td>0.000458</td>\n",
       "      <td>0.003461</td>\n",
       "      <td>0.027830</td>\n",
       "      <td>0.009553</td>\n",
       "      <td>0.000523</td>\n",
       "      <td>0.001117</td>\n",
       "      <td>0.003328</td>\n",
       "      <td>0.000178</td>\n",
       "      <td>0.003792</td>\n",
       "    </tr>\n",
       "    <tr>\n",
       "      <th>4</th>\n",
       "      <td>id_0027f1083</td>\n",
       "      <td>0.001917</td>\n",
       "      <td>0.002952</td>\n",
       "      <td>0.002145</td>\n",
       "      <td>0.016164</td>\n",
       "      <td>0.021451</td>\n",
       "      <td>0.005510</td>\n",
       "      <td>0.007350</td>\n",
       "      <td>0.001573</td>\n",
       "      <td>0.000211</td>\n",
       "      <td>...</td>\n",
       "      <td>0.000886</td>\n",
       "      <td>0.000392</td>\n",
       "      <td>0.009714</td>\n",
       "      <td>0.006268</td>\n",
       "      <td>0.001083</td>\n",
       "      <td>0.000951</td>\n",
       "      <td>0.000708</td>\n",
       "      <td>0.001945</td>\n",
       "      <td>0.000095</td>\n",
       "      <td>0.001220</td>\n",
       "    </tr>\n",
       "  </tbody>\n",
       "</table>\n",
       "<p>5 rows × 207 columns</p>\n",
       "</div>"
      ],
      "text/plain": [
       "         sig_id  5-alpha_reductase_inhibitor  11-beta-hsd1_inhibitor  \\\n",
       "0  id_0004d9e33                     0.000808                0.001310   \n",
       "1  id_001897cda                     0.000343                0.000667   \n",
       "2  id_002429b5b                     0.000000                0.000000   \n",
       "3  id_00276f245                     0.001066                0.000535   \n",
       "4  id_0027f1083                     0.001917                0.002952   \n",
       "\n",
       "   acat_inhibitor  acetylcholine_receptor_agonist  \\\n",
       "0        0.001778                        0.011422   \n",
       "1        0.001801                        0.001430   \n",
       "2        0.000000                        0.000000   \n",
       "3        0.002702                        0.017918   \n",
       "4        0.002145                        0.016164   \n",
       "\n",
       "   acetylcholine_receptor_antagonist  acetylcholinesterase_inhibitor  \\\n",
       "0                           0.030831                        0.005141   \n",
       "1                           0.001374                        0.001664   \n",
       "2                           0.000000                        0.000000   \n",
       "3                           0.015066                        0.004992   \n",
       "4                           0.021451                        0.005510   \n",
       "\n",
       "   adenosine_receptor_agonist  adenosine_receptor_antagonist  \\\n",
       "0                    0.001142                       0.007376   \n",
       "1                    0.007242                       0.009013   \n",
       "2                    0.000000                       0.000000   \n",
       "3                    0.003166                       0.003499   \n",
       "4                    0.007350                       0.001573   \n",
       "\n",
       "   adenylyl_cyclase_activator  ...  tropomyosin_receptor_kinase_inhibitor  \\\n",
       "0                    0.000083  ...                               0.000513   \n",
       "1                    0.011787  ...                               0.000658   \n",
       "2                    0.000000  ...                               0.000000   \n",
       "3                    0.000127  ...                               0.000706   \n",
       "4                    0.000211  ...                               0.000886   \n",
       "\n",
       "   trpv_agonist  trpv_antagonist  tubulin_inhibitor  \\\n",
       "0      0.000799         0.003594           0.000181   \n",
       "1      0.000381         0.005166           0.000089   \n",
       "2      0.000000         0.000000           0.000000   \n",
       "3      0.000458         0.003461           0.027830   \n",
       "4      0.000392         0.009714           0.006268   \n",
       "\n",
       "   tyrosine_kinase_inhibitor  ubiquitin_specific_protease_inhibitor  \\\n",
       "0                   0.000342                               0.000596   \n",
       "1                   0.009190                               0.000389   \n",
       "2                   0.000000                               0.000000   \n",
       "3                   0.009553                               0.000523   \n",
       "4                   0.001083                               0.000951   \n",
       "\n",
       "   vegfr_inhibitor  vitamin_b  vitamin_d_receptor_agonist  wnt_inhibitor  \n",
       "0         0.000237   0.001667                    0.003253       0.001222  \n",
       "1         0.004172   0.000672                    0.001604       0.003016  \n",
       "2         0.000000   0.000000                    0.000000       0.000000  \n",
       "3         0.001117   0.003328                    0.000178       0.003792  \n",
       "4         0.000708   0.001945                    0.000095       0.001220  \n",
       "\n",
       "[5 rows x 207 columns]"
      ]
     },
     "execution_count": 26,
     "metadata": {},
     "output_type": "execute_result"
    }
   ],
   "source": [
    "sub = submission.drop(columns=target_cols).merge(test[['sig_id']+target_cols], on='sig_id', how='left').fillna(0)\n",
    "sub.to_csv('submission.csv', index=False)\n",
    "sub.head()"
   ]
  },
  {
   "cell_type": "code",
   "execution_count": null,
   "metadata": {},
   "outputs": [],
   "source": []
  }
 ],
 "metadata": {
  "kernelspec": {
   "display_name": "Python 3",
   "language": "python",
   "name": "python3"
  },
  "language_info": {
   "codemirror_mode": {
    "name": "ipython",
    "version": 3
   },
   "file_extension": ".py",
   "mimetype": "text/x-python",
   "name": "python",
   "nbconvert_exporter": "python",
   "pygments_lexer": "ipython3",
   "version": "3.7.7"
  },
  "papermill": {
   "duration": 1656.681383,
   "end_time": "2020-09-08T14:26:18.104016",
   "environment_variables": {},
   "exception": null,
   "input_path": "__notebook__.ipynb",
   "output_path": "__notebook__.ipynb",
   "parameters": {},
   "start_time": "2020-09-08T13:58:41.422633",
   "version": "2.1.0"
  },
  "toc": {
   "base_numbering": 1,
   "nav_menu": {},
   "number_sections": true,
   "sideBar": true,
   "skip_h1_title": false,
   "title_cell": "Table of Contents",
   "title_sidebar": "Contents",
   "toc_cell": false,
   "toc_position": {},
   "toc_section_display": true,
   "toc_window_display": false
  }
 },
 "nbformat": 4,
 "nbformat_minor": 4
}
