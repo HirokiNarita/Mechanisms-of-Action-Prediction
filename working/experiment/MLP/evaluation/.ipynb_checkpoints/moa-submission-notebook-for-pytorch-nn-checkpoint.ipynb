{
 "cells": [
  {
   "cell_type": "markdown",
   "metadata": {
    "papermill": {
     "duration": 0.013488,
     "end_time": "2020-10-19T11:40:21.753549",
     "exception": false,
     "start_time": "2020-10-19T11:40:21.740061",
     "status": "completed"
    },
    "tags": []
   },
   "source": [
    "This notebook was created to submit a model for the  ['MoA / PyTorch NN starter'](https://www.kaggle.com/yasufuminakama/moa-pytorch-nn-starter).   \n",
    "Thanks to Y.Nakama for providing the baseline."
   ]
  },
  {
   "cell_type": "markdown",
   "metadata": {
    "papermill": {
     "duration": 0.012431,
     "end_time": "2020-10-19T11:40:21.778677",
     "exception": false,
     "start_time": "2020-10-19T11:40:21.766246",
     "status": "completed"
    },
    "tags": []
   },
   "source": [
    "# Library"
   ]
  },
  {
   "cell_type": "code",
   "execution_count": 1,
   "metadata": {
    "execution": {
     "iopub.execute_input": "2020-10-19T11:40:21.811053Z",
     "iopub.status.busy": "2020-10-19T11:40:21.810324Z",
     "iopub.status.idle": "2020-10-19T11:40:24.675562Z",
     "shell.execute_reply": "2020-10-19T11:40:24.674611Z"
    },
    "papermill": {
     "duration": 2.884614,
     "end_time": "2020-10-19T11:40:24.675695",
     "exception": false,
     "start_time": "2020-10-19T11:40:21.791081",
     "status": "completed"
    },
    "tags": []
   },
   "outputs": [],
   "source": [
    "import os\n",
    "import random\n",
    "\n",
    "import numpy as np\n",
    "import pandas as pd\n",
    "\n",
    "import category_encoders as ce\n",
    "\n",
    "import torch\n",
    "import torch.nn as nn\n",
    "from torch.utils.data import DataLoader, Dataset\n",
    "import torch.optim as optim\n",
    "import torch.nn.functional as F\n",
    "\n",
    "import warnings\n",
    "warnings.filterwarnings(\"ignore\")\n",
    "\n",
    "device = torch.device('cuda' if torch.cuda.is_available() else 'cpu')"
   ]
  },
  {
   "cell_type": "markdown",
   "metadata": {
    "papermill": {
     "duration": 0.012611,
     "end_time": "2020-10-19T11:40:24.702721",
     "exception": false,
     "start_time": "2020-10-19T11:40:24.690110",
     "status": "completed"
    },
    "tags": []
   },
   "source": [
    "# Utils"
   ]
  },
  {
   "cell_type": "code",
   "execution_count": 2,
   "metadata": {
    "execution": {
     "iopub.execute_input": "2020-10-19T11:40:24.734388Z",
     "iopub.status.busy": "2020-10-19T11:40:24.733801Z",
     "iopub.status.idle": "2020-10-19T11:40:24.740317Z",
     "shell.execute_reply": "2020-10-19T11:40:24.739623Z"
    },
    "papermill": {
     "duration": 0.024893,
     "end_time": "2020-10-19T11:40:24.740418",
     "exception": false,
     "start_time": "2020-10-19T11:40:24.715525",
     "status": "completed"
    },
    "tags": []
   },
   "outputs": [],
   "source": [
    "def seed_everything(seed=42):\n",
    "    random.seed(seed)\n",
    "    os.environ['PYTHONHASHSEED'] = str(seed)\n",
    "    np.random.seed(seed)\n",
    "    torch.manual_seed(seed)\n",
    "    torch.cuda.manual_seed(seed)\n",
    "    torch.backends.cudnn.deterministic = True\n",
    "    \n",
    "seed_everything(seed=42)"
   ]
  },
  {
   "cell_type": "markdown",
   "metadata": {
    "papermill": {
     "duration": 0.01243,
     "end_time": "2020-10-19T11:40:24.765504",
     "exception": false,
     "start_time": "2020-10-19T11:40:24.753074",
     "status": "completed"
    },
    "tags": []
   },
   "source": [
    "# load"
   ]
  },
  {
   "cell_type": "code",
   "execution_count": 3,
   "metadata": {
    "execution": {
     "iopub.execute_input": "2020-10-19T11:40:24.797576Z",
     "iopub.status.busy": "2020-10-19T11:40:24.795668Z",
     "iopub.status.idle": "2020-10-19T11:40:25.665796Z",
     "shell.execute_reply": "2020-10-19T11:40:25.664949Z"
    },
    "papermill": {
     "duration": 0.887591,
     "end_time": "2020-10-19T11:40:25.665915",
     "exception": false,
     "start_time": "2020-10-19T11:40:24.778324",
     "status": "completed"
    },
    "tags": []
   },
   "outputs": [],
   "source": [
    "#train_features = pd.read_csv('../input/lish-moa/train_features.csv')\n",
    "#train_targets_scored = pd.read_csv('../input/lish-moa/train_targets_scored.csv')\n",
    "#train_targets_nonscored = pd.read_csv('../input/lish-moa/train_targets_nonscored.csv')\n",
    "test_features = pd.read_csv('../input/lish-moa/test_features.csv')\n",
    "submission = pd.read_csv('../input/lish-moa/sample_submission.csv')"
   ]
  },
  {
   "cell_type": "markdown",
   "metadata": {
    "papermill": {
     "duration": 0.012898,
     "end_time": "2020-10-19T11:40:25.692369",
     "exception": false,
     "start_time": "2020-10-19T11:40:25.679471",
     "status": "completed"
    },
    "tags": []
   },
   "source": [
    "# preprocessing"
   ]
  },
  {
   "cell_type": "code",
   "execution_count": 4,
   "metadata": {
    "execution": {
     "iopub.execute_input": "2020-10-19T11:40:25.739322Z",
     "iopub.status.busy": "2020-10-19T11:40:25.726261Z",
     "iopub.status.idle": "2020-10-19T11:40:25.749708Z",
     "shell.execute_reply": "2020-10-19T11:40:25.749173Z"
    },
    "papermill": {
     "duration": 0.044595,
     "end_time": "2020-10-19T11:40:25.749811",
     "exception": false,
     "start_time": "2020-10-19T11:40:25.705216",
     "status": "completed"
    },
    "tags": []
   },
   "outputs": [],
   "source": [
    "#train = train[train['cp_type']!='ctl_vehicle'].reset_index(drop=True)\n",
    "test = test_features[test_features['cp_type']!='ctl_vehicle'].reset_index(drop=True)"
   ]
  },
  {
   "cell_type": "markdown",
   "metadata": {
    "papermill": {
     "duration": 0.012905,
     "end_time": "2020-10-19T11:40:25.776048",
     "exception": false,
     "start_time": "2020-10-19T11:40:25.763143",
     "status": "completed"
    },
    "tags": []
   },
   "source": [
    "# Dataset"
   ]
  },
  {
   "cell_type": "code",
   "execution_count": 5,
   "metadata": {
    "execution": {
     "iopub.execute_input": "2020-10-19T11:40:25.809457Z",
     "iopub.status.busy": "2020-10-19T11:40:25.808806Z",
     "iopub.status.idle": "2020-10-19T11:40:25.812311Z",
     "shell.execute_reply": "2020-10-19T11:40:25.811829Z"
    },
    "papermill": {
     "duration": 0.023252,
     "end_time": "2020-10-19T11:40:25.812407",
     "exception": false,
     "start_time": "2020-10-19T11:40:25.789155",
     "status": "completed"
    },
    "tags": []
   },
   "outputs": [],
   "source": [
    "class TestDataset(Dataset):\n",
    "    def __init__(self, df, num_features, cat_features):\n",
    "        self.cont_values = df[num_features].values\n",
    "        self.cate_values = df[cat_features].values\n",
    "        \n",
    "    def __len__(self):\n",
    "        return len(self.cont_values)\n",
    "\n",
    "    def __getitem__(self, idx):\n",
    "        cont_x = torch.FloatTensor(self.cont_values[idx])\n",
    "        cate_x = torch.LongTensor(self.cate_values[idx])\n",
    "        \n",
    "        return cont_x, cate_x"
   ]
  },
  {
   "cell_type": "code",
   "execution_count": 6,
   "metadata": {
    "execution": {
     "iopub.execute_input": "2020-10-19T11:40:25.993550Z",
     "iopub.status.busy": "2020-10-19T11:40:25.991197Z",
     "iopub.status.idle": "2020-10-19T11:40:25.997912Z",
     "shell.execute_reply": "2020-10-19T11:40:25.996564Z"
    },
    "papermill": {
     "duration": 0.172548,
     "end_time": "2020-10-19T11:40:25.998018",
     "exception": false,
     "start_time": "2020-10-19T11:40:25.825470",
     "status": "completed"
    },
    "tags": []
   },
   "outputs": [],
   "source": [
    "target_cols = [c for c in submission.columns if c not in ['sig_id']]\n",
    "cat_features = ['cp_time', 'cp_dose']\n",
    "num_features = [c for c in test.columns if test.dtypes[c] != 'object']\n",
    "num_features = [c for c in num_features if c not in cat_features]\n",
    "num_features = [c for c in num_features if c not in target_cols]\n",
    "target = submission[target_cols].values\n",
    "\n",
    "def cate2num(df):\n",
    "    df['cp_time'] = df['cp_time'].map({24: 0, 48: 1, 72: 2})\n",
    "    df['cp_dose'] = df['cp_dose'].map({'D1': 3, 'D2': 4})\n",
    "    return df\n",
    "\n",
    "#train = cate2num(train)\n",
    "test = cate2num(test)"
   ]
  },
  {
   "cell_type": "markdown",
   "metadata": {
    "papermill": {
     "duration": 0.013103,
     "end_time": "2020-10-19T11:40:26.024973",
     "exception": false,
     "start_time": "2020-10-19T11:40:26.011870",
     "status": "completed"
    },
    "tags": []
   },
   "source": [
    "# Model"
   ]
  },
  {
   "cell_type": "code",
   "execution_count": 7,
   "metadata": {
    "execution": {
     "iopub.execute_input": "2020-10-19T11:40:26.059130Z",
     "iopub.status.busy": "2020-10-19T11:40:26.057321Z",
     "iopub.status.idle": "2020-10-19T11:40:26.059791Z",
     "shell.execute_reply": "2020-10-19T11:40:26.060261Z"
    },
    "papermill": {
     "duration": 0.021845,
     "end_time": "2020-10-19T11:40:26.060371",
     "exception": false,
     "start_time": "2020-10-19T11:40:26.038526",
     "status": "completed"
    },
    "tags": []
   },
   "outputs": [],
   "source": [
    "class CFG:\n",
    "    max_grad_norm=1000\n",
    "    gradient_accumulation_steps=1\n",
    "    hidden_size=512\n",
    "    dropout=0.5\n",
    "    lr=1e-2\n",
    "    weight_decay=1e-6\n",
    "    batch_size=32\n",
    "    epochs=20\n",
    "    #total_cate_size=5\n",
    "    #emb_size=4\n",
    "    num_features=num_features\n",
    "    cat_features=cat_features\n",
    "    target_cols=target_cols"
   ]
  },
  {
   "cell_type": "code",
   "execution_count": 8,
   "metadata": {
    "execution": {
     "iopub.execute_input": "2020-10-19T11:40:26.120370Z",
     "iopub.status.busy": "2020-10-19T11:40:26.119427Z",
     "iopub.status.idle": "2020-10-19T11:40:26.127230Z",
     "shell.execute_reply": "2020-10-19T11:40:26.128319Z"
    },
    "papermill": {
     "duration": 0.05391,
     "end_time": "2020-10-19T11:40:26.128501",
     "exception": false,
     "start_time": "2020-10-19T11:40:26.074591",
     "status": "completed"
    },
    "tags": []
   },
   "outputs": [],
   "source": [
    "class TabularNN(nn.Module):\n",
    "    def __init__(self, cfg):\n",
    "        super().__init__()\n",
    "        self.mlp = nn.Sequential(\n",
    "                          nn.Linear(len(cfg.num_features), cfg.hidden_size),\n",
    "                          nn.BatchNorm1d(cfg.hidden_size),\n",
    "                          nn.Dropout(cfg.dropout),\n",
    "                          nn.PReLU(),\n",
    "                          nn.Linear(cfg.hidden_size, cfg.hidden_size),\n",
    "                          nn.BatchNorm1d(cfg.hidden_size),\n",
    "                          nn.Dropout(cfg.dropout),\n",
    "                          nn.PReLU(),\n",
    "                          nn.Linear(cfg.hidden_size, len(cfg.target_cols)),\n",
    "                          )\n",
    "\n",
    "    def forward(self, cont_x, cate_x):\n",
    "        # no use of cate_x yet\n",
    "        x = self.mlp(cont_x)\n",
    "        return x"
   ]
  },
  {
   "cell_type": "markdown",
   "metadata": {
    "papermill": {
     "duration": 0.013643,
     "end_time": "2020-10-19T11:40:26.161546",
     "exception": false,
     "start_time": "2020-10-19T11:40:26.147903",
     "status": "completed"
    },
    "tags": []
   },
   "source": [
    "# Evaluation"
   ]
  },
  {
   "cell_type": "code",
   "execution_count": 9,
   "metadata": {
    "execution": {
     "iopub.execute_input": "2020-10-19T11:40:26.194475Z",
     "iopub.status.busy": "2020-10-19T11:40:26.193591Z",
     "iopub.status.idle": "2020-10-19T11:40:26.196229Z",
     "shell.execute_reply": "2020-10-19T11:40:26.195769Z"
    },
    "papermill": {
     "duration": 0.020824,
     "end_time": "2020-10-19T11:40:26.196334",
     "exception": false,
     "start_time": "2020-10-19T11:40:26.175510",
     "status": "completed"
    },
    "tags": []
   },
   "outputs": [],
   "source": [
    "model_path = '../input/baseline-nn/fold0_seed0.pth'"
   ]
  },
  {
   "cell_type": "code",
   "execution_count": 10,
   "metadata": {
    "execution": {
     "iopub.execute_input": "2020-10-19T11:40:26.231106Z",
     "iopub.status.busy": "2020-10-19T11:40:26.230392Z",
     "iopub.status.idle": "2020-10-19T11:40:26.234287Z",
     "shell.execute_reply": "2020-10-19T11:40:26.233739Z"
    },
    "papermill": {
     "duration": 0.024285,
     "end_time": "2020-10-19T11:40:26.234386",
     "exception": false,
     "start_time": "2020-10-19T11:40:26.210101",
     "status": "completed"
    },
    "tags": []
   },
   "outputs": [],
   "source": [
    "def inference_fn(test_loader, model, device):\n",
    "\n",
    "    model.eval()\n",
    "    preds = []\n",
    "\n",
    "    for step, (cont_x, cate_x) in enumerate(test_loader):\n",
    "\n",
    "        cont_x,  cate_x = cont_x.to(device), cate_x.to(device)\n",
    "\n",
    "        with torch.no_grad():\n",
    "            pred = model(cont_x, cate_x)\n",
    "\n",
    "        preds.append(pred.sigmoid().detach().cpu().numpy())\n",
    "\n",
    "    preds = np.concatenate(preds)\n",
    "\n",
    "    return preds"
   ]
  },
  {
   "cell_type": "code",
   "execution_count": 11,
   "metadata": {
    "_cell_guid": "b1076dfc-b9ad-4769-8c92-a6c4dae69d19",
    "_uuid": "8f2839f25d086af736a60e9eeb907d3b93b6e0e5",
    "execution": {
     "iopub.execute_input": "2020-10-19T11:40:26.272842Z",
     "iopub.status.busy": "2020-10-19T11:40:26.272119Z",
     "iopub.status.idle": "2020-10-19T11:40:26.275291Z",
     "shell.execute_reply": "2020-10-19T11:40:26.275739Z"
    },
    "papermill": {
     "duration": 0.024166,
     "end_time": "2020-10-19T11:40:26.275851",
     "exception": false,
     "start_time": "2020-10-19T11:40:26.251685",
     "status": "completed"
    },
    "tags": []
   },
   "outputs": [],
   "source": [
    "def run_single_nn_evaluation(cfg, model_path, test, num_features, cat_features, target, device):\n",
    "    # predictions\n",
    "    test_dataset = TestDataset(test, num_features, cat_features)\n",
    "    test_loader = DataLoader(test_dataset, batch_size=cfg.batch_size, shuffle=False, \n",
    "                             num_workers=4, pin_memory=True)\n",
    "    model = TabularNN(cfg)\n",
    "    model.load_state_dict(torch.load(model_path))\n",
    "    model.to(device)\n",
    "    predictions = inference_fn(test_loader, model, device)\n",
    "    \n",
    "    # del\n",
    "    torch.cuda.empty_cache()\n",
    "    return predictions"
   ]
  },
  {
   "cell_type": "code",
   "execution_count": 12,
   "metadata": {
    "_cell_guid": "79c7e3d0-c299-4dcb-8224-4455121ee9b0",
    "_uuid": "d629ff2d2480ee46fbb7e2d37f6b5fab8052498a",
    "execution": {
     "iopub.execute_input": "2020-10-19T11:40:26.322421Z",
     "iopub.status.busy": "2020-10-19T11:40:26.309489Z",
     "iopub.status.idle": "2020-10-19T11:40:31.947792Z",
     "shell.execute_reply": "2020-10-19T11:40:31.947168Z"
    },
    "papermill": {
     "duration": 5.658155,
     "end_time": "2020-10-19T11:40:31.947912",
     "exception": false,
     "start_time": "2020-10-19T11:40:26.289757",
     "status": "completed"
    },
    "tags": []
   },
   "outputs": [],
   "source": [
    "prediction = run_single_nn_evaluation(cfg=CFG,\n",
    "                                      model_path=model_path,\n",
    "                                      test=test,\n",
    "                                      num_features=num_features,\n",
    "                                      cat_features=cat_features,\n",
    "                                      target=target,\n",
    "                                      device=device)"
   ]
  },
  {
   "cell_type": "code",
   "execution_count": 13,
   "metadata": {
    "execution": {
     "iopub.execute_input": "2020-10-19T11:40:32.059273Z",
     "iopub.status.busy": "2020-10-19T11:40:32.039254Z",
     "iopub.status.idle": "2020-10-19T11:40:34.637219Z",
     "shell.execute_reply": "2020-10-19T11:40:34.636270Z"
    },
    "papermill": {
     "duration": 2.673652,
     "end_time": "2020-10-19T11:40:34.637326",
     "exception": false,
     "start_time": "2020-10-19T11:40:31.963674",
     "status": "completed"
    },
    "tags": []
   },
   "outputs": [
    {
     "data": {
      "text/html": [
       "<div>\n",
       "<style scoped>\n",
       "    .dataframe tbody tr th:only-of-type {\n",
       "        vertical-align: middle;\n",
       "    }\n",
       "\n",
       "    .dataframe tbody tr th {\n",
       "        vertical-align: top;\n",
       "    }\n",
       "\n",
       "    .dataframe thead th {\n",
       "        text-align: right;\n",
       "    }\n",
       "</style>\n",
       "<table border=\"1\" class=\"dataframe\">\n",
       "  <thead>\n",
       "    <tr style=\"text-align: right;\">\n",
       "      <th></th>\n",
       "      <th>sig_id</th>\n",
       "      <th>5-alpha_reductase_inhibitor</th>\n",
       "      <th>11-beta-hsd1_inhibitor</th>\n",
       "      <th>acat_inhibitor</th>\n",
       "      <th>acetylcholine_receptor_agonist</th>\n",
       "      <th>acetylcholine_receptor_antagonist</th>\n",
       "      <th>acetylcholinesterase_inhibitor</th>\n",
       "      <th>adenosine_receptor_agonist</th>\n",
       "      <th>adenosine_receptor_antagonist</th>\n",
       "      <th>adenylyl_cyclase_activator</th>\n",
       "      <th>...</th>\n",
       "      <th>tropomyosin_receptor_kinase_inhibitor</th>\n",
       "      <th>trpv_agonist</th>\n",
       "      <th>trpv_antagonist</th>\n",
       "      <th>tubulin_inhibitor</th>\n",
       "      <th>tyrosine_kinase_inhibitor</th>\n",
       "      <th>ubiquitin_specific_protease_inhibitor</th>\n",
       "      <th>vegfr_inhibitor</th>\n",
       "      <th>vitamin_b</th>\n",
       "      <th>vitamin_d_receptor_agonist</th>\n",
       "      <th>wnt_inhibitor</th>\n",
       "    </tr>\n",
       "  </thead>\n",
       "  <tbody>\n",
       "    <tr>\n",
       "      <th>0</th>\n",
       "      <td>id_0004d9e33</td>\n",
       "      <td>0.000632</td>\n",
       "      <td>0.000998</td>\n",
       "      <td>0.002375</td>\n",
       "      <td>0.012234</td>\n",
       "      <td>0.017378</td>\n",
       "      <td>0.008190</td>\n",
       "      <td>0.001006</td>\n",
       "      <td>0.003046</td>\n",
       "      <td>0.000023</td>\n",
       "      <td>...</td>\n",
       "      <td>0.000642</td>\n",
       "      <td>0.001435</td>\n",
       "      <td>0.006101</td>\n",
       "      <td>0.000287</td>\n",
       "      <td>0.000221</td>\n",
       "      <td>0.000573</td>\n",
       "      <td>0.000336</td>\n",
       "      <td>0.000846</td>\n",
       "      <td>0.000888</td>\n",
       "      <td>0.000579</td>\n",
       "    </tr>\n",
       "    <tr>\n",
       "      <th>1</th>\n",
       "      <td>id_001897cda</td>\n",
       "      <td>0.000368</td>\n",
       "      <td>0.000597</td>\n",
       "      <td>0.002870</td>\n",
       "      <td>0.001922</td>\n",
       "      <td>0.001658</td>\n",
       "      <td>0.000784</td>\n",
       "      <td>0.005734</td>\n",
       "      <td>0.008512</td>\n",
       "      <td>0.003946</td>\n",
       "      <td>...</td>\n",
       "      <td>0.000807</td>\n",
       "      <td>0.000824</td>\n",
       "      <td>0.005752</td>\n",
       "      <td>0.000095</td>\n",
       "      <td>0.006063</td>\n",
       "      <td>0.000439</td>\n",
       "      <td>0.006928</td>\n",
       "      <td>0.001008</td>\n",
       "      <td>0.001566</td>\n",
       "      <td>0.004303</td>\n",
       "    </tr>\n",
       "    <tr>\n",
       "      <th>2</th>\n",
       "      <td>id_002429b5b</td>\n",
       "      <td>0.000000</td>\n",
       "      <td>0.000000</td>\n",
       "      <td>0.000000</td>\n",
       "      <td>0.000000</td>\n",
       "      <td>0.000000</td>\n",
       "      <td>0.000000</td>\n",
       "      <td>0.000000</td>\n",
       "      <td>0.000000</td>\n",
       "      <td>0.000000</td>\n",
       "      <td>...</td>\n",
       "      <td>0.000000</td>\n",
       "      <td>0.000000</td>\n",
       "      <td>0.000000</td>\n",
       "      <td>0.000000</td>\n",
       "      <td>0.000000</td>\n",
       "      <td>0.000000</td>\n",
       "      <td>0.000000</td>\n",
       "      <td>0.000000</td>\n",
       "      <td>0.000000</td>\n",
       "      <td>0.000000</td>\n",
       "    </tr>\n",
       "    <tr>\n",
       "      <th>3</th>\n",
       "      <td>id_00276f245</td>\n",
       "      <td>0.000311</td>\n",
       "      <td>0.000278</td>\n",
       "      <td>0.001710</td>\n",
       "      <td>0.017883</td>\n",
       "      <td>0.010523</td>\n",
       "      <td>0.004510</td>\n",
       "      <td>0.002531</td>\n",
       "      <td>0.003876</td>\n",
       "      <td>0.000039</td>\n",
       "      <td>...</td>\n",
       "      <td>0.000397</td>\n",
       "      <td>0.000360</td>\n",
       "      <td>0.001353</td>\n",
       "      <td>0.014400</td>\n",
       "      <td>0.007123</td>\n",
       "      <td>0.000272</td>\n",
       "      <td>0.000452</td>\n",
       "      <td>0.001606</td>\n",
       "      <td>0.000226</td>\n",
       "      <td>0.002699</td>\n",
       "    </tr>\n",
       "    <tr>\n",
       "      <th>4</th>\n",
       "      <td>id_0027f1083</td>\n",
       "      <td>0.001637</td>\n",
       "      <td>0.002682</td>\n",
       "      <td>0.002980</td>\n",
       "      <td>0.009802</td>\n",
       "      <td>0.014779</td>\n",
       "      <td>0.002861</td>\n",
       "      <td>0.010281</td>\n",
       "      <td>0.000828</td>\n",
       "      <td>0.000093</td>\n",
       "      <td>...</td>\n",
       "      <td>0.000680</td>\n",
       "      <td>0.000813</td>\n",
       "      <td>0.010847</td>\n",
       "      <td>0.006458</td>\n",
       "      <td>0.000586</td>\n",
       "      <td>0.000872</td>\n",
       "      <td>0.000129</td>\n",
       "      <td>0.001595</td>\n",
       "      <td>0.000080</td>\n",
       "      <td>0.000453</td>\n",
       "    </tr>\n",
       "  </tbody>\n",
       "</table>\n",
       "<p>5 rows × 207 columns</p>\n",
       "</div>"
      ],
      "text/plain": [
       "         sig_id  5-alpha_reductase_inhibitor  11-beta-hsd1_inhibitor  \\\n",
       "0  id_0004d9e33                     0.000632                0.000998   \n",
       "1  id_001897cda                     0.000368                0.000597   \n",
       "2  id_002429b5b                     0.000000                0.000000   \n",
       "3  id_00276f245                     0.000311                0.000278   \n",
       "4  id_0027f1083                     0.001637                0.002682   \n",
       "\n",
       "   acat_inhibitor  acetylcholine_receptor_agonist  \\\n",
       "0        0.002375                        0.012234   \n",
       "1        0.002870                        0.001922   \n",
       "2        0.000000                        0.000000   \n",
       "3        0.001710                        0.017883   \n",
       "4        0.002980                        0.009802   \n",
       "\n",
       "   acetylcholine_receptor_antagonist  acetylcholinesterase_inhibitor  \\\n",
       "0                           0.017378                        0.008190   \n",
       "1                           0.001658                        0.000784   \n",
       "2                           0.000000                        0.000000   \n",
       "3                           0.010523                        0.004510   \n",
       "4                           0.014779                        0.002861   \n",
       "\n",
       "   adenosine_receptor_agonist  adenosine_receptor_antagonist  \\\n",
       "0                    0.001006                       0.003046   \n",
       "1                    0.005734                       0.008512   \n",
       "2                    0.000000                       0.000000   \n",
       "3                    0.002531                       0.003876   \n",
       "4                    0.010281                       0.000828   \n",
       "\n",
       "   adenylyl_cyclase_activator  ...  tropomyosin_receptor_kinase_inhibitor  \\\n",
       "0                    0.000023  ...                               0.000642   \n",
       "1                    0.003946  ...                               0.000807   \n",
       "2                    0.000000  ...                               0.000000   \n",
       "3                    0.000039  ...                               0.000397   \n",
       "4                    0.000093  ...                               0.000680   \n",
       "\n",
       "   trpv_agonist  trpv_antagonist  tubulin_inhibitor  \\\n",
       "0      0.001435         0.006101           0.000287   \n",
       "1      0.000824         0.005752           0.000095   \n",
       "2      0.000000         0.000000           0.000000   \n",
       "3      0.000360         0.001353           0.014400   \n",
       "4      0.000813         0.010847           0.006458   \n",
       "\n",
       "   tyrosine_kinase_inhibitor  ubiquitin_specific_protease_inhibitor  \\\n",
       "0                   0.000221                               0.000573   \n",
       "1                   0.006063                               0.000439   \n",
       "2                   0.000000                               0.000000   \n",
       "3                   0.007123                               0.000272   \n",
       "4                   0.000586                               0.000872   \n",
       "\n",
       "   vegfr_inhibitor  vitamin_b  vitamin_d_receptor_agonist  wnt_inhibitor  \n",
       "0         0.000336   0.000846                    0.000888       0.000579  \n",
       "1         0.006928   0.001008                    0.001566       0.004303  \n",
       "2         0.000000   0.000000                    0.000000       0.000000  \n",
       "3         0.000452   0.001606                    0.000226       0.002699  \n",
       "4         0.000129   0.001595                    0.000080       0.000453  \n",
       "\n",
       "[5 rows x 207 columns]"
      ]
     },
     "execution_count": 13,
     "metadata": {},
     "output_type": "execute_result"
    }
   ],
   "source": [
    "test[target_cols] = prediction\n",
    "sub = submission.drop(columns=target_cols).merge(test[['sig_id']+target_cols], on='sig_id', how='left').fillna(0)\n",
    "sub.to_csv('submission.csv', index=False)\n",
    "sub.head()"
   ]
  }
 ],
 "metadata": {
  "kernelspec": {
   "display_name": "Python 3",
   "language": "python",
   "name": "python3"
  },
  "language_info": {
   "codemirror_mode": {
    "name": "ipython",
    "version": 3
   },
   "file_extension": ".py",
   "mimetype": "text/x-python",
   "name": "python",
   "nbconvert_exporter": "python",
   "pygments_lexer": "ipython3",
   "version": "3.7.7"
  },
  "papermill": {
   "duration": 17.484308,
   "end_time": "2020-10-19T11:40:35.161991",
   "environment_variables": {},
   "exception": null,
   "input_path": "__notebook__.ipynb",
   "output_path": "__notebook__.ipynb",
   "parameters": {},
   "start_time": "2020-10-19T11:40:17.677683",
   "version": "2.1.0"
  },
  "toc": {
   "base_numbering": 1,
   "nav_menu": {},
   "number_sections": true,
   "sideBar": true,
   "skip_h1_title": false,
   "title_cell": "Table of Contents",
   "title_sidebar": "Contents",
   "toc_cell": false,
   "toc_position": {},
   "toc_section_display": true,
   "toc_window_display": false
  }
 },
 "nbformat": 4,
 "nbformat_minor": 4
}
